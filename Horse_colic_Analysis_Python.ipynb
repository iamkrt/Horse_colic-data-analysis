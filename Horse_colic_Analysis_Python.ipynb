{
 "cells": [
  {
   "cell_type": "code",
   "execution_count": 1,
   "metadata": {},
   "outputs": [],
   "source": [
    "import numpy as np\n",
    "import pandas as pd\n",
    "import seaborn as sns\n",
    "import matplotlib.pyplot as plt\n",
    "%matplotlib inline"
   ]
  },
  {
   "cell_type": "code",
   "execution_count": 2,
   "metadata": {},
   "outputs": [],
   "source": [
    "import warnings\n",
    "warnings.filterwarnings('ignore')"
   ]
  },
  {
   "cell_type": "code",
   "execution_count": 3,
   "metadata": {},
   "outputs": [],
   "source": [
    "pd.set_option('display.max_rows', None)"
   ]
  },
  {
   "cell_type": "markdown",
   "metadata": {},
   "source": [
    "# Importing the Dataset"
   ]
  },
  {
   "cell_type": "code",
   "execution_count": 4,
   "metadata": {},
   "outputs": [
    {
     "data": {
      "text/html": [
       "<div>\n",
       "<style scoped>\n",
       "    .dataframe tbody tr th:only-of-type {\n",
       "        vertical-align: middle;\n",
       "    }\n",
       "\n",
       "    .dataframe tbody tr th {\n",
       "        vertical-align: top;\n",
       "    }\n",
       "\n",
       "    .dataframe thead th {\n",
       "        text-align: right;\n",
       "    }\n",
       "</style>\n",
       "<table border=\"1\" class=\"dataframe\">\n",
       "  <thead>\n",
       "    <tr style=\"text-align: right;\">\n",
       "      <th></th>\n",
       "      <th>surgery</th>\n",
       "      <th>Age</th>\n",
       "      <th>Hospital Number</th>\n",
       "      <th>rectal temperature</th>\n",
       "      <th>pulse</th>\n",
       "      <th>respiratory rate</th>\n",
       "      <th>temperature of extremities</th>\n",
       "      <th>peripheral pulse</th>\n",
       "      <th>mucous membranes</th>\n",
       "      <th>capillary refill time</th>\n",
       "      <th>...</th>\n",
       "      <th>packed cell volume</th>\n",
       "      <th>total protein</th>\n",
       "      <th>abdominocentesis appearance</th>\n",
       "      <th>abdomcentesis total protein</th>\n",
       "      <th>outcome</th>\n",
       "      <th>surgical lesion</th>\n",
       "      <th>type of lesion 1</th>\n",
       "      <th>type of lesion 2</th>\n",
       "      <th>type of lesion 3</th>\n",
       "      <th>cp_data</th>\n",
       "    </tr>\n",
       "  </thead>\n",
       "  <tbody>\n",
       "    <tr>\n",
       "      <th>0</th>\n",
       "      <td>2</td>\n",
       "      <td>1</td>\n",
       "      <td>530101</td>\n",
       "      <td>38.5</td>\n",
       "      <td>66</td>\n",
       "      <td>28</td>\n",
       "      <td>3</td>\n",
       "      <td>3</td>\n",
       "      <td>?</td>\n",
       "      <td>2</td>\n",
       "      <td>...</td>\n",
       "      <td>45</td>\n",
       "      <td>8.4</td>\n",
       "      <td>?</td>\n",
       "      <td>?</td>\n",
       "      <td>2</td>\n",
       "      <td>2</td>\n",
       "      <td>11300</td>\n",
       "      <td>0</td>\n",
       "      <td>0</td>\n",
       "      <td>2</td>\n",
       "    </tr>\n",
       "    <tr>\n",
       "      <th>1</th>\n",
       "      <td>1</td>\n",
       "      <td>1</td>\n",
       "      <td>534817</td>\n",
       "      <td>39.2</td>\n",
       "      <td>88</td>\n",
       "      <td>20</td>\n",
       "      <td>?</td>\n",
       "      <td>?</td>\n",
       "      <td>4</td>\n",
       "      <td>1</td>\n",
       "      <td>...</td>\n",
       "      <td>50</td>\n",
       "      <td>85</td>\n",
       "      <td>2</td>\n",
       "      <td>2</td>\n",
       "      <td>3</td>\n",
       "      <td>2</td>\n",
       "      <td>2208</td>\n",
       "      <td>0</td>\n",
       "      <td>0</td>\n",
       "      <td>2</td>\n",
       "    </tr>\n",
       "    <tr>\n",
       "      <th>2</th>\n",
       "      <td>2</td>\n",
       "      <td>1</td>\n",
       "      <td>530334</td>\n",
       "      <td>38.3</td>\n",
       "      <td>40</td>\n",
       "      <td>24</td>\n",
       "      <td>1</td>\n",
       "      <td>1</td>\n",
       "      <td>3</td>\n",
       "      <td>1</td>\n",
       "      <td>...</td>\n",
       "      <td>33</td>\n",
       "      <td>6.7</td>\n",
       "      <td>?</td>\n",
       "      <td>?</td>\n",
       "      <td>1</td>\n",
       "      <td>2</td>\n",
       "      <td>0</td>\n",
       "      <td>0</td>\n",
       "      <td>0</td>\n",
       "      <td>1</td>\n",
       "    </tr>\n",
       "    <tr>\n",
       "      <th>3</th>\n",
       "      <td>1</td>\n",
       "      <td>9</td>\n",
       "      <td>5290409</td>\n",
       "      <td>39.1</td>\n",
       "      <td>164</td>\n",
       "      <td>84</td>\n",
       "      <td>4</td>\n",
       "      <td>1</td>\n",
       "      <td>6</td>\n",
       "      <td>2</td>\n",
       "      <td>...</td>\n",
       "      <td>48</td>\n",
       "      <td>7.2</td>\n",
       "      <td>3</td>\n",
       "      <td>5.3</td>\n",
       "      <td>2</td>\n",
       "      <td>1</td>\n",
       "      <td>2208</td>\n",
       "      <td>0</td>\n",
       "      <td>0</td>\n",
       "      <td>1</td>\n",
       "    </tr>\n",
       "    <tr>\n",
       "      <th>4</th>\n",
       "      <td>2</td>\n",
       "      <td>1</td>\n",
       "      <td>530255</td>\n",
       "      <td>37.3</td>\n",
       "      <td>104</td>\n",
       "      <td>35</td>\n",
       "      <td>?</td>\n",
       "      <td>?</td>\n",
       "      <td>6</td>\n",
       "      <td>2</td>\n",
       "      <td>...</td>\n",
       "      <td>74</td>\n",
       "      <td>7.4</td>\n",
       "      <td>?</td>\n",
       "      <td>?</td>\n",
       "      <td>2</td>\n",
       "      <td>2</td>\n",
       "      <td>4300</td>\n",
       "      <td>0</td>\n",
       "      <td>0</td>\n",
       "      <td>2</td>\n",
       "    </tr>\n",
       "  </tbody>\n",
       "</table>\n",
       "<p>5 rows × 28 columns</p>\n",
       "</div>"
      ],
      "text/plain": [
       "  surgery  Age  Hospital Number rectal temperature pulse respiratory rate  \\\n",
       "0       2    1           530101               38.5    66               28   \n",
       "1       1    1           534817               39.2    88               20   \n",
       "2       2    1           530334               38.3    40               24   \n",
       "3       1    9          5290409               39.1   164               84   \n",
       "4       2    1           530255               37.3   104               35   \n",
       "\n",
       "  temperature of extremities peripheral pulse mucous membranes  \\\n",
       "0                          3                3                ?   \n",
       "1                          ?                ?                4   \n",
       "2                          1                1                3   \n",
       "3                          4                1                6   \n",
       "4                          ?                ?                6   \n",
       "\n",
       "  capillary refill time  ... packed cell volume total protein  \\\n",
       "0                     2  ...                 45           8.4   \n",
       "1                     1  ...                 50            85   \n",
       "2                     1  ...                 33           6.7   \n",
       "3                     2  ...                 48           7.2   \n",
       "4                     2  ...                 74           7.4   \n",
       "\n",
       "  abdominocentesis appearance abdomcentesis total protein outcome  \\\n",
       "0                           ?                           ?       2   \n",
       "1                           2                           2       3   \n",
       "2                           ?                           ?       1   \n",
       "3                           3                         5.3       2   \n",
       "4                           ?                           ?       2   \n",
       "\n",
       "  surgical lesion type of lesion 1 type of lesion 2 type of lesion 3 cp_data  \n",
       "0               2            11300                0                0       2  \n",
       "1               2             2208                0                0       2  \n",
       "2               2                0                0                0       1  \n",
       "3               1             2208                0                0       1  \n",
       "4               2             4300                0                0       2  \n",
       "\n",
       "[5 rows x 28 columns]"
      ]
     },
     "execution_count": 4,
     "metadata": {},
     "output_type": "execute_result"
    }
   ],
   "source": [
    "#read dataset into a df\n",
    "df=pd.read_csv(\"horse-colic.csv\")\n",
    "df.head()"
   ]
  },
  {
   "cell_type": "markdown",
   "metadata": {},
   "source": [
    "# Exploratory Data Analysis"
   ]
  },
  {
   "cell_type": "code",
   "execution_count": 5,
   "metadata": {},
   "outputs": [
    {
     "name": "stdout",
     "output_type": "stream",
     "text": [
      "<class 'pandas.core.frame.DataFrame'>\n",
      "RangeIndex: 300 entries, 0 to 299\n",
      "Data columns (total 28 columns):\n",
      " #   Column                       Non-Null Count  Dtype \n",
      "---  ------                       --------------  ----- \n",
      " 0   surgery                      300 non-null    object\n",
      " 1   Age                          300 non-null    int64 \n",
      " 2   Hospital Number              300 non-null    int64 \n",
      " 3   rectal temperature           300 non-null    object\n",
      " 4   pulse                        300 non-null    object\n",
      " 5   respiratory rate             300 non-null    object\n",
      " 6   temperature of extremities   300 non-null    object\n",
      " 7   peripheral pulse             300 non-null    object\n",
      " 8   mucous membranes             300 non-null    object\n",
      " 9   capillary refill time        300 non-null    object\n",
      " 10  pain                         300 non-null    object\n",
      " 11  peristalsis                  300 non-null    object\n",
      " 12  abdominal distension         300 non-null    object\n",
      " 13  nasogastric tube             300 non-null    object\n",
      " 14  nasogastric reflux           300 non-null    object\n",
      " 15  nasogastric reflux PH        300 non-null    object\n",
      " 16  rectal examination           300 non-null    object\n",
      " 17  abdomen                      300 non-null    object\n",
      " 18  packed cell volume           300 non-null    object\n",
      " 19  total protein                300 non-null    object\n",
      " 20  abdominocentesis appearance  300 non-null    object\n",
      " 21  abdomcentesis total protein  300 non-null    object\n",
      " 22  outcome                      300 non-null    object\n",
      " 23  surgical lesion              300 non-null    int64 \n",
      " 24  type of lesion 1             300 non-null    int64 \n",
      " 25  type of lesion 2             300 non-null    int64 \n",
      " 26  type of lesion 3             300 non-null    int64 \n",
      " 27  cp_data                      300 non-null    int64 \n",
      "dtypes: int64(7), object(21)\n",
      "memory usage: 65.8+ KB\n"
     ]
    }
   ],
   "source": [
    "#all information  #1st hand\n",
    "df.info()"
   ]
  },
  {
   "cell_type": "code",
   "execution_count": 6,
   "metadata": {},
   "outputs": [
    {
     "data": {
      "text/plain": [
       "(300, 28)"
      ]
     },
     "execution_count": 6,
     "metadata": {},
     "output_type": "execute_result"
    }
   ],
   "source": [
    "#no.f rows*no. f columns\n",
    "df.shape"
   ]
  },
  {
   "cell_type": "code",
   "execution_count": 7,
   "metadata": {
    "scrolled": true
   },
   "outputs": [
    {
     "data": {
      "text/plain": [
       "Index(['surgery', 'Age', 'Hospital Number', 'rectal temperature', 'pulse',\n",
       "       'respiratory rate', 'temperature of extremities', 'peripheral pulse',\n",
       "       'mucous membranes', 'capillary refill time', 'pain', 'peristalsis',\n",
       "       'abdominal distension', 'nasogastric tube', 'nasogastric reflux',\n",
       "       'nasogastric reflux PH', 'rectal examination', 'abdomen',\n",
       "       'packed cell volume', 'total protein', 'abdominocentesis appearance',\n",
       "       'abdomcentesis total protein', 'outcome', 'surgical lesion',\n",
       "       'type of lesion 1', 'type of lesion 2', 'type of lesion 3', 'cp_data'],\n",
       "      dtype='object')"
      ]
     },
     "execution_count": 7,
     "metadata": {},
     "output_type": "execute_result"
    }
   ],
   "source": [
    "df.columns"
   ]
  },
  {
   "cell_type": "code",
   "execution_count": 8,
   "metadata": {
    "scrolled": true
   },
   "outputs": [
    {
     "data": {
      "text/html": [
       "<div>\n",
       "<style scoped>\n",
       "    .dataframe tbody tr th:only-of-type {\n",
       "        vertical-align: middle;\n",
       "    }\n",
       "\n",
       "    .dataframe tbody tr th {\n",
       "        vertical-align: top;\n",
       "    }\n",
       "\n",
       "    .dataframe thead th {\n",
       "        text-align: right;\n",
       "    }\n",
       "</style>\n",
       "<table border=\"1\" class=\"dataframe\">\n",
       "  <thead>\n",
       "    <tr style=\"text-align: right;\">\n",
       "      <th></th>\n",
       "      <th>Age</th>\n",
       "      <th>Hospital Number</th>\n",
       "      <th>surgical lesion</th>\n",
       "      <th>type of lesion 1</th>\n",
       "      <th>type of lesion 2</th>\n",
       "      <th>type of lesion 3</th>\n",
       "      <th>cp_data</th>\n",
       "    </tr>\n",
       "  </thead>\n",
       "  <tbody>\n",
       "    <tr>\n",
       "      <th>count</th>\n",
       "      <td>300.000000</td>\n",
       "      <td>3.000000e+02</td>\n",
       "      <td>300.000000</td>\n",
       "      <td>300.000000</td>\n",
       "      <td>300.000000</td>\n",
       "      <td>300.000000</td>\n",
       "      <td>300.000000</td>\n",
       "    </tr>\n",
       "    <tr>\n",
       "      <th>mean</th>\n",
       "      <td>1.640000</td>\n",
       "      <td>1.085889e+06</td>\n",
       "      <td>1.363333</td>\n",
       "      <td>3657.880000</td>\n",
       "      <td>90.226667</td>\n",
       "      <td>7.363333</td>\n",
       "      <td>1.670000</td>\n",
       "    </tr>\n",
       "    <tr>\n",
       "      <th>std</th>\n",
       "      <td>2.173972</td>\n",
       "      <td>1.529801e+06</td>\n",
       "      <td>0.481763</td>\n",
       "      <td>5399.513513</td>\n",
       "      <td>649.569234</td>\n",
       "      <td>127.536674</td>\n",
       "      <td>0.470998</td>\n",
       "    </tr>\n",
       "    <tr>\n",
       "      <th>min</th>\n",
       "      <td>1.000000</td>\n",
       "      <td>5.184760e+05</td>\n",
       "      <td>1.000000</td>\n",
       "      <td>0.000000</td>\n",
       "      <td>0.000000</td>\n",
       "      <td>0.000000</td>\n",
       "      <td>1.000000</td>\n",
       "    </tr>\n",
       "    <tr>\n",
       "      <th>25%</th>\n",
       "      <td>1.000000</td>\n",
       "      <td>5.289040e+05</td>\n",
       "      <td>1.000000</td>\n",
       "      <td>2111.750000</td>\n",
       "      <td>0.000000</td>\n",
       "      <td>0.000000</td>\n",
       "      <td>1.000000</td>\n",
       "    </tr>\n",
       "    <tr>\n",
       "      <th>50%</th>\n",
       "      <td>1.000000</td>\n",
       "      <td>5.303055e+05</td>\n",
       "      <td>1.000000</td>\n",
       "      <td>2673.500000</td>\n",
       "      <td>0.000000</td>\n",
       "      <td>0.000000</td>\n",
       "      <td>2.000000</td>\n",
       "    </tr>\n",
       "    <tr>\n",
       "      <th>75%</th>\n",
       "      <td>1.000000</td>\n",
       "      <td>5.347275e+05</td>\n",
       "      <td>2.000000</td>\n",
       "      <td>3209.000000</td>\n",
       "      <td>0.000000</td>\n",
       "      <td>0.000000</td>\n",
       "      <td>2.000000</td>\n",
       "    </tr>\n",
       "    <tr>\n",
       "      <th>max</th>\n",
       "      <td>9.000000</td>\n",
       "      <td>5.305629e+06</td>\n",
       "      <td>2.000000</td>\n",
       "      <td>41110.000000</td>\n",
       "      <td>7111.000000</td>\n",
       "      <td>2209.000000</td>\n",
       "      <td>2.000000</td>\n",
       "    </tr>\n",
       "  </tbody>\n",
       "</table>\n",
       "</div>"
      ],
      "text/plain": [
       "              Age  Hospital Number  surgical lesion  type of lesion 1  \\\n",
       "count  300.000000     3.000000e+02       300.000000        300.000000   \n",
       "mean     1.640000     1.085889e+06         1.363333       3657.880000   \n",
       "std      2.173972     1.529801e+06         0.481763       5399.513513   \n",
       "min      1.000000     5.184760e+05         1.000000          0.000000   \n",
       "25%      1.000000     5.289040e+05         1.000000       2111.750000   \n",
       "50%      1.000000     5.303055e+05         1.000000       2673.500000   \n",
       "75%      1.000000     5.347275e+05         2.000000       3209.000000   \n",
       "max      9.000000     5.305629e+06         2.000000      41110.000000   \n",
       "\n",
       "       type of lesion 2  type of lesion 3     cp_data  \n",
       "count        300.000000        300.000000  300.000000  \n",
       "mean          90.226667          7.363333    1.670000  \n",
       "std          649.569234        127.536674    0.470998  \n",
       "min            0.000000          0.000000    1.000000  \n",
       "25%            0.000000          0.000000    1.000000  \n",
       "50%            0.000000          0.000000    2.000000  \n",
       "75%            0.000000          0.000000    2.000000  \n",
       "max         7111.000000       2209.000000    2.000000  "
      ]
     },
     "execution_count": 8,
     "metadata": {},
     "output_type": "execute_result"
    }
   ],
   "source": [
    "# #statistical analysis  of numerical variables\n",
    "df.describe()"
   ]
  },
  {
   "cell_type": "code",
   "execution_count": 9,
   "metadata": {},
   "outputs": [
    {
     "data": {
      "text/html": [
       "<div>\n",
       "<style scoped>\n",
       "    .dataframe tbody tr th:only-of-type {\n",
       "        vertical-align: middle;\n",
       "    }\n",
       "\n",
       "    .dataframe tbody tr th {\n",
       "        vertical-align: top;\n",
       "    }\n",
       "\n",
       "    .dataframe thead th {\n",
       "        text-align: right;\n",
       "    }\n",
       "</style>\n",
       "<table border=\"1\" class=\"dataframe\">\n",
       "  <thead>\n",
       "    <tr style=\"text-align: right;\">\n",
       "      <th></th>\n",
       "      <th>surgery</th>\n",
       "      <th>rectal temperature</th>\n",
       "      <th>pulse</th>\n",
       "      <th>respiratory rate</th>\n",
       "      <th>temperature of extremities</th>\n",
       "      <th>peripheral pulse</th>\n",
       "      <th>mucous membranes</th>\n",
       "      <th>capillary refill time</th>\n",
       "      <th>pain</th>\n",
       "      <th>peristalsis</th>\n",
       "      <th>...</th>\n",
       "      <th>nasogastric tube</th>\n",
       "      <th>nasogastric reflux</th>\n",
       "      <th>nasogastric reflux PH</th>\n",
       "      <th>rectal examination</th>\n",
       "      <th>abdomen</th>\n",
       "      <th>packed cell volume</th>\n",
       "      <th>total protein</th>\n",
       "      <th>abdominocentesis appearance</th>\n",
       "      <th>abdomcentesis total protein</th>\n",
       "      <th>outcome</th>\n",
       "    </tr>\n",
       "  </thead>\n",
       "  <tbody>\n",
       "    <tr>\n",
       "      <th>count</th>\n",
       "      <td>300</td>\n",
       "      <td>300</td>\n",
       "      <td>300</td>\n",
       "      <td>300</td>\n",
       "      <td>300</td>\n",
       "      <td>300</td>\n",
       "      <td>300</td>\n",
       "      <td>300</td>\n",
       "      <td>300</td>\n",
       "      <td>300</td>\n",
       "      <td>...</td>\n",
       "      <td>300</td>\n",
       "      <td>300</td>\n",
       "      <td>300</td>\n",
       "      <td>300</td>\n",
       "      <td>300</td>\n",
       "      <td>300</td>\n",
       "      <td>300</td>\n",
       "      <td>300</td>\n",
       "      <td>300</td>\n",
       "      <td>300</td>\n",
       "    </tr>\n",
       "    <tr>\n",
       "      <th>unique</th>\n",
       "      <td>3</td>\n",
       "      <td>41</td>\n",
       "      <td>53</td>\n",
       "      <td>41</td>\n",
       "      <td>5</td>\n",
       "      <td>5</td>\n",
       "      <td>7</td>\n",
       "      <td>4</td>\n",
       "      <td>6</td>\n",
       "      <td>5</td>\n",
       "      <td>...</td>\n",
       "      <td>4</td>\n",
       "      <td>4</td>\n",
       "      <td>21</td>\n",
       "      <td>5</td>\n",
       "      <td>6</td>\n",
       "      <td>51</td>\n",
       "      <td>82</td>\n",
       "      <td>4</td>\n",
       "      <td>38</td>\n",
       "      <td>4</td>\n",
       "    </tr>\n",
       "    <tr>\n",
       "      <th>top</th>\n",
       "      <td>1</td>\n",
       "      <td>?</td>\n",
       "      <td>48</td>\n",
       "      <td>?</td>\n",
       "      <td>3</td>\n",
       "      <td>1</td>\n",
       "      <td>1</td>\n",
       "      <td>1</td>\n",
       "      <td>3</td>\n",
       "      <td>3</td>\n",
       "      <td>...</td>\n",
       "      <td>?</td>\n",
       "      <td>1</td>\n",
       "      <td>?</td>\n",
       "      <td>?</td>\n",
       "      <td>?</td>\n",
       "      <td>?</td>\n",
       "      <td>?</td>\n",
       "      <td>?</td>\n",
       "      <td>?</td>\n",
       "      <td>1</td>\n",
       "    </tr>\n",
       "    <tr>\n",
       "      <th>freq</th>\n",
       "      <td>180</td>\n",
       "      <td>60</td>\n",
       "      <td>28</td>\n",
       "      <td>58</td>\n",
       "      <td>109</td>\n",
       "      <td>115</td>\n",
       "      <td>79</td>\n",
       "      <td>188</td>\n",
       "      <td>67</td>\n",
       "      <td>128</td>\n",
       "      <td>...</td>\n",
       "      <td>104</td>\n",
       "      <td>120</td>\n",
       "      <td>247</td>\n",
       "      <td>102</td>\n",
       "      <td>118</td>\n",
       "      <td>29</td>\n",
       "      <td>33</td>\n",
       "      <td>165</td>\n",
       "      <td>198</td>\n",
       "      <td>178</td>\n",
       "    </tr>\n",
       "  </tbody>\n",
       "</table>\n",
       "<p>4 rows × 21 columns</p>\n",
       "</div>"
      ],
      "text/plain": [
       "       surgery rectal temperature pulse respiratory rate  \\\n",
       "count      300                300   300              300   \n",
       "unique       3                 41    53               41   \n",
       "top          1                  ?    48                ?   \n",
       "freq       180                 60    28               58   \n",
       "\n",
       "       temperature of extremities peripheral pulse mucous membranes  \\\n",
       "count                         300              300              300   \n",
       "unique                          5                5                7   \n",
       "top                             3                1                1   \n",
       "freq                          109              115               79   \n",
       "\n",
       "       capillary refill time pain peristalsis  ... nasogastric tube  \\\n",
       "count                    300  300         300  ...              300   \n",
       "unique                     4    6           5  ...                4   \n",
       "top                        1    3           3  ...                ?   \n",
       "freq                     188   67         128  ...              104   \n",
       "\n",
       "       nasogastric reflux nasogastric reflux PH rectal examination abdomen  \\\n",
       "count                 300                   300                300     300   \n",
       "unique                  4                    21                  5       6   \n",
       "top                     1                     ?                  ?       ?   \n",
       "freq                  120                   247                102     118   \n",
       "\n",
       "       packed cell volume total protein abdominocentesis appearance  \\\n",
       "count                 300           300                         300   \n",
       "unique                 51            82                           4   \n",
       "top                     ?             ?                           ?   \n",
       "freq                   29            33                         165   \n",
       "\n",
       "       abdomcentesis total protein outcome  \n",
       "count                          300     300  \n",
       "unique                          38       4  \n",
       "top                              ?       1  \n",
       "freq                           198     178  \n",
       "\n",
       "[4 rows x 21 columns]"
      ]
     },
     "execution_count": 9,
     "metadata": {},
     "output_type": "execute_result"
    }
   ],
   "source": [
    "#statistical analysis  of categorical variables\n",
    "df.describe(include='object')"
   ]
  },
  {
   "cell_type": "markdown",
   "metadata": {},
   "source": [
    "### identify target variable\n",
    "##### presence of target makes it \n",
    "## supervised learning"
   ]
  },
  {
   "cell_type": "code",
   "execution_count": 10,
   "metadata": {
    "scrolled": true
   },
   "outputs": [
    {
     "data": {
      "text/plain": [
       "1    178\n",
       "2     77\n",
       "3     44\n",
       "?      1\n",
       "Name: outcome, dtype: int64"
      ]
     },
     "execution_count": 10,
     "metadata": {},
     "output_type": "execute_result"
    }
   ],
   "source": [
    "#checking if classification or regression using target var\n",
    "df['outcome'].value_counts()\n",
    "#multiclass classifcation"
   ]
  },
  {
   "cell_type": "code",
   "execution_count": 11,
   "metadata": {
    "scrolled": true
   },
   "outputs": [
    {
     "data": {
      "text/plain": [
       "0"
      ]
     },
     "execution_count": 11,
     "metadata": {},
     "output_type": "execute_result"
    }
   ],
   "source": [
    "#missing value check\n",
    "df.isnull().sum().sum()"
   ]
  },
  {
   "cell_type": "markdown",
   "metadata": {},
   "source": [
    "#### shows 0 missing values, there is some discrepancy as dataset description says 30% missing values, so checking unique values in columns to identify how missing values are represented"
   ]
  },
  {
   "cell_type": "code",
   "execution_count": 12,
   "metadata": {
    "tags": []
   },
   "outputs": [
    {
     "name": "stdout",
     "output_type": "stream",
     "text": [
      "surgery ['2' '1' '?'] \n",
      "\n",
      "Age [1 9] \n",
      "\n",
      "Hospital Number [ 530101  534817  530334 5290409  530255  528355  526802  529607  530051\n",
      " 5299629  528548  527927  528031 5291329  534917  530233 5301219  526639\n",
      " 5290481  532110  530157  529340  521681  534998  533692  529518  530526\n",
      "  528653 5279442  535415  529475  530242  529427  529663  529796  528812\n",
      "  529493  533847  528996 5277409  529498 5288249  530301  534069  535407\n",
      "  529827  529888  529821  528890  529642  529766  527706  529483  530544\n",
      "  529461 5282839  528872  529640  528298  528904  530438  527957  528630\n",
      "  534293  529667  534885  534784  528931  529777  530276  528214  529424\n",
      " 5299253  528469 5292929  534092  534615  534753  530693  527463  527518\n",
      "  534756 5290759 5279822  529849  529304  529388  528006  529703  535381\n",
      "  534197  530251  530310  528729  535158  530319  534145  534135  530002\n",
      "  535364  534899  534938 5292489  527563  530381  528668  529764  533696\n",
      " 5297379  527544  533736  534963  527933  532349  533723  535208 5290482\n",
      "  533983  535166  528682  534556  534579  530360  529840  528461  530384\n",
      " 5262541  535330  527698  528964  530670  534572  530294  527524 5287179\n",
      "  534324  534491  529960  522979  530402  534519  535246  534115  530001\n",
      "  529272  535314  533793  529399  533836  528804  535163  528247  533928\n",
      "  528248  528134  527916  530431  535176  533942  528523  534925  528299\n",
      "  530254  535085  532985  527677  535292  529729  518476  527929  535130\n",
      "  523190  533968  528151  530239  528305  534857  534053  534833 5278331\n",
      "  527365  533887 5299603  528742 5287279  534788  529373  534163  533697\n",
      "  529628  521399  533885  534157  528047  528641  534073  529685  529528\n",
      "  535137  530297  535338  534478  530401  529893 5294369  528183  529183\n",
      "  529135  528977 5279441  535240  529736  535029  535031  528800  528178\n",
      "  535392  528503 5289419  535196  534597  534280  530028 5262543  528179\n",
      "  533750  528702  534183  529160  529045  530354 5281091 5291409  530366\n",
      "  530170  527709  528169  535043  527940 5291719  530561  533738 5294539\n",
      "  533871  529812  534719  527734  534933  529296 5305629  528743  530478\n",
      "  528590  529865  527829  534403  527883  528570  534626  528638  534624\n",
      " 5297159  534787  528620  528019  529172  534644  530624  527758  530439\n",
      " 5283431 5275212 5305129  529428  529126  535054  530034  534004  533902\n",
      "  533886  527702  529386  530612  534618] \n",
      "\n",
      "rectal temperature ['38.5' '39.2' '38.3' '39.1' '37.3' '?' '37.9' '38.1' '37.2' '38' '38.2'\n",
      " '37.6' '37.5' '39.4' '39.9' '38.4' '38.6' '37.8' '37.7' '39' '35.4'\n",
      " '38.9' '37.4' '40.3' '37' '39.7' '38.7' '36.4' '38.8' '39.6' '36.8'\n",
      " '39.5' '36.5' '36' '37.1' '39.3' '36.1' '36.6' '40.8' '36.9' '40'] \n",
      "\n",
      "pulse ['66' '88' '40' '164' '104' '?' '48' '60' '80' '90' '72' '42' '92' '76'\n",
      " '96' '128' '64' '110' '130' '108' '100' '112' '52' '146' '150' '120'\n",
      " '140' '84' '46' '114' '160' '54' '56' '38' '98' '50' '44' '70' '78' '49'\n",
      " '30' '136' '132' '65' '86' '129' '68' '36' '45' '124' '184' '75' '82'] \n",
      "\n",
      "respiratory rate ['28' '20' '24' '84' '35' '?' '16' '36' '12' '52' '48' '21' '60' '34' '42'\n",
      " '30' '96' '72' '15' '44' '32' '22' '18' '80' '40' '10' '51' '68' '66' '9'\n",
      " '14' '90' '8' '23' '58' '13' '70' '26' '88' '25' '50'] \n",
      "\n",
      "temperature of extremities ['3' '?' '1' '4' '2'] \n",
      "\n",
      "peripheral pulse ['3' '?' '1' '4' '2'] \n",
      "\n",
      "mucous membranes ['?' '4' '3' '6' '1' '5' '2'] \n",
      "\n",
      "capillary refill time ['2' '1' '?' '3'] \n",
      "\n",
      "pain ['5' '3' '2' '?' '4' '1'] \n",
      "\n",
      "peristalsis ['4' '3' '?' '1' '2'] \n",
      "\n",
      "abdominal distension ['4' '2' '1' '?' '3'] \n",
      "\n",
      "nasogastric tube ['?' '1' '2' '3'] \n",
      "\n",
      "nasogastric reflux ['?' '2' '1' '3'] \n",
      "\n",
      "nasogastric reflux PH ['?' '5' '3' '7.2' '4.5' '5.5' '2' '4' '6' '7' '1' '5.7' '1.5' '4.4' '6.5'\n",
      " '6.2' '4.3' '5.3' '7.5' '5.4' '3.5'] \n",
      "\n",
      "rectal examination ['3' '4' '1' '?' '2'] \n",
      "\n",
      "abdomen ['5' '2' '1' '?' '3' '4'] \n",
      "\n",
      "packed cell volume ['45' '50' '33' '48' '74' '?' '37' '44' '38' '40' '46' '53' '55' '49' '51'\n",
      " '43' '66' '52' '73' '56' '32' '63' '47' '57' '60' '65' '54' '41' '24'\n",
      " '42' '64' '26' '58' '69' '36' '68' '59' '34' '39' '67' '31' '75' '35'\n",
      " '30' '23' '70' '71' '31.5' '72' '37.5' '28'] \n",
      "\n",
      "total protein ['8.4' '85' '6.7' '7.2' '7.4' '?' '7' '8.3' '6.2' '6' '7.8' '6.1' '81'\n",
      " '6.8' '8.7' '70' '65' '5.5' '76' '7.5' '8.2' '6.6' '8.6' '80' '6.5' '8.5'\n",
      " '67' '69' '9.1' '7.7' '6.4' '8.1' '5.9' '8' '82' '72' '74' '6.3' '7.6'\n",
      " '4.9' '57' '68' '77' '8.9' '5.7' '4.5' '61' '86' '60' '66' '5.3' '7.3'\n",
      " '64' '58' '56' '75' '10.2' '62' '7.9' '73' '71' '63' '46' '5.8' '53'\n",
      " '4.7' '59' '55' '89' '51' '4' '11' '8.8' '50' '54' '6.9' '4.6' '13' '7.1'\n",
      " '3.3' '9' '5'] \n",
      "\n",
      "abdominocentesis appearance ['?' '2' '3' '1'] \n",
      "\n",
      "abdomcentesis total protein ['?' '2' '5.3' '2.2' '3.6' '4.7' '3.9' '1.3' '7.4' '6.6' '1' '5' '0.1'\n",
      " '4.1' '1.6' '4.5' '6' '7' '2.6' '1.4' '2.3' '3.7' '2.8' '10' '2.9' '5.2'\n",
      " '4.3' '3.4' '3' '10.1' '1.5' '2.1' '8' '4.8' '3.2' '4.4' '2.5' '3.3'] \n",
      "\n",
      "outcome ['2' '3' '1' '?'] \n",
      "\n",
      "surgical lesion [2 1] \n",
      "\n",
      "type of lesion 1 [11300  2208     0  4300  3124  3205  2124  2111  4124  2112  3207  1400\n",
      "  4205  3111  4122  2207  2209  1124  7111  5205  2113  9400  2305  7209\n",
      "  7400  3112  3209  2322 11124  3025  2205  5206   400  5000  5400 31110\n",
      "  2206  5124  7113  6209  3400  6112  6111  1111  2300 21110  4111  3133\n",
      "  5111   300  3115  9000  3300  3113 41110 11400 12208  4206  4207  8300\n",
      "  8400] \n",
      "\n",
      "type of lesion 2 [   0 1400 7111 3111 6112 3112] \n",
      "\n",
      "type of lesion 3 [   0 2209] \n",
      "\n",
      "cp_data [2 1] \n",
      "\n"
     ]
    }
   ],
   "source": [
    "#displaying unique values per col\n",
    "for i in df.columns:\n",
    "    print(i,df[i].unique(),\"\\n\")\n",
    "    #'?' invalid value, replace with nan"
   ]
  },
  {
   "cell_type": "code",
   "execution_count": 13,
   "metadata": {},
   "outputs": [],
   "source": [
    "# shows data entry as '?' \n",
    "# missing values could be wrongly represented as '?'"
   ]
  },
  {
   "cell_type": "markdown",
   "metadata": {},
   "source": [
    "## Checking presence of unwanted characters :-\n",
    "### '?' in this case.."
   ]
  },
  {
   "cell_type": "code",
   "execution_count": 14,
   "metadata": {
    "tags": []
   },
   "outputs": [
    {
     "name": "stdout",
     "output_type": "stream",
     "text": [
      "surgery ['2' '1' '?'] \n",
      "\n",
      "Age [1 9] \n",
      "\n",
      "Hospital Number [ 530101  534817  530334 5290409  530255  528355  526802  529607  530051\n",
      " 5299629  528548  527927  528031 5291329  534917  530233 5301219  526639\n",
      " 5290481  532110  530157  529340  521681  534998  533692  529518  530526\n",
      "  528653 5279442  535415  529475  530242  529427  529663  529796  528812\n",
      "  529493  533847  528996 5277409  529498 5288249  530301  534069  535407\n",
      "  529827  529888  529821  528890  529642  529766  527706  529483  530544\n",
      "  529461 5282839  528872  529640  528298  528904  530438  527957  528630\n",
      "  534293  529667  534885  534784  528931  529777  530276  528214  529424\n",
      " 5299253  528469 5292929  534092  534615  534753  530693  527463  527518\n",
      "  534756 5290759 5279822  529849  529304  529388  528006  529703  535381\n",
      "  534197  530251  530310  528729  535158  530319  534145  534135  530002\n",
      "  535364  534899  534938 5292489  527563  530381  528668  529764  533696\n",
      " 5297379  527544  533736  534963  527933  532349  533723  535208 5290482\n",
      "  533983  535166  528682  534556  534579  530360  529840  528461  530384\n",
      " 5262541  535330  527698  528964  530670  534572  530294  527524 5287179\n",
      "  534324  534491  529960  522979  530402  534519  535246  534115  530001\n",
      "  529272  535314  533793  529399  533836  528804  535163  528247  533928\n",
      "  528248  528134  527916  530431  535176  533942  528523  534925  528299\n",
      "  530254  535085  532985  527677  535292  529729  518476  527929  535130\n",
      "  523190  533968  528151  530239  528305  534857  534053  534833 5278331\n",
      "  527365  533887 5299603  528742 5287279  534788  529373  534163  533697\n",
      "  529628  521399  533885  534157  528047  528641  534073  529685  529528\n",
      "  535137  530297  535338  534478  530401  529893 5294369  528183  529183\n",
      "  529135  528977 5279441  535240  529736  535029  535031  528800  528178\n",
      "  535392  528503 5289419  535196  534597  534280  530028 5262543  528179\n",
      "  533750  528702  534183  529160  529045  530354 5281091 5291409  530366\n",
      "  530170  527709  528169  535043  527940 5291719  530561  533738 5294539\n",
      "  533871  529812  534719  527734  534933  529296 5305629  528743  530478\n",
      "  528590  529865  527829  534403  527883  528570  534626  528638  534624\n",
      " 5297159  534787  528620  528019  529172  534644  530624  527758  530439\n",
      " 5283431 5275212 5305129  529428  529126  535054  530034  534004  533902\n",
      "  533886  527702  529386  530612  534618] \n",
      "\n",
      "rectal temperature ['38.5' '39.2' '38.3' '39.1' '37.3' '?' '37.9' '38.1' '37.2' '38' '38.2'\n",
      " '37.6' '37.5' '39.4' '39.9' '38.4' '38.6' '37.8' '37.7' '39' '35.4'\n",
      " '38.9' '37.4' '40.3' '37' '39.7' '38.7' '36.4' '38.8' '39.6' '36.8'\n",
      " '39.5' '36.5' '36' '37.1' '39.3' '36.1' '36.6' '40.8' '36.9' '40'] \n",
      "\n",
      "pulse ['66' '88' '40' '164' '104' '?' '48' '60' '80' '90' '72' '42' '92' '76'\n",
      " '96' '128' '64' '110' '130' '108' '100' '112' '52' '146' '150' '120'\n",
      " '140' '84' '46' '114' '160' '54' '56' '38' '98' '50' '44' '70' '78' '49'\n",
      " '30' '136' '132' '65' '86' '129' '68' '36' '45' '124' '184' '75' '82'] \n",
      "\n",
      "respiratory rate ['28' '20' '24' '84' '35' '?' '16' '36' '12' '52' '48' '21' '60' '34' '42'\n",
      " '30' '96' '72' '15' '44' '32' '22' '18' '80' '40' '10' '51' '68' '66' '9'\n",
      " '14' '90' '8' '23' '58' '13' '70' '26' '88' '25' '50'] \n",
      "\n",
      "temperature of extremities ['3' '?' '1' '4' '2'] \n",
      "\n",
      "peripheral pulse ['3' '?' '1' '4' '2'] \n",
      "\n",
      "mucous membranes ['?' '4' '3' '6' '1' '5' '2'] \n",
      "\n",
      "capillary refill time ['2' '1' '?' '3'] \n",
      "\n",
      "pain ['5' '3' '2' '?' '4' '1'] \n",
      "\n",
      "peristalsis ['4' '3' '?' '1' '2'] \n",
      "\n",
      "abdominal distension ['4' '2' '1' '?' '3'] \n",
      "\n",
      "nasogastric tube ['?' '1' '2' '3'] \n",
      "\n",
      "nasogastric reflux ['?' '2' '1' '3'] \n",
      "\n",
      "nasogastric reflux PH ['?' '5' '3' '7.2' '4.5' '5.5' '2' '4' '6' '7' '1' '5.7' '1.5' '4.4' '6.5'\n",
      " '6.2' '4.3' '5.3' '7.5' '5.4' '3.5'] \n",
      "\n",
      "rectal examination ['3' '4' '1' '?' '2'] \n",
      "\n",
      "abdomen ['5' '2' '1' '?' '3' '4'] \n",
      "\n",
      "packed cell volume ['45' '50' '33' '48' '74' '?' '37' '44' '38' '40' '46' '53' '55' '49' '51'\n",
      " '43' '66' '52' '73' '56' '32' '63' '47' '57' '60' '65' '54' '41' '24'\n",
      " '42' '64' '26' '58' '69' '36' '68' '59' '34' '39' '67' '31' '75' '35'\n",
      " '30' '23' '70' '71' '31.5' '72' '37.5' '28'] \n",
      "\n",
      "total protein ['8.4' '85' '6.7' '7.2' '7.4' '?' '7' '8.3' '6.2' '6' '7.8' '6.1' '81'\n",
      " '6.8' '8.7' '70' '65' '5.5' '76' '7.5' '8.2' '6.6' '8.6' '80' '6.5' '8.5'\n",
      " '67' '69' '9.1' '7.7' '6.4' '8.1' '5.9' '8' '82' '72' '74' '6.3' '7.6'\n",
      " '4.9' '57' '68' '77' '8.9' '5.7' '4.5' '61' '86' '60' '66' '5.3' '7.3'\n",
      " '64' '58' '56' '75' '10.2' '62' '7.9' '73' '71' '63' '46' '5.8' '53'\n",
      " '4.7' '59' '55' '89' '51' '4' '11' '8.8' '50' '54' '6.9' '4.6' '13' '7.1'\n",
      " '3.3' '9' '5'] \n",
      "\n",
      "abdominocentesis appearance ['?' '2' '3' '1'] \n",
      "\n",
      "abdomcentesis total protein ['?' '2' '5.3' '2.2' '3.6' '4.7' '3.9' '1.3' '7.4' '6.6' '1' '5' '0.1'\n",
      " '4.1' '1.6' '4.5' '6' '7' '2.6' '1.4' '2.3' '3.7' '2.8' '10' '2.9' '5.2'\n",
      " '4.3' '3.4' '3' '10.1' '1.5' '2.1' '8' '4.8' '3.2' '4.4' '2.5' '3.3'] \n",
      "\n",
      "outcome ['2' '3' '1' '?'] \n",
      "\n",
      "surgical lesion [2 1] \n",
      "\n",
      "type of lesion 1 [11300  2208     0  4300  3124  3205  2124  2111  4124  2112  3207  1400\n",
      "  4205  3111  4122  2207  2209  1124  7111  5205  2113  9400  2305  7209\n",
      "  7400  3112  3209  2322 11124  3025  2205  5206   400  5000  5400 31110\n",
      "  2206  5124  7113  6209  3400  6112  6111  1111  2300 21110  4111  3133\n",
      "  5111   300  3115  9000  3300  3113 41110 11400 12208  4206  4207  8300\n",
      "  8400] \n",
      "\n",
      "type of lesion 2 [   0 1400 7111 3111 6112 3112] \n",
      "\n",
      "type of lesion 3 [   0 2209] \n",
      "\n",
      "cp_data [2 1] \n",
      "\n"
     ]
    }
   ],
   "source": [
    "#displaying unique values per col\n",
    "for i in df.columns:\n",
    "    print(i,df[i].unique(),\"\\n\")\n",
    "    #'?' invalid value, replace with nan"
   ]
  },
  {
   "cell_type": "markdown",
   "metadata": {},
   "source": [
    "### Replacing unwanted characters ('?') with Null values..."
   ]
  },
  {
   "cell_type": "code",
   "execution_count": 15,
   "metadata": {},
   "outputs": [
    {
     "data": {
      "text/html": [
       "<div>\n",
       "<style scoped>\n",
       "    .dataframe tbody tr th:only-of-type {\n",
       "        vertical-align: middle;\n",
       "    }\n",
       "\n",
       "    .dataframe tbody tr th {\n",
       "        vertical-align: top;\n",
       "    }\n",
       "\n",
       "    .dataframe thead th {\n",
       "        text-align: right;\n",
       "    }\n",
       "</style>\n",
       "<table border=\"1\" class=\"dataframe\">\n",
       "  <thead>\n",
       "    <tr style=\"text-align: right;\">\n",
       "      <th></th>\n",
       "      <th>surgery</th>\n",
       "      <th>Age</th>\n",
       "      <th>Hospital Number</th>\n",
       "      <th>rectal temperature</th>\n",
       "      <th>pulse</th>\n",
       "      <th>respiratory rate</th>\n",
       "      <th>temperature of extremities</th>\n",
       "      <th>peripheral pulse</th>\n",
       "      <th>mucous membranes</th>\n",
       "      <th>capillary refill time</th>\n",
       "      <th>...</th>\n",
       "      <th>packed cell volume</th>\n",
       "      <th>total protein</th>\n",
       "      <th>abdominocentesis appearance</th>\n",
       "      <th>abdomcentesis total protein</th>\n",
       "      <th>outcome</th>\n",
       "      <th>surgical lesion</th>\n",
       "      <th>type of lesion 1</th>\n",
       "      <th>type of lesion 2</th>\n",
       "      <th>type of lesion 3</th>\n",
       "      <th>cp_data</th>\n",
       "    </tr>\n",
       "  </thead>\n",
       "  <tbody>\n",
       "    <tr>\n",
       "      <th>0</th>\n",
       "      <td>2</td>\n",
       "      <td>1</td>\n",
       "      <td>530101</td>\n",
       "      <td>38.5</td>\n",
       "      <td>66</td>\n",
       "      <td>28</td>\n",
       "      <td>3</td>\n",
       "      <td>3</td>\n",
       "      <td>NaN</td>\n",
       "      <td>2</td>\n",
       "      <td>...</td>\n",
       "      <td>45</td>\n",
       "      <td>8.4</td>\n",
       "      <td>NaN</td>\n",
       "      <td>NaN</td>\n",
       "      <td>2</td>\n",
       "      <td>2</td>\n",
       "      <td>11300</td>\n",
       "      <td>0</td>\n",
       "      <td>0</td>\n",
       "      <td>2</td>\n",
       "    </tr>\n",
       "    <tr>\n",
       "      <th>1</th>\n",
       "      <td>1</td>\n",
       "      <td>1</td>\n",
       "      <td>534817</td>\n",
       "      <td>39.2</td>\n",
       "      <td>88</td>\n",
       "      <td>20</td>\n",
       "      <td>NaN</td>\n",
       "      <td>NaN</td>\n",
       "      <td>4</td>\n",
       "      <td>1</td>\n",
       "      <td>...</td>\n",
       "      <td>50</td>\n",
       "      <td>85</td>\n",
       "      <td>2</td>\n",
       "      <td>2</td>\n",
       "      <td>3</td>\n",
       "      <td>2</td>\n",
       "      <td>2208</td>\n",
       "      <td>0</td>\n",
       "      <td>0</td>\n",
       "      <td>2</td>\n",
       "    </tr>\n",
       "    <tr>\n",
       "      <th>2</th>\n",
       "      <td>2</td>\n",
       "      <td>1</td>\n",
       "      <td>530334</td>\n",
       "      <td>38.3</td>\n",
       "      <td>40</td>\n",
       "      <td>24</td>\n",
       "      <td>1</td>\n",
       "      <td>1</td>\n",
       "      <td>3</td>\n",
       "      <td>1</td>\n",
       "      <td>...</td>\n",
       "      <td>33</td>\n",
       "      <td>6.7</td>\n",
       "      <td>NaN</td>\n",
       "      <td>NaN</td>\n",
       "      <td>1</td>\n",
       "      <td>2</td>\n",
       "      <td>0</td>\n",
       "      <td>0</td>\n",
       "      <td>0</td>\n",
       "      <td>1</td>\n",
       "    </tr>\n",
       "    <tr>\n",
       "      <th>3</th>\n",
       "      <td>1</td>\n",
       "      <td>9</td>\n",
       "      <td>5290409</td>\n",
       "      <td>39.1</td>\n",
       "      <td>164</td>\n",
       "      <td>84</td>\n",
       "      <td>4</td>\n",
       "      <td>1</td>\n",
       "      <td>6</td>\n",
       "      <td>2</td>\n",
       "      <td>...</td>\n",
       "      <td>48</td>\n",
       "      <td>7.2</td>\n",
       "      <td>3</td>\n",
       "      <td>5.3</td>\n",
       "      <td>2</td>\n",
       "      <td>1</td>\n",
       "      <td>2208</td>\n",
       "      <td>0</td>\n",
       "      <td>0</td>\n",
       "      <td>1</td>\n",
       "    </tr>\n",
       "    <tr>\n",
       "      <th>4</th>\n",
       "      <td>2</td>\n",
       "      <td>1</td>\n",
       "      <td>530255</td>\n",
       "      <td>37.3</td>\n",
       "      <td>104</td>\n",
       "      <td>35</td>\n",
       "      <td>NaN</td>\n",
       "      <td>NaN</td>\n",
       "      <td>6</td>\n",
       "      <td>2</td>\n",
       "      <td>...</td>\n",
       "      <td>74</td>\n",
       "      <td>7.4</td>\n",
       "      <td>NaN</td>\n",
       "      <td>NaN</td>\n",
       "      <td>2</td>\n",
       "      <td>2</td>\n",
       "      <td>4300</td>\n",
       "      <td>0</td>\n",
       "      <td>0</td>\n",
       "      <td>2</td>\n",
       "    </tr>\n",
       "  </tbody>\n",
       "</table>\n",
       "<p>5 rows × 28 columns</p>\n",
       "</div>"
      ],
      "text/plain": [
       "  surgery  Age  Hospital Number rectal temperature pulse respiratory rate  \\\n",
       "0       2    1           530101               38.5    66               28   \n",
       "1       1    1           534817               39.2    88               20   \n",
       "2       2    1           530334               38.3    40               24   \n",
       "3       1    9          5290409               39.1   164               84   \n",
       "4       2    1           530255               37.3   104               35   \n",
       "\n",
       "  temperature of extremities peripheral pulse mucous membranes  \\\n",
       "0                          3                3              NaN   \n",
       "1                        NaN              NaN                4   \n",
       "2                          1                1                3   \n",
       "3                          4                1                6   \n",
       "4                        NaN              NaN                6   \n",
       "\n",
       "  capillary refill time  ... packed cell volume total protein  \\\n",
       "0                     2  ...                 45           8.4   \n",
       "1                     1  ...                 50            85   \n",
       "2                     1  ...                 33           6.7   \n",
       "3                     2  ...                 48           7.2   \n",
       "4                     2  ...                 74           7.4   \n",
       "\n",
       "  abdominocentesis appearance abdomcentesis total protein outcome  \\\n",
       "0                         NaN                         NaN       2   \n",
       "1                           2                           2       3   \n",
       "2                         NaN                         NaN       1   \n",
       "3                           3                         5.3       2   \n",
       "4                         NaN                         NaN       2   \n",
       "\n",
       "  surgical lesion type of lesion 1 type of lesion 2 type of lesion 3 cp_data  \n",
       "0               2            11300                0                0       2  \n",
       "1               2             2208                0                0       2  \n",
       "2               2                0                0                0       1  \n",
       "3               1             2208                0                0       1  \n",
       "4               2             4300                0                0       2  \n",
       "\n",
       "[5 rows x 28 columns]"
      ]
     },
     "execution_count": 15,
     "metadata": {},
     "output_type": "execute_result"
    }
   ],
   "source": [
    "#'?' invalid char replaced with np.nan\n",
    "df.replace('?',np.nan,inplace=True)\n",
    "#dispaly 1st two rows\n",
    "df.head()"
   ]
  },
  {
   "cell_type": "markdown",
   "metadata": {},
   "source": [
    "### Features have wrongly assigned dtypes. Needs transformation of datatypes"
   ]
  },
  {
   "cell_type": "code",
   "execution_count": 16,
   "metadata": {},
   "outputs": [
    {
     "data": {
      "text/plain": [
       "surgery                        object\n",
       "Age                             int64\n",
       "Hospital Number                 int64\n",
       "rectal temperature             object\n",
       "pulse                          object\n",
       "respiratory rate               object\n",
       "temperature of extremities     object\n",
       "peripheral pulse               object\n",
       "mucous membranes               object\n",
       "capillary refill time          object\n",
       "pain                           object\n",
       "peristalsis                    object\n",
       "abdominal distension           object\n",
       "nasogastric tube               object\n",
       "nasogastric reflux             object\n",
       "nasogastric reflux PH          object\n",
       "rectal examination             object\n",
       "abdomen                        object\n",
       "packed cell volume             object\n",
       "total protein                  object\n",
       "abdominocentesis appearance    object\n",
       "abdomcentesis total protein    object\n",
       "outcome                        object\n",
       "surgical lesion                 int64\n",
       "type of lesion 1                int64\n",
       "type of lesion 2                int64\n",
       "type of lesion 3                int64\n",
       "cp_data                         int64\n",
       "dtype: object"
      ]
     },
     "execution_count": 16,
     "metadata": {},
     "output_type": "execute_result"
    }
   ],
   "source": [
    "#datatypes of all columns\n",
    "df.dtypes"
   ]
  },
  {
   "cell_type": "code",
   "execution_count": 17,
   "metadata": {
    "scrolled": true
   },
   "outputs": [
    {
     "data": {
      "text/plain": [
       "surgery                          2\n",
       "Age                              2\n",
       "Hospital Number                284\n",
       "rectal temperature              40\n",
       "pulse                           52\n",
       "respiratory rate                40\n",
       "temperature of extremities       4\n",
       "peripheral pulse                 4\n",
       "mucous membranes                 6\n",
       "capillary refill time            3\n",
       "pain                             5\n",
       "peristalsis                      4\n",
       "abdominal distension             4\n",
       "nasogastric tube                 3\n",
       "nasogastric reflux               3\n",
       "nasogastric reflux PH           20\n",
       "rectal examination               4\n",
       "abdomen                          5\n",
       "packed cell volume              50\n",
       "total protein                   81\n",
       "abdominocentesis appearance      3\n",
       "abdomcentesis total protein     37\n",
       "outcome                          3\n",
       "surgical lesion                  2\n",
       "type of lesion 1                61\n",
       "type of lesion 2                 6\n",
       "type of lesion 3                 2\n",
       "cp_data                          2\n",
       "dtype: int64"
      ]
     },
     "execution_count": 17,
     "metadata": {},
     "output_type": "execute_result"
    }
   ],
   "source": [
    "#no. f unique values per col\n",
    "df.nunique()"
   ]
  },
  {
   "cell_type": "markdown",
   "metadata": {},
   "source": [
    "# Correcting the data type of columns..."
   ]
  },
  {
   "cell_type": "code",
   "execution_count": 18,
   "metadata": {},
   "outputs": [],
   "source": [
    "#based on observation, numerical columns, mistaken as object type, from default dtype are converted to float dtype\n",
    "cols = ['rectal temperature', 'pulse', 'respiratory rate',\n",
    "       'packed cell volume', 'total protein']\n",
    "for i in cols : \n",
    "    df[i]=df[i].astype('float')"
   ]
  },
  {
   "cell_type": "code",
   "execution_count": 19,
   "metadata": {},
   "outputs": [],
   "source": [
    "##based on observation, categorical columns, mistaken as numerical type, from default dtype are converted to object dtype\n",
    "\n",
    "cols = ['Age', 'surgical lesion', 'type of lesion 1',\n",
    "       'type of lesion 2', 'type of lesion 3', 'cp_data']\n",
    "for i in cols : \n",
    "    df[i]=df[i].astype('object')"
   ]
  },
  {
   "cell_type": "code",
   "execution_count": 20,
   "metadata": {},
   "outputs": [
    {
     "data": {
      "text/plain": [
       "surgery                         object\n",
       "Age                             object\n",
       "Hospital Number                  int64\n",
       "rectal temperature             float64\n",
       "pulse                          float64\n",
       "respiratory rate               float64\n",
       "temperature of extremities      object\n",
       "peripheral pulse                object\n",
       "mucous membranes                object\n",
       "capillary refill time           object\n",
       "pain                            object\n",
       "peristalsis                     object\n",
       "abdominal distension            object\n",
       "nasogastric tube                object\n",
       "nasogastric reflux              object\n",
       "nasogastric reflux PH           object\n",
       "rectal examination              object\n",
       "abdomen                         object\n",
       "packed cell volume             float64\n",
       "total protein                  float64\n",
       "abdominocentesis appearance     object\n",
       "abdomcentesis total protein     object\n",
       "outcome                         object\n",
       "surgical lesion                 object\n",
       "type of lesion 1                object\n",
       "type of lesion 2                object\n",
       "type of lesion 3                object\n",
       "cp_data                         object\n",
       "dtype: object"
      ]
     },
     "execution_count": 20,
     "metadata": {},
     "output_type": "execute_result"
    }
   ],
   "source": [
    "df.dtypes"
   ]
  },
  {
   "cell_type": "markdown",
   "metadata": {},
   "source": [
    "### Assigining the dataset according to 'numerical' and 'categorical' columns..."
   ]
  },
  {
   "cell_type": "code",
   "execution_count": 21,
   "metadata": {},
   "outputs": [],
   "source": [
    "#divide df into numerical and object dataframe, based on default datatypes\n",
    "num_df = df.select_dtypes(exclude = \"object\")\n",
    "obj_df = df.select_dtypes(include = \"object\")"
   ]
  },
  {
   "cell_type": "code",
   "execution_count": 22,
   "metadata": {
    "scrolled": true
   },
   "outputs": [
    {
     "name": "stdout",
     "output_type": "stream",
     "text": [
      "number of numerical columns : 6\n",
      "Index(['Hospital Number', 'rectal temperature', 'pulse', 'respiratory rate',\n",
      "       'packed cell volume', 'total protein'],\n",
      "      dtype='object')\n",
      "\n",
      "number of categorical columns : 22\n",
      "Index(['surgery', 'Age', 'temperature of extremities', 'peripheral pulse',\n",
      "       'mucous membranes', 'capillary refill time', 'pain', 'peristalsis',\n",
      "       'abdominal distension', 'nasogastric tube', 'nasogastric reflux',\n",
      "       'nasogastric reflux PH', 'rectal examination', 'abdomen',\n",
      "       'abdominocentesis appearance', 'abdomcentesis total protein', 'outcome',\n",
      "       'surgical lesion', 'type of lesion 1', 'type of lesion 2',\n",
      "       'type of lesion 3', 'cp_data'],\n",
      "      dtype='object')\n"
     ]
    }
   ],
   "source": [
    "# #display shape and column names in num and obj df\n",
    "print(\"number of numerical columns :\",num_df.shape[1])\n",
    "print(num_df.columns)\n",
    "print(\"\\nnumber of categorical columns :\",obj_df.shape[1])\n",
    "print(obj_df.columns)"
   ]
  },
  {
   "cell_type": "code",
   "execution_count": 23,
   "metadata": {},
   "outputs": [
    {
     "data": {
      "text/plain": [
       "Hospital Number       284\n",
       "rectal temperature     40\n",
       "pulse                  52\n",
       "respiratory rate       40\n",
       "packed cell volume     50\n",
       "total protein          81\n",
       "dtype: int64"
      ]
     },
     "execution_count": 23,
     "metadata": {},
     "output_type": "execute_result"
    }
   ],
   "source": [
    "num_df.nunique()"
   ]
  },
  {
   "cell_type": "code",
   "execution_count": 24,
   "metadata": {},
   "outputs": [
    {
     "data": {
      "text/plain": [
       "surgery                         2\n",
       "Age                             2\n",
       "temperature of extremities      4\n",
       "peripheral pulse                4\n",
       "mucous membranes                6\n",
       "capillary refill time           3\n",
       "pain                            5\n",
       "peristalsis                     4\n",
       "abdominal distension            4\n",
       "nasogastric tube                3\n",
       "nasogastric reflux              3\n",
       "nasogastric reflux PH          20\n",
       "rectal examination              4\n",
       "abdomen                         5\n",
       "abdominocentesis appearance     3\n",
       "abdomcentesis total protein    37\n",
       "outcome                         3\n",
       "surgical lesion                 2\n",
       "type of lesion 1               61\n",
       "type of lesion 2                6\n",
       "type of lesion 3                2\n",
       "cp_data                         2\n",
       "dtype: int64"
      ]
     },
     "execution_count": 24,
     "metadata": {},
     "output_type": "execute_result"
    }
   ],
   "source": [
    "obj_df.nunique()"
   ]
  },
  {
   "cell_type": "markdown",
   "metadata": {},
   "source": [
    "# Checking and correcting invalid values as per their value types...."
   ]
  },
  {
   "cell_type": "code",
   "execution_count": 25,
   "metadata": {},
   "outputs": [
    {
     "name": "stdout",
     "output_type": "stream",
     "text": [
      "surgery ['2' '1' nan] \n",
      "\n",
      "Age [1 9] \n",
      "\n",
      "temperature of extremities ['3' nan '1' '4' '2'] \n",
      "\n",
      "peripheral pulse ['3' nan '1' '4' '2'] \n",
      "\n",
      "mucous membranes [nan '4' '3' '6' '1' '5' '2'] \n",
      "\n",
      "capillary refill time ['2' '1' nan '3'] \n",
      "\n",
      "pain ['5' '3' '2' nan '4' '1'] \n",
      "\n",
      "peristalsis ['4' '3' nan '1' '2'] \n",
      "\n",
      "abdominal distension ['4' '2' '1' nan '3'] \n",
      "\n",
      "nasogastric tube [nan '1' '2' '3'] \n",
      "\n",
      "nasogastric reflux [nan '2' '1' '3'] \n",
      "\n",
      "nasogastric reflux PH [nan '5' '3' '7.2' '4.5' '5.5' '2' '4' '6' '7' '1' '5.7' '1.5' '4.4' '6.5'\n",
      " '6.2' '4.3' '5.3' '7.5' '5.4' '3.5'] \n",
      "\n",
      "rectal examination ['3' '4' '1' nan '2'] \n",
      "\n",
      "abdomen ['5' '2' '1' nan '3' '4'] \n",
      "\n",
      "abdominocentesis appearance [nan '2' '3' '1'] \n",
      "\n",
      "abdomcentesis total protein [nan '2' '5.3' '2.2' '3.6' '4.7' '3.9' '1.3' '7.4' '6.6' '1' '5' '0.1'\n",
      " '4.1' '1.6' '4.5' '6' '7' '2.6' '1.4' '2.3' '3.7' '2.8' '10' '2.9' '5.2'\n",
      " '4.3' '3.4' '3' '10.1' '1.5' '2.1' '8' '4.8' '3.2' '4.4' '2.5' '3.3'] \n",
      "\n",
      "outcome ['2' '3' '1' nan] \n",
      "\n",
      "surgical lesion [2 1] \n",
      "\n",
      "type of lesion 1 [11300 2208 0 4300 3124 3205 2124 2111 4124 2112 3207 1400 4205 3111 4122\n",
      " 2207 2209 1124 7111 5205 2113 9400 2305 7209 7400 3112 3209 2322 11124\n",
      " 3025 2205 5206 400 5000 5400 31110 2206 5124 7113 6209 3400 6112 6111\n",
      " 1111 2300 21110 4111 3133 5111 300 3115 9000 3300 3113 41110 11400 12208\n",
      " 4206 4207 8300 8400] \n",
      "\n",
      "type of lesion 2 [0 1400 7111 3111 6112 3112] \n",
      "\n",
      "type of lesion 3 [0 2209] \n",
      "\n",
      "cp_data [2 1] \n",
      "\n"
     ]
    }
   ],
   "source": [
    "#recehck for any invalid entry\n",
    "for i in obj_df.columns:\n",
    "    print(i,obj_df[i].unique(),\"\\n\")"
   ]
  },
  {
   "cell_type": "markdown",
   "metadata": {},
   "source": [
    "## '9' is an invalid value in AGE column. Correcting it..."
   ]
  },
  {
   "cell_type": "code",
   "execution_count": 26,
   "metadata": {},
   "outputs": [
    {
     "data": {
      "text/plain": [
       "1    276\n",
       "9     24\n",
       "Name: Age, dtype: int64"
      ]
     },
     "execution_count": 26,
     "metadata": {},
     "output_type": "execute_result"
    }
   ],
   "source": [
    "#as per data description \n",
    "'''\n",
    "2: Age\n",
    "1 = Adult horse\n",
    "2 = Young (< 6 months)\n",
    "'''\n",
    "#so 9 is an invalid val, nds to b replaced by 2\n",
    "obj_df.Age.value_counts()"
   ]
  },
  {
   "cell_type": "code",
   "execution_count": 27,
   "metadata": {
    "scrolled": true
   },
   "outputs": [],
   "source": [
    "#replace the invalid entry in Age col\n",
    "def ageinvalidconversn(x):\n",
    "    if(x == 9):\n",
    "        x = 2\n",
    "    return(x)\n",
    "#converting label and putting in obj_df dataframe\n",
    "obj_df['Age'] = obj_df['Age'].apply(ageinvalidconversn)"
   ]
  },
  {
   "cell_type": "code",
   "execution_count": 28,
   "metadata": {},
   "outputs": [
    {
     "data": {
      "text/plain": [
       "(1    276\n",
       " 2     24\n",
       " Name: Age, dtype: int64,\n",
       " dtype('int64'))"
      ]
     },
     "execution_count": 28,
     "metadata": {},
     "output_type": "execute_result"
    }
   ],
   "source": [
    "#recheck\n",
    "obj_df.Age.value_counts(),obj_df['Age'].dtype"
   ]
  },
  {
   "cell_type": "code",
   "execution_count": 30,
   "metadata": {},
   "outputs": [
    {
     "data": {
      "text/plain": [
       "dtype('O')"
      ]
     },
     "execution_count": 30,
     "metadata": {},
     "output_type": "execute_result"
    }
   ],
   "source": [
    "#converting dtype back to 'object'\n",
    "obj_df['Age']=obj_df['Age'].astype('object')\n",
    "#recheck\n",
    "obj_df['Age'].dtype"
   ]
  },
  {
   "cell_type": "markdown",
   "metadata": {},
   "source": [
    "### check for redundant columns"
   ]
  },
  {
   "cell_type": "code",
   "execution_count": 31,
   "metadata": {},
   "outputs": [
    {
     "data": {
      "text/plain": [
       "surgery                          2\n",
       "Age                              2\n",
       "Hospital Number                284\n",
       "rectal temperature              40\n",
       "pulse                           52\n",
       "respiratory rate                40\n",
       "temperature of extremities       4\n",
       "peripheral pulse                 4\n",
       "mucous membranes                 6\n",
       "capillary refill time            3\n",
       "pain                             5\n",
       "peristalsis                      4\n",
       "abdominal distension             4\n",
       "nasogastric tube                 3\n",
       "nasogastric reflux               3\n",
       "nasogastric reflux PH           20\n",
       "rectal examination               4\n",
       "abdomen                          5\n",
       "packed cell volume              50\n",
       "total protein                   81\n",
       "abdominocentesis appearance      3\n",
       "abdomcentesis total protein     37\n",
       "outcome                          3\n",
       "surgical lesion                  2\n",
       "type of lesion 1                61\n",
       "type of lesion 2                 6\n",
       "type of lesion 3                 2\n",
       "cp_data                          2\n",
       "dtype: int64"
      ]
     },
     "execution_count": 31,
     "metadata": {},
     "output_type": "execute_result"
    }
   ],
   "source": [
    "#count of unique vals\n",
    "df.nunique()#.sort_values(ascending=False)\n"
   ]
  },
  {
   "cell_type": "code",
   "execution_count": 32,
   "metadata": {
    "collapsed": true,
    "jupyter": {
     "outputs_hidden": true
    },
    "tags": []
   },
   "outputs": [
    {
     "data": {
      "text/plain": [
       "529796      True\n",
       "529424      True\n",
       "5279822     True\n",
       "527916      True\n",
       "530526      True\n",
       "528996      True\n",
       "528729      True\n",
       "528151      True\n",
       "529461      True\n",
       "528931      True\n",
       "528890      True\n",
       "528469      True\n",
       "530693      True\n",
       "532349      True\n",
       "528904      True\n",
       "527544      True\n",
       "533697     False\n",
       "533696     False\n",
       "533736     False\n",
       "534719     False\n",
       "530101     False\n",
       "529399     False\n",
       "533692     False\n",
       "528570     False\n",
       "527957     False\n",
       "534157     False\n",
       "521399     False\n",
       "529045     False\n",
       "530612     False\n",
       "528047     False\n",
       "535208     False\n",
       "534183     False\n",
       "528548     False\n",
       "535240     False\n",
       "529428     False\n",
       "528031     False\n",
       "527518     False\n",
       "535196     False\n",
       "530561     False\n",
       "528178     False\n",
       "518476     False\n",
       "532110     False\n",
       "529607     False\n",
       "5262543    False\n",
       "527563     False\n",
       "529640     False\n",
       "529667     False\n",
       "528641     False\n",
       "534784     False\n",
       "529663     False\n",
       "528638     False\n",
       "535292     False\n",
       "530170     False\n",
       "528630     False\n",
       "529764     False\n",
       "529135     False\n",
       "530670     False\n",
       "530157     False\n",
       "534053     False\n",
       "529642     False\n",
       "529126     False\n",
       "5262541    False\n",
       "534756     False\n",
       "5297379    False\n",
       "529729     False\n",
       "5277409    False\n",
       "534478     False\n",
       "528019     False\n",
       "533886     False\n",
       "529628     False\n",
       "533723     False\n",
       "528169     False\n",
       "528800     False\n",
       "5279442    False\n",
       "5291719    False\n",
       "535246     False\n",
       "528523     False\n",
       "530431     False\n",
       "535176     False\n",
       "529685     False\n",
       "528964     False\n",
       "529475     False\n",
       "530439     False\n",
       "527933     False\n",
       "527929     False\n",
       "527927     False\n",
       "534069     False\n",
       "534579     False\n",
       "534933     False\n",
       "530478     False\n",
       "535085     False\n",
       "534572     False\n",
       "5288249    False\n",
       "528247     False\n",
       "533738     False\n",
       "5301219    False\n",
       "534556     False\n",
       "5282839    False\n",
       "527940     False\n",
       "528977     False\n",
       "529427     False\n",
       "535163     False\n",
       "5294539    False\n",
       "527524     False\n",
       "533968     False\n",
       "5305129    False\n",
       "528590     False\n",
       "5297159    False\n",
       "530438     False\n",
       "527365     False\n",
       "534597     False\n",
       "529483     False\n",
       "528006     False\n",
       "530028     False\n",
       "530051     False\n",
       "534145     False\n",
       "535166     False\n",
       "523190     False\n",
       "534324     False\n",
       "529528     False\n",
       "534135     False\n",
       "535158     False\n",
       "534644     False\n",
       "530034     False\n",
       "527702     False\n",
       "530544     False\n",
       "527883     False\n",
       "529518     False\n",
       "528620     False\n",
       "534092     False\n",
       "527463     False\n",
       "534073     False\n",
       "534115     False\n",
       "534626     False\n",
       "535137     False\n",
       "534624     False\n",
       "5283431    False\n",
       "529498     False\n",
       "534615     False\n",
       "529493     False\n",
       "530002     False\n",
       "530001     False\n",
       "533902     False\n",
       "528461     False\n",
       "534788     False\n",
       "534280     False\n",
       "528134     False\n",
       "529840     False\n",
       "533928     False\n",
       "5290409    False\n",
       "528298     False\n",
       "528299     False\n",
       "528812     False\n",
       "5299629    False\n",
       "528305     False\n",
       "530366     False\n",
       "530354     False\n",
       "534963     False\n",
       "533942     False\n",
       "530360     False\n",
       "529849     False\n",
       "529865     False\n",
       "528248     False\n",
       "528804     False\n",
       "529827     False\n",
       "535054     False\n",
       "528742     False\n",
       "530334     False\n",
       "529821     False\n",
       "534938     False\n",
       "529304     False\n",
       "527734     False\n",
       "529812     False\n",
       "5299603    False\n",
       "5291409    False\n",
       "529296     False\n",
       "530319     False\n",
       "527758     False\n",
       "534925     False\n",
       "529340     False\n",
       "5299253    False\n",
       "5290759    False\n",
       "533871     False\n",
       "528355     False\n",
       "529893     False\n",
       "528872     False\n",
       "529386     False\n",
       "534618     False\n",
       "529388     False\n",
       "5290481    False\n",
       "533885     False\n",
       "5290482    False\n",
       "534004     False\n",
       "535130     False\n",
       "534753     False\n",
       "534519     False\n",
       "532985     False\n",
       "530402     False\n",
       "530401     False\n",
       "529888     False\n",
       "533983     False\n",
       "534163     False\n",
       "529373     False\n",
       "534491     False\n",
       "530624     False\n",
       "534998     False\n",
       "527829     False\n",
       "526802     False\n",
       "521681     False\n",
       "530384     False\n",
       "533793     False\n",
       "530381     False\n",
       "5289419    False\n",
       "5292489    False\n",
       "535029     False\n",
       "530310     False\n",
       "534917     False\n",
       "534787     False\n",
       "534833     False\n",
       "529960     False\n",
       "528179     False\n",
       "534197     False\n",
       "528183     False\n",
       "530233     False\n",
       "527677     False\n",
       "534403     False\n",
       "528702     False\n",
       "530239     False\n",
       "5278331    False\n",
       "5291329    False\n",
       "530242     False\n",
       "5281091    False\n",
       "526639     False\n",
       "528503     False\n",
       "528682     False\n",
       "529160     False\n",
       "529703     False\n",
       "5279441    False\n",
       "535330     False\n",
       "534817     False\n",
       "529183     False\n",
       "5305629    False\n",
       "528668     False\n",
       "5287279    False\n",
       "534293     False\n",
       "529172     False\n",
       "535314     False\n",
       "528653     False\n",
       "5287179    False\n",
       "535364     False\n",
       "5275212    False\n",
       "529736     False\n",
       "529766     False\n",
       "5292929    False\n",
       "533887     False\n",
       "535031     False\n",
       "530301     False\n",
       "5294369    False\n",
       "530297     False\n",
       "529272     False\n",
       "535415     False\n",
       "530294     False\n",
       "534899     False\n",
       "529777     False\n",
       "535407     False\n",
       "522979     False\n",
       "528743     False\n",
       "534885     False\n",
       "534857     False\n",
       "530276     False\n",
       "535392     False\n",
       "535338     False\n",
       "527709     False\n",
       "527706     False\n",
       "533847     False\n",
       "528214     False\n",
       "535381     False\n",
       "533750     False\n",
       "527698     False\n",
       "530255     False\n",
       "530254     False\n",
       "533836     False\n",
       "530251     False\n",
       "535043     False\n",
       "Name: Hospital Number, dtype: bool"
      ]
     },
     "execution_count": 32,
     "metadata": {},
     "output_type": "execute_result"
    }
   ],
   "source": [
    "#Hospital Number is an id column , redundant info\n",
    "df['Hospital Number'].value_counts()>1"
   ]
  },
  {
   "cell_type": "markdown",
   "metadata": {},
   "source": [
    "#Hospital number data cannot be used as it exists right now. It's values are not continuous ranges.It's not a measure of how good the hospital is.These are all independent of each other. Due to lack of info we decided to drop it as follows...\n",
    "\n",
    "#also, from data description and further analysis, we drop insignificant features ['cp_data', 'type of lesion 1', 'type of lesion 2', 'type of lesion 3','nasogastric reflux'"
   ]
  },
  {
   "cell_type": "code",
   "execution_count": 33,
   "metadata": {
    "tags": []
   },
   "outputs": [
    {
     "data": {
      "text/plain": [
       "22"
      ]
     },
     "execution_count": 33,
     "metadata": {},
     "output_type": "execute_result"
    }
   ],
   "source": [
    "#dropping redundant columns as per data description and from prelim examtn\n",
    "df.drop(['Hospital Number','cp_data','type of lesion 1', 'type of lesion 2',\n",
    "       'type of lesion 3','nasogastric reflux'],axis=1,inplace=True)\n",
    "df.shape[1]"
   ]
  },
  {
   "cell_type": "markdown",
   "metadata": {},
   "source": [
    "## Composition of missing values per column i.e NaN values..."
   ]
  },
  {
   "cell_type": "code",
   "execution_count": 34,
   "metadata": {},
   "outputs": [
    {
     "data": {
      "text/plain": [
       "1499"
      ]
     },
     "execution_count": 34,
     "metadata": {},
     "output_type": "execute_result"
    }
   ],
   "source": [
    "#recheck for m,issing values\n",
    "df.isnull().sum().sum()"
   ]
  },
  {
   "cell_type": "code",
   "execution_count": 35,
   "metadata": {},
   "outputs": [
    {
     "data": {
      "text/plain": [
       "nasogastric reflux PH          82.33\n",
       "abdomcentesis total protein    66.00\n",
       "abdominocentesis appearance    55.00\n",
       "abdomen                        39.33\n",
       "nasogastric tube               34.67\n",
       "rectal examination             34.00\n",
       "peripheral pulse               23.00\n",
       "rectal temperature             20.00\n",
       "respiratory rate               19.33\n",
       "abdominal distension           18.67\n",
       "temperature of extremities     18.67\n",
       "pain                           18.33\n",
       "mucous membranes               15.67\n",
       "peristalsis                    14.67\n",
       "total protein                  11.00\n",
       "capillary refill time          10.67\n",
       "packed cell volume              9.67\n",
       "pulse                           8.00\n",
       "surgery                         0.33\n",
       "outcome                         0.33\n",
       "Age                             0.00\n",
       "surgical lesion                 0.00\n",
       "dtype: float64"
      ]
     },
     "execution_count": 35,
     "metadata": {},
     "output_type": "execute_result"
    }
   ],
   "source": [
    "#displaying % f missing vals per column, in descending order of missing %\n",
    "np.round((df.isnull().sum()/len(df))*100,2).sort_values(ascending=False)"
   ]
  },
  {
   "cell_type": "markdown",
   "metadata": {},
   "source": [
    "### In order to perevent model bias, dropping those columns that have high concentration of missing values..."
   ]
  },
  {
   "cell_type": "code",
   "execution_count": 36,
   "metadata": {},
   "outputs": [
    {
     "data": {
      "text/plain": [
       "(300, 19)"
      ]
     },
     "execution_count": 36,
     "metadata": {},
     "output_type": "execute_result"
    }
   ],
   "source": [
    "#dropping ciolumns with more than 50% missing values\n",
    "df=df.drop(['nasogastric reflux PH','abdomcentesis total protein','abdominocentesis appearance'],axis=1)\n",
    "df.shape"
   ]
  },
  {
   "cell_type": "markdown",
   "metadata": {},
   "source": [
    "--------------------------------------------------------------------------------------------------------------------------------------------"
   ]
  },
  {
   "cell_type": "markdown",
   "metadata": {},
   "source": [
    "#### Re-assigning numerical and categorical columns..."
   ]
  },
  {
   "cell_type": "code",
   "execution_count": 37,
   "metadata": {},
   "outputs": [],
   "source": [
    "#dicide df into numerical and object dataframe, based on default datatypes\n",
    "num_df = df.select_dtypes(exclude = \"object\")\n",
    "obj_df = df.select_dtypes(include = \"object\")"
   ]
  },
  {
   "cell_type": "code",
   "execution_count": 38,
   "metadata": {
    "tags": []
   },
   "outputs": [
    {
     "name": "stdout",
     "output_type": "stream",
     "text": [
      "number of numerical columns : 5 \n",
      "number of categorical columns : 14\n"
     ]
    }
   ],
   "source": [
    "#no. of cols in each df\n",
    "print(\"number of numerical columns :\",num_df.shape[1], \"\\nnumber of categorical columns :\",obj_df.shape[1])"
   ]
  },
  {
   "cell_type": "code",
   "execution_count": 38,
   "metadata": {},
   "outputs": [],
   "source": [
    "# num_df.nunique()"
   ]
  },
  {
   "cell_type": "code",
   "execution_count": 39,
   "metadata": {
    "collapsed": true,
    "jupyter": {
     "outputs_hidden": true
    },
    "scrolled": true,
    "tags": []
   },
   "outputs": [],
   "source": [
    "# obj_df.nunique()"
   ]
  },
  {
   "cell_type": "markdown",
   "metadata": {},
   "source": [
    "--------------------------------------------------------------------------------------------------------------------------------------------"
   ]
  },
  {
   "cell_type": "markdown",
   "metadata": {},
   "source": [
    "# Missing value treatment using Simple Imputer:-"
   ]
  },
  {
   "cell_type": "markdown",
   "metadata": {},
   "source": [
    "### 1. For numerical datatype columns...replacing with median value"
   ]
  },
  {
   "cell_type": "code",
   "execution_count": 39,
   "metadata": {
    "collapsed": true,
    "jupyter": {
     "outputs_hidden": true
    },
    "scrolled": true,
    "tags": []
   },
   "outputs": [
    {
     "data": {
      "text/plain": [
       "rectal temperature    20.00\n",
       "respiratory rate      19.33\n",
       "total protein         11.00\n",
       "packed cell volume     9.67\n",
       "pulse                  8.00\n",
       "dtype: float64"
      ]
     },
     "execution_count": 39,
     "metadata": {},
     "output_type": "execute_result"
    }
   ],
   "source": [
    "#missing value %age check for num df\n",
    "np.round(num_df.isnull().sum()/len(num_df)*100,2).sort_values(ascending=False)"
   ]
  },
  {
   "cell_type": "code",
   "execution_count": 40,
   "metadata": {
    "collapsed": true,
    "jupyter": {
     "outputs_hidden": true
    },
    "tags": []
   },
   "outputs": [
    {
     "data": {
      "text/html": [
       "<div>\n",
       "<style scoped>\n",
       "    .dataframe tbody tr th:only-of-type {\n",
       "        vertical-align: middle;\n",
       "    }\n",
       "\n",
       "    .dataframe tbody tr th {\n",
       "        vertical-align: top;\n",
       "    }\n",
       "\n",
       "    .dataframe thead th {\n",
       "        text-align: right;\n",
       "    }\n",
       "</style>\n",
       "<table border=\"1\" class=\"dataframe\">\n",
       "  <thead>\n",
       "    <tr style=\"text-align: right;\">\n",
       "      <th></th>\n",
       "      <th>rectal temperature</th>\n",
       "      <th>pulse</th>\n",
       "      <th>respiratory rate</th>\n",
       "      <th>packed cell volume</th>\n",
       "      <th>total protein</th>\n",
       "    </tr>\n",
       "  </thead>\n",
       "  <tbody>\n",
       "    <tr>\n",
       "      <th>0</th>\n",
       "      <td>38.5</td>\n",
       "      <td>66.0</td>\n",
       "      <td>28.0</td>\n",
       "      <td>45.0</td>\n",
       "      <td>8.4</td>\n",
       "    </tr>\n",
       "    <tr>\n",
       "      <th>1</th>\n",
       "      <td>39.2</td>\n",
       "      <td>88.0</td>\n",
       "      <td>20.0</td>\n",
       "      <td>50.0</td>\n",
       "      <td>85.0</td>\n",
       "    </tr>\n",
       "    <tr>\n",
       "      <th>2</th>\n",
       "      <td>38.3</td>\n",
       "      <td>40.0</td>\n",
       "      <td>24.0</td>\n",
       "      <td>33.0</td>\n",
       "      <td>6.7</td>\n",
       "    </tr>\n",
       "    <tr>\n",
       "      <th>3</th>\n",
       "      <td>39.1</td>\n",
       "      <td>164.0</td>\n",
       "      <td>84.0</td>\n",
       "      <td>48.0</td>\n",
       "      <td>7.2</td>\n",
       "    </tr>\n",
       "    <tr>\n",
       "      <th>4</th>\n",
       "      <td>37.3</td>\n",
       "      <td>104.0</td>\n",
       "      <td>35.0</td>\n",
       "      <td>74.0</td>\n",
       "      <td>7.4</td>\n",
       "    </tr>\n",
       "  </tbody>\n",
       "</table>\n",
       "</div>"
      ],
      "text/plain": [
       "   rectal temperature  pulse  respiratory rate  packed cell volume  \\\n",
       "0                38.5   66.0              28.0                45.0   \n",
       "1                39.2   88.0              20.0                50.0   \n",
       "2                38.3   40.0              24.0                33.0   \n",
       "3                39.1  164.0              84.0                48.0   \n",
       "4                37.3  104.0              35.0                74.0   \n",
       "\n",
       "   total protein  \n",
       "0            8.4  \n",
       "1           85.0  \n",
       "2            6.7  \n",
       "3            7.2  \n",
       "4            7.4  "
      ]
     },
     "execution_count": 40,
     "metadata": {},
     "output_type": "execute_result"
    }
   ],
   "source": [
    "#use simple imputer, missing values replaced by median, \n",
    "#so that they are not influenced by outliers\n",
    "from sklearn.impute import SimpleImputer\n",
    "imputer = SimpleImputer(missing_values=np.nan, strategy='median')\n",
    "num_df_msg_imp_med = pd.DataFrame(imputer.fit_transform(num_df))\n",
    "#replacing col nmaes by orig coil names\n",
    "num_df_msg_imp_med.columns=num_df.columns\n",
    "num_df_msg_imp_med.head()"
   ]
  },
  {
   "cell_type": "code",
   "execution_count": 41,
   "metadata": {},
   "outputs": [
    {
     "data": {
      "text/plain": [
       "0"
      ]
     },
     "execution_count": 41,
     "metadata": {},
     "output_type": "execute_result"
    }
   ],
   "source": [
    "num_df_msg_imp_med.isnull().sum().sum()"
   ]
  },
  {
   "cell_type": "code",
   "execution_count": 43,
   "metadata": {
    "collapsed": true,
    "jupyter": {
     "outputs_hidden": true
    },
    "tags": []
   },
   "outputs": [
    {
     "data": {
      "text/html": [
       "<div>\n",
       "<style scoped>\n",
       "    .dataframe tbody tr th:only-of-type {\n",
       "        vertical-align: middle;\n",
       "    }\n",
       "\n",
       "    .dataframe tbody tr th {\n",
       "        vertical-align: top;\n",
       "    }\n",
       "\n",
       "    .dataframe thead th {\n",
       "        text-align: right;\n",
       "    }\n",
       "</style>\n",
       "<table border=\"1\" class=\"dataframe\">\n",
       "  <thead>\n",
       "    <tr style=\"text-align: right;\">\n",
       "      <th></th>\n",
       "      <th>surgery</th>\n",
       "      <th>Age</th>\n",
       "      <th>temperature of extremities</th>\n",
       "      <th>peripheral pulse</th>\n",
       "      <th>mucous membranes</th>\n",
       "      <th>capillary refill time</th>\n",
       "      <th>pain</th>\n",
       "      <th>peristalsis</th>\n",
       "      <th>abdominal distension</th>\n",
       "      <th>nasogastric tube</th>\n",
       "      <th>rectal examination</th>\n",
       "      <th>abdomen</th>\n",
       "      <th>outcome</th>\n",
       "      <th>surgical lesion</th>\n",
       "    </tr>\n",
       "  </thead>\n",
       "  <tbody>\n",
       "    <tr>\n",
       "      <th>0</th>\n",
       "      <td>2</td>\n",
       "      <td>1</td>\n",
       "      <td>3</td>\n",
       "      <td>3</td>\n",
       "      <td>1</td>\n",
       "      <td>2</td>\n",
       "      <td>5</td>\n",
       "      <td>4</td>\n",
       "      <td>4</td>\n",
       "      <td>2</td>\n",
       "      <td>3</td>\n",
       "      <td>5</td>\n",
       "      <td>2</td>\n",
       "      <td>2</td>\n",
       "    </tr>\n",
       "    <tr>\n",
       "      <th>1</th>\n",
       "      <td>1</td>\n",
       "      <td>1</td>\n",
       "      <td>3</td>\n",
       "      <td>1</td>\n",
       "      <td>4</td>\n",
       "      <td>1</td>\n",
       "      <td>3</td>\n",
       "      <td>4</td>\n",
       "      <td>2</td>\n",
       "      <td>2</td>\n",
       "      <td>4</td>\n",
       "      <td>2</td>\n",
       "      <td>3</td>\n",
       "      <td>2</td>\n",
       "    </tr>\n",
       "    <tr>\n",
       "      <th>2</th>\n",
       "      <td>2</td>\n",
       "      <td>1</td>\n",
       "      <td>1</td>\n",
       "      <td>1</td>\n",
       "      <td>3</td>\n",
       "      <td>1</td>\n",
       "      <td>3</td>\n",
       "      <td>3</td>\n",
       "      <td>1</td>\n",
       "      <td>2</td>\n",
       "      <td>1</td>\n",
       "      <td>1</td>\n",
       "      <td>1</td>\n",
       "      <td>2</td>\n",
       "    </tr>\n",
       "    <tr>\n",
       "      <th>3</th>\n",
       "      <td>1</td>\n",
       "      <td>9</td>\n",
       "      <td>4</td>\n",
       "      <td>1</td>\n",
       "      <td>6</td>\n",
       "      <td>2</td>\n",
       "      <td>2</td>\n",
       "      <td>4</td>\n",
       "      <td>4</td>\n",
       "      <td>1</td>\n",
       "      <td>3</td>\n",
       "      <td>5</td>\n",
       "      <td>2</td>\n",
       "      <td>1</td>\n",
       "    </tr>\n",
       "    <tr>\n",
       "      <th>4</th>\n",
       "      <td>2</td>\n",
       "      <td>1</td>\n",
       "      <td>3</td>\n",
       "      <td>1</td>\n",
       "      <td>6</td>\n",
       "      <td>2</td>\n",
       "      <td>3</td>\n",
       "      <td>3</td>\n",
       "      <td>1</td>\n",
       "      <td>2</td>\n",
       "      <td>4</td>\n",
       "      <td>5</td>\n",
       "      <td>2</td>\n",
       "      <td>2</td>\n",
       "    </tr>\n",
       "  </tbody>\n",
       "</table>\n",
       "</div>"
      ],
      "text/plain": [
       "  surgery Age temperature of extremities peripheral pulse mucous membranes  \\\n",
       "0       2   1                          3                3                1   \n",
       "1       1   1                          3                1                4   \n",
       "2       2   1                          1                1                3   \n",
       "3       1   9                          4                1                6   \n",
       "4       2   1                          3                1                6   \n",
       "\n",
       "  capillary refill time pain peristalsis abdominal distension  \\\n",
       "0                     2    5           4                    4   \n",
       "1                     1    3           4                    2   \n",
       "2                     1    3           3                    1   \n",
       "3                     2    2           4                    4   \n",
       "4                     2    3           3                    1   \n",
       "\n",
       "  nasogastric tube rectal examination abdomen outcome surgical lesion  \n",
       "0                2                  3       5       2               2  \n",
       "1                2                  4       2       3               2  \n",
       "2                2                  1       1       1               2  \n",
       "3                1                  3       5       2               1  \n",
       "4                2                  4       5       2               2  "
      ]
     },
     "execution_count": 43,
     "metadata": {},
     "output_type": "execute_result"
    }
   ],
   "source": [
    "#use simple imputer, missing values replaced by 'mode'keyword is 'most_frequent'\n",
    "imputer = SimpleImputer(missing_values=np.nan, strategy='most_frequent')\n",
    "obj_df_msg_imp_mode = pd.DataFrame(imputer.fit_transform(obj_df))\n",
    "#replacing col names with orig obj_df col names\n",
    "obj_df_msg_imp_mode.columns=obj_df.columns\n",
    "obj_df_msg_imp_mode.head(4)"
   ]
  },
  {
   "cell_type": "markdown",
   "metadata": {},
   "source": [
    "### 2. For categorical datatype columns....replacing with most_frequent value"
   ]
  },
  {
   "cell_type": "code",
   "execution_count": 42,
   "metadata": {
    "collapsed": true,
    "jupyter": {
     "outputs_hidden": true
    },
    "scrolled": true,
    "tags": []
   },
   "outputs": [
    {
     "data": {
      "text/plain": [
       "abdomen                       39.33\n",
       "nasogastric tube              34.67\n",
       "rectal examination            34.00\n",
       "peripheral pulse              23.00\n",
       "abdominal distension          18.67\n",
       "temperature of extremities    18.67\n",
       "pain                          18.33\n",
       "mucous membranes              15.67\n",
       "peristalsis                   14.67\n",
       "capillary refill time         10.67\n",
       "outcome                        0.33\n",
       "surgery                        0.33\n",
       "surgical lesion                0.00\n",
       "Age                            0.00\n",
       "dtype: float64"
      ]
     },
     "execution_count": 42,
     "metadata": {},
     "output_type": "execute_result"
    }
   ],
   "source": [
    "#missing value %age check for obj df\n",
    "np.round(obj_df.isnull().sum()/len(obj_df)*100,2).sort_values(ascending=False)"
   ]
  },
  {
   "cell_type": "code",
   "execution_count": 154,
   "metadata": {
    "collapsed": true,
    "jupyter": {
     "outputs_hidden": true
    },
    "tags": []
   },
   "outputs": [
    {
     "data": {
      "text/html": [
       "<div>\n",
       "<style scoped>\n",
       "    .dataframe tbody tr th:only-of-type {\n",
       "        vertical-align: middle;\n",
       "    }\n",
       "\n",
       "    .dataframe tbody tr th {\n",
       "        vertical-align: top;\n",
       "    }\n",
       "\n",
       "    .dataframe thead th {\n",
       "        text-align: right;\n",
       "    }\n",
       "</style>\n",
       "<table border=\"1\" class=\"dataframe\">\n",
       "  <thead>\n",
       "    <tr style=\"text-align: right;\">\n",
       "      <th></th>\n",
       "      <th>surgery</th>\n",
       "      <th>Age</th>\n",
       "      <th>temperature of extremities</th>\n",
       "      <th>peripheral pulse</th>\n",
       "      <th>mucous membranes</th>\n",
       "      <th>capillary refill time</th>\n",
       "      <th>pain</th>\n",
       "      <th>peristalsis</th>\n",
       "      <th>abdominal distension</th>\n",
       "      <th>nasogastric tube</th>\n",
       "      <th>rectal examination</th>\n",
       "      <th>abdomen</th>\n",
       "      <th>surgical lesion</th>\n",
       "    </tr>\n",
       "  </thead>\n",
       "  <tbody>\n",
       "    <tr>\n",
       "      <th>0</th>\n",
       "      <td>2</td>\n",
       "      <td>1</td>\n",
       "      <td>3</td>\n",
       "      <td>3</td>\n",
       "      <td>1</td>\n",
       "      <td>2</td>\n",
       "      <td>5</td>\n",
       "      <td>4</td>\n",
       "      <td>4</td>\n",
       "      <td>2</td>\n",
       "      <td>3</td>\n",
       "      <td>5</td>\n",
       "      <td>2</td>\n",
       "    </tr>\n",
       "    <tr>\n",
       "      <th>1</th>\n",
       "      <td>1</td>\n",
       "      <td>1</td>\n",
       "      <td>3</td>\n",
       "      <td>1</td>\n",
       "      <td>4</td>\n",
       "      <td>1</td>\n",
       "      <td>3</td>\n",
       "      <td>4</td>\n",
       "      <td>2</td>\n",
       "      <td>2</td>\n",
       "      <td>4</td>\n",
       "      <td>2</td>\n",
       "      <td>2</td>\n",
       "    </tr>\n",
       "    <tr>\n",
       "      <th>2</th>\n",
       "      <td>2</td>\n",
       "      <td>1</td>\n",
       "      <td>1</td>\n",
       "      <td>1</td>\n",
       "      <td>3</td>\n",
       "      <td>1</td>\n",
       "      <td>3</td>\n",
       "      <td>3</td>\n",
       "      <td>1</td>\n",
       "      <td>2</td>\n",
       "      <td>1</td>\n",
       "      <td>1</td>\n",
       "      <td>2</td>\n",
       "    </tr>\n",
       "    <tr>\n",
       "      <th>3</th>\n",
       "      <td>1</td>\n",
       "      <td>9</td>\n",
       "      <td>4</td>\n",
       "      <td>1</td>\n",
       "      <td>6</td>\n",
       "      <td>2</td>\n",
       "      <td>2</td>\n",
       "      <td>4</td>\n",
       "      <td>4</td>\n",
       "      <td>1</td>\n",
       "      <td>3</td>\n",
       "      <td>5</td>\n",
       "      <td>1</td>\n",
       "    </tr>\n",
       "  </tbody>\n",
       "</table>\n",
       "</div>"
      ],
      "text/plain": [
       "  surgery Age temperature of extremities peripheral pulse mucous membranes  \\\n",
       "0       2   1                          3                3                1   \n",
       "1       1   1                          3                1                4   \n",
       "2       2   1                          1                1                3   \n",
       "3       1   9                          4                1                6   \n",
       "\n",
       "  capillary refill time pain peristalsis abdominal distension  \\\n",
       "0                     2    5           4                    4   \n",
       "1                     1    3           4                    2   \n",
       "2                     1    3           3                    1   \n",
       "3                     2    2           4                    4   \n",
       "\n",
       "  nasogastric tube rectal examination abdomen surgical lesion  \n",
       "0                2                  3       5               2  \n",
       "1                2                  4       2               2  \n",
       "2                2                  1       1               2  \n",
       "3                1                  3       5               1  "
      ]
     },
     "execution_count": 154,
     "metadata": {},
     "output_type": "execute_result"
    }
   ],
   "source": [
    "#use simple imputer, missing values replaced by 'mode'keyword is 'most_frequent'\n",
    "imputer = SimpleImputer(missing_values=np.nan, strategy='most_frequent')\n",
    "obj_df_msg_imp_mode = pd.DataFrame(imputer.fit_transform(obj_df))\n",
    "#replacing col names with orig obj_df col names\n",
    "obj_df_msg_imp_mode.columns=obj_df.columns\n",
    "obj_df_msg_imp_mode.head(4)"
   ]
  },
  {
   "cell_type": "code",
   "execution_count": 44,
   "metadata": {
    "scrolled": true
   },
   "outputs": [
    {
     "data": {
      "text/plain": [
       "0"
      ]
     },
     "execution_count": 44,
     "metadata": {},
     "output_type": "execute_result"
    }
   ],
   "source": [
    "#rechecking msg vals\n",
    "obj_df_msg_imp_mode.isnull().sum().sum()"
   ]
  },
  {
   "cell_type": "markdown",
   "metadata": {},
   "source": [
    "# re-assigning numerical and categorical dataframes"
   ]
  },
  {
   "cell_type": "code",
   "execution_count": 45,
   "metadata": {},
   "outputs": [],
   "source": [
    "#reassigning df and target var\n",
    "obj_df=obj_df_msg_imp_mode\n",
    "num_df=num_df_msg_imp_med\n",
    "y=obj_df['outcome']\n",
    "#dropping target var from obj_df feat df\n",
    "obj_df=obj_df.drop(['outcome'],axis=1)"
   ]
  },
  {
   "cell_type": "code",
   "execution_count": 46,
   "metadata": {
    "scrolled": true
   },
   "outputs": [
    {
     "data": {
      "text/plain": [
       "0"
      ]
     },
     "execution_count": 46,
     "metadata": {},
     "output_type": "execute_result"
    }
   ],
   "source": [
    "#recheck missing val in y\n",
    "y.isnull().sum()"
   ]
  },
  {
   "cell_type": "markdown",
   "metadata": {},
   "source": [
    "### statistical analysis"
   ]
  },
  {
   "cell_type": "code",
   "execution_count": 48,
   "metadata": {},
   "outputs": [
    {
     "data": {
      "text/html": [
       "<div>\n",
       "<style scoped>\n",
       "    .dataframe tbody tr th:only-of-type {\n",
       "        vertical-align: middle;\n",
       "    }\n",
       "\n",
       "    .dataframe tbody tr th {\n",
       "        vertical-align: top;\n",
       "    }\n",
       "\n",
       "    .dataframe thead th {\n",
       "        text-align: right;\n",
       "    }\n",
       "</style>\n",
       "<table border=\"1\" class=\"dataframe\">\n",
       "  <thead>\n",
       "    <tr style=\"text-align: right;\">\n",
       "      <th></th>\n",
       "      <th>surgery</th>\n",
       "      <th>Age</th>\n",
       "      <th>temperature of extremities</th>\n",
       "      <th>peripheral pulse</th>\n",
       "      <th>mucous membranes</th>\n",
       "      <th>capillary refill time</th>\n",
       "      <th>pain</th>\n",
       "      <th>peristalsis</th>\n",
       "      <th>abdominal distension</th>\n",
       "      <th>nasogastric tube</th>\n",
       "      <th>rectal examination</th>\n",
       "      <th>abdomen</th>\n",
       "      <th>surgical lesion</th>\n",
       "    </tr>\n",
       "  </thead>\n",
       "  <tbody>\n",
       "    <tr>\n",
       "      <th>count</th>\n",
       "      <td>300</td>\n",
       "      <td>300</td>\n",
       "      <td>300</td>\n",
       "      <td>300</td>\n",
       "      <td>300</td>\n",
       "      <td>300</td>\n",
       "      <td>300</td>\n",
       "      <td>300</td>\n",
       "      <td>300</td>\n",
       "      <td>300</td>\n",
       "      <td>300</td>\n",
       "      <td>300</td>\n",
       "      <td>300</td>\n",
       "    </tr>\n",
       "    <tr>\n",
       "      <th>unique</th>\n",
       "      <td>2</td>\n",
       "      <td>2</td>\n",
       "      <td>4</td>\n",
       "      <td>4</td>\n",
       "      <td>6</td>\n",
       "      <td>3</td>\n",
       "      <td>5</td>\n",
       "      <td>4</td>\n",
       "      <td>4</td>\n",
       "      <td>3</td>\n",
       "      <td>4</td>\n",
       "      <td>5</td>\n",
       "      <td>2</td>\n",
       "    </tr>\n",
       "    <tr>\n",
       "      <th>top</th>\n",
       "      <td>1</td>\n",
       "      <td>1</td>\n",
       "      <td>3</td>\n",
       "      <td>1</td>\n",
       "      <td>1</td>\n",
       "      <td>1</td>\n",
       "      <td>3</td>\n",
       "      <td>3</td>\n",
       "      <td>1</td>\n",
       "      <td>2</td>\n",
       "      <td>4</td>\n",
       "      <td>5</td>\n",
       "      <td>1</td>\n",
       "    </tr>\n",
       "    <tr>\n",
       "      <th>freq</th>\n",
       "      <td>181</td>\n",
       "      <td>276</td>\n",
       "      <td>165</td>\n",
       "      <td>184</td>\n",
       "      <td>126</td>\n",
       "      <td>220</td>\n",
       "      <td>122</td>\n",
       "      <td>172</td>\n",
       "      <td>132</td>\n",
       "      <td>206</td>\n",
       "      <td>181</td>\n",
       "      <td>197</td>\n",
       "      <td>191</td>\n",
       "    </tr>\n",
       "  </tbody>\n",
       "</table>\n",
       "</div>"
      ],
      "text/plain": [
       "       surgery  Age temperature of extremities peripheral pulse  \\\n",
       "count      300  300                        300              300   \n",
       "unique       2    2                          4                4   \n",
       "top          1    1                          3                1   \n",
       "freq       181  276                        165              184   \n",
       "\n",
       "       mucous membranes capillary refill time pain peristalsis  \\\n",
       "count               300                   300  300         300   \n",
       "unique                6                     3    5           4   \n",
       "top                   1                     1    3           3   \n",
       "freq                126                   220  122         172   \n",
       "\n",
       "       abdominal distension nasogastric tube rectal examination abdomen  \\\n",
       "count                   300              300                300     300   \n",
       "unique                    4                3                  4       5   \n",
       "top                       1                2                  4       5   \n",
       "freq                    132              206                181     197   \n",
       "\n",
       "        surgical lesion  \n",
       "count               300  \n",
       "unique                2  \n",
       "top                   1  \n",
       "freq                191  "
      ]
     },
     "execution_count": 48,
     "metadata": {},
     "output_type": "execute_result"
    }
   ],
   "source": [
    "obj_df.describe()"
   ]
  },
  {
   "cell_type": "code",
   "execution_count": 49,
   "metadata": {
    "scrolled": true
   },
   "outputs": [
    {
     "data": {
      "text/html": [
       "<div>\n",
       "<style scoped>\n",
       "    .dataframe tbody tr th:only-of-type {\n",
       "        vertical-align: middle;\n",
       "    }\n",
       "\n",
       "    .dataframe tbody tr th {\n",
       "        vertical-align: top;\n",
       "    }\n",
       "\n",
       "    .dataframe thead th {\n",
       "        text-align: right;\n",
       "    }\n",
       "</style>\n",
       "<table border=\"1\" class=\"dataframe\">\n",
       "  <thead>\n",
       "    <tr style=\"text-align: right;\">\n",
       "      <th></th>\n",
       "      <th>rectal temperature</th>\n",
       "      <th>pulse</th>\n",
       "      <th>respiratory rate</th>\n",
       "      <th>packed cell volume</th>\n",
       "      <th>total protein</th>\n",
       "    </tr>\n",
       "  </thead>\n",
       "  <tbody>\n",
       "    <tr>\n",
       "      <th>count</th>\n",
       "      <td>300.000000</td>\n",
       "      <td>300.000000</td>\n",
       "      <td>300.000000</td>\n",
       "      <td>300.000000</td>\n",
       "      <td>300.000000</td>\n",
       "    </tr>\n",
       "    <tr>\n",
       "      <th>mean</th>\n",
       "      <td>38.174333</td>\n",
       "      <td>71.280000</td>\n",
       "      <td>29.273333</td>\n",
       "      <td>46.170000</td>\n",
       "      <td>22.591667</td>\n",
       "    </tr>\n",
       "    <tr>\n",
       "      <th>std</th>\n",
       "      <td>0.654831</td>\n",
       "      <td>27.541545</td>\n",
       "      <td>16.010979</td>\n",
       "      <td>9.908584</td>\n",
       "      <td>26.453849</td>\n",
       "    </tr>\n",
       "    <tr>\n",
       "      <th>min</th>\n",
       "      <td>35.400000</td>\n",
       "      <td>30.000000</td>\n",
       "      <td>8.000000</td>\n",
       "      <td>23.000000</td>\n",
       "      <td>3.300000</td>\n",
       "    </tr>\n",
       "    <tr>\n",
       "      <th>25%</th>\n",
       "      <td>37.900000</td>\n",
       "      <td>48.000000</td>\n",
       "      <td>20.000000</td>\n",
       "      <td>39.000000</td>\n",
       "      <td>6.600000</td>\n",
       "    </tr>\n",
       "    <tr>\n",
       "      <th>50%</th>\n",
       "      <td>38.200000</td>\n",
       "      <td>64.000000</td>\n",
       "      <td>24.500000</td>\n",
       "      <td>45.000000</td>\n",
       "      <td>7.500000</td>\n",
       "    </tr>\n",
       "    <tr>\n",
       "      <th>75%</th>\n",
       "      <td>38.500000</td>\n",
       "      <td>88.000000</td>\n",
       "      <td>34.250000</td>\n",
       "      <td>50.000000</td>\n",
       "      <td>53.250000</td>\n",
       "    </tr>\n",
       "    <tr>\n",
       "      <th>max</th>\n",
       "      <td>40.800000</td>\n",
       "      <td>184.000000</td>\n",
       "      <td>96.000000</td>\n",
       "      <td>75.000000</td>\n",
       "      <td>89.000000</td>\n",
       "    </tr>\n",
       "  </tbody>\n",
       "</table>\n",
       "</div>"
      ],
      "text/plain": [
       "       rectal temperature       pulse  respiratory rate  packed cell volume  \\\n",
       "count          300.000000  300.000000        300.000000          300.000000   \n",
       "mean            38.174333   71.280000         29.273333           46.170000   \n",
       "std              0.654831   27.541545         16.010979            9.908584   \n",
       "min             35.400000   30.000000          8.000000           23.000000   \n",
       "25%             37.900000   48.000000         20.000000           39.000000   \n",
       "50%             38.200000   64.000000         24.500000           45.000000   \n",
       "75%             38.500000   88.000000         34.250000           50.000000   \n",
       "max             40.800000  184.000000         96.000000           75.000000   \n",
       "\n",
       "       total protein  \n",
       "count     300.000000  \n",
       "mean       22.591667  \n",
       "std        26.453849  \n",
       "min         3.300000  \n",
       "25%         6.600000  \n",
       "50%         7.500000  \n",
       "75%        53.250000  \n",
       "max        89.000000  "
      ]
     },
     "execution_count": 49,
     "metadata": {},
     "output_type": "execute_result"
    }
   ],
   "source": [
    "num_df.describe()"
   ]
  },
  {
   "cell_type": "markdown",
   "metadata": {},
   "source": [
    "# Outlier Detection and treatment"
   ]
  },
  {
   "cell_type": "code",
   "execution_count": 50,
   "metadata": {},
   "outputs": [
    {
     "data": {
      "image/png": "[encoded data removed]",
      "text/plain": [
       "<Figure size 432x288 with 1 Axes>"
      ]
     },
     "metadata": {
      "needs_background": "light"
     },
     "output_type": "display_data"
    },
    {
     "data": {
      "image/png": "[encoded data removed]",
      "text/plain": [
       "<Figure size 432x288 with 1 Axes>"
      ]
     },
     "metadata": {
      "needs_background": "light"
     },
     "output_type": "display_data"
    },
    {
     "data": {
      "image/png": "[encoded data removed]",
      "text/plain": [
       "<Figure size 432x288 with 1 Axes>"
      ]
     },
     "metadata": {
      "needs_background": "light"
     },
     "output_type": "display_data"
    },
    {
     "data": {
      "image/png": "[encoded data removed]",
      "text/plain": [
       "<Figure size 432x288 with 1 Axes>"
      ]
     },
     "metadata": {
      "needs_background": "light"
     },
     "output_type": "display_data"
    },
    {
     "data": {
      "image/png": "[encoded data removed]",
      "text/plain": [
       "<Figure size 432x288 with 1 Axes>"
      ]
     },
     "metadata": {
      "needs_background": "light"
     },
     "output_type": "display_data"
    }
   ],
   "source": [
    "#Checking for outliers in the data \n",
    "for i in num_df.columns:\n",
    "    sns.boxplot(num_df[i])\n",
    "    plt.show()"
   ]
  },
  {
   "cell_type": "code",
   "execution_count": 47,
   "metadata": {},
   "outputs": [],
   "source": [
    "#use IQR meth for outlier imputation\n",
    "for i in num_df.columns:\n",
    "    q1 = num_df[i].quantile(0.25)\n",
    "    q3 = num_df[i].quantile(0.75) \n",
    "    iqr = q3-q1\n",
    "    ll = q1 - 1.5*iqr\n",
    "    ul = q3 + 1.5*iqr\n",
    "    num_df[i] = num_df[i].replace(num_df[num_df[i]>ul][i],ul)\n",
    "    num_df[i] = num_df[i].replace(num_df[num_df[i]<ll][i],ll)"
   ]
  },
  {
   "cell_type": "code",
   "execution_count": 48,
   "metadata": {},
   "outputs": [
    {
     "data": {
      "image/png": "[encoded data removed]",
      "text/plain": [
       "<Figure size 432x288 with 1 Axes>"
      ]
     },
     "metadata": {
      "needs_background": "light"
     },
     "output_type": "display_data"
    },
    {
     "data": {
      "image/png": "[encoded data removed]",
      "text/plain": [
       "<Figure size 432x288 with 1 Axes>"
      ]
     },
     "metadata": {
      "needs_background": "light"
     },
     "output_type": "display_data"
    },
    {
     "data": {
      "image/png": "[encoded data removed]",
      "text/plain": [
       "<Figure size 432x288 with 1 Axes>"
      ]
     },
     "metadata": {
      "needs_background": "light"
     },
     "output_type": "display_data"
    },
    {
     "data": {
      "image/png": "[encoded data removed]",
      "text/plain": [
       "<Figure size 432x288 with 1 Axes>"
      ]
     },
     "metadata": {
      "needs_background": "light"
     },
     "output_type": "display_data"
    },
    {
     "data": {
      "image/png": "[encoded data removed]",
      "text/plain": [
       "<Figure size 432x288 with 1 Axes>"
      ]
     },
     "metadata": {
      "needs_background": "light"
     },
     "output_type": "display_data"
    }
   ],
   "source": [
    "#rechecking for outliers in the data \n",
    "for i in num_df.columns:\n",
    "    sns.boxplot(num_df[i])\n",
    "    plt.show()"
   ]
  },
  {
   "cell_type": "markdown",
   "metadata": {},
   "source": [
    "--------------------------------------------------------------------------------------------------------------------------------------------"
   ]
  },
  {
   "cell_type": "markdown",
   "metadata": {},
   "source": [
    "# Data Visualisations"
   ]
  },
  {
   "cell_type": "markdown",
   "metadata": {},
   "source": [
    "### Univariate analysis"
   ]
  },
  {
   "cell_type": "code",
   "execution_count": 53,
   "metadata": {
    "collapsed": true,
    "jupyter": {
     "outputs_hidden": true
    },
    "tags": []
   },
   "outputs": [
    {
     "data": {
      "text/plain": [
       "1    178\n",
       "2     77\n",
       "3     44\n",
       "Name: outcome, dtype: int64"
      ]
     },
     "execution_count": 53,
     "metadata": {},
     "output_type": "execute_result"
    }
   ],
   "source": [
    "#observe target variable outcome #3 levels#multi class classification algorithm\n",
    "df['outcome'].value_counts()"
   ]
  },
  {
   "cell_type": "code",
   "execution_count": 54,
   "metadata": {
    "collapsed": true,
    "jupyter": {
     "outputs_hidden": true
    },
    "tags": []
   },
   "outputs": [
    {
     "data": {
      "text/plain": [
       "1    59.53\n",
       "2    25.75\n",
       "3    14.72\n",
       "Name: outcome, dtype: float64"
      ]
     },
     "execution_count": 54,
     "metadata": {},
     "output_type": "execute_result"
    }
   ],
   "source": [
    "np.round(df['outcome'].value_counts(normalize=True)*100,2)"
   ]
  },
  {
   "cell_type": "code",
   "execution_count": 55,
   "metadata": {
    "tags": []
   },
   "outputs": [
    {
     "data": {
      "image/png": "[encoded data removed]",
      "text/plain": [
       "<Figure size 1080x360 with 1 Axes>"
      ]
     },
     "metadata": {},
     "output_type": "display_data"
    }
   ],
   "source": [
    "fig = plt.subplots(figsize=(15,5))\n",
    "fig=y.value_counts().plot(kind='pie',labels=y.value_counts().index,autopct = '%1.1f%%')#,ax=axes[0])\n",
    "\n",
    "plt.show()"
   ]
  },
  {
   "cell_type": "code",
   "execution_count": 56,
   "metadata": {},
   "outputs": [
    {
     "data": {
      "image/png": "[encoded data removed]",
      "text/plain": [
       "<Figure size 1080x360 with 1 Axes>"
      ]
     },
     "metadata": {
      "needs_background": "light"
     },
     "output_type": "display_data"
    }
   ],
   "source": [
    "fig = plt.subplots(figsize=(15,5))\n",
    "fig = y.value_counts().plot(kind='bar')\n",
    "plt.show()\n"
   ]
  },
  {
   "cell_type": "code",
   "execution_count": 57,
   "metadata": {
    "tags": []
   },
   "outputs": [
    {
     "data": {
      "image/png": "[encoded data removed]",
      "text/plain": [
       "<Figure size 1440x360 with 1 Axes>"
      ]
     },
     "metadata": {
      "needs_background": "light"
     },
     "output_type": "display_data"
    },
    {
     "data": {
      "image/png": "[encoded data removed]",
      "text/plain": [
       "<Figure size 1440x360 with 1 Axes>"
      ]
     },
     "metadata": {
      "needs_background": "light"
     },
     "output_type": "display_data"
    },
    {
     "data": {
      "image/png": "[encoded data removed]",
      "text/plain": [
       "<Figure size 1440x360 with 1 Axes>"
      ]
     },
     "metadata": {
      "needs_background": "light"
     },
     "output_type": "display_data"
    },
    {
     "data": {
      "image/png": "[encoded data removed]",
      "text/plain": [
       "<Figure size 1440x360 with 1 Axes>"
      ]
     },
     "metadata": {
      "needs_background": "light"
     },
     "output_type": "display_data"
    },
    {
     "data": {
      "image/png": "[encoded data removed]",
      "text/plain": [
       "<Figure size 1440x360 with 1 Axes>"
      ]
     },
     "metadata": {
      "needs_background": "light"
     },
     "output_type": "display_data"
    },
    {
     "data": {
      "image/png": "[encoded data removed]",
      "text/plain": [
       "<Figure size 1440x360 with 1 Axes>"
      ]
     },
     "metadata": {
      "needs_background": "light"
     },
     "output_type": "display_data"
    },
    {
     "data": {
      "image/png": "[encoded data removed]",
      "text/plain": [
       "<Figure size 1440x360 with 1 Axes>"
      ]
     },
     "metadata": {
      "needs_background": "light"
     },
     "output_type": "display_data"
    },
    {
     "data": {
      "image/png": "[encoded data removed]",
      "text/plain": [
       "<Figure size 1440x360 with 1 Axes>"
      ]
     },
     "metadata": {
      "needs_background": "light"
     },
     "output_type": "display_data"
    },
    {
     "data": {
      "image/png": "[encoded data removed]",
      "text/plain": [
       "<Figure size 1440x360 with 1 Axes>"
      ]
     },
     "metadata": {
      "needs_background": "light"
     },
     "output_type": "display_data"
    },
    {
     "data": {
      "image/png": "[encoded data removed]",
      "text/plain": [
       "<Figure size 1440x360 with 1 Axes>"
      ]
     },
     "metadata": {
      "needs_background": "light"
     },
     "output_type": "display_data"
    },
    {
     "data": {
      "image/png": "[encoded data removed]",
      "text/plain": [
       "<Figure size 1440x360 with 1 Axes>"
      ]
     },
     "metadata": {
      "needs_background": "light"
     },
     "output_type": "display_data"
    },
    {
     "data": {
      "image/png": "[encoded data removed]",
      "text/plain": [
       "<Figure size 1440x360 with 1 Axes>"
      ]
     },
     "metadata": {
      "needs_background": "light"
     },
     "output_type": "display_data"
    },
    {
     "data": {
      "image/png": "[encoded data removed]",
      "text/plain": [
       "<Figure size 1440x360 with 1 Axes>"
      ]
     },
     "metadata": {
      "needs_background": "light"
     },
     "output_type": "display_data"
    }
   ],
   "source": [
    "for i in obj_df.columns:\n",
    "    plt.figure(figsize = (20,5))\n",
    "    sns.countplot(obj_df[i])\n",
    "    plt.xticks(rotation = 90)\n",
    "    plt.show()"
   ]
  },
  {
   "cell_type": "markdown",
   "metadata": {},
   "source": [
    "--------------------------------------------------------------------------------------------------------------------------------------------"
   ]
  },
  {
   "cell_type": "markdown",
   "metadata": {},
   "source": [
    "## Distribution of numerical columns"
   ]
  },
  {
   "cell_type": "code",
   "execution_count": 58,
   "metadata": {
    "tags": []
   },
   "outputs": [
    {
     "data": {
      "image/png": "[encoded data removed]",
      "text/plain": [
       "<Figure size 432x288 with 1 Axes>"
      ]
     },
     "metadata": {
      "needs_background": "light"
     },
     "output_type": "display_data"
    },
    {
     "data": {
      "image/png": "[encoded data removed]",
      "text/plain": [
       "<Figure size 432x288 with 1 Axes>"
      ]
     },
     "metadata": {
      "needs_background": "light"
     },
     "output_type": "display_data"
    },
    {
     "data": {
      "image/png": "[encoded data removed]",
      "text/plain": [
       "<Figure size 432x288 with 1 Axes>"
      ]
     },
     "metadata": {
      "needs_background": "light"
     },
     "output_type": "display_data"
    },
    {
     "data": {
      "image/png": "[encoded data removed]",
      "text/plain": [
       "<Figure size 432x288 with 1 Axes>"
      ]
     },
     "metadata": {
      "needs_background": "light"
     },
     "output_type": "display_data"
    },
    {
     "data": {
      "image/png": "[encoded data removed]",
      "text/plain": [
       "<Figure size 432x288 with 1 Axes>"
      ]
     },
     "metadata": {
      "needs_background": "light"
     },
     "output_type": "display_data"
    }
   ],
   "source": [
    "#analyzing numerical variable distribution\n",
    "for i in num_df.columns:\n",
    "    sns.distplot(num_df[i])#, hist = False)#, kde = True)\n",
    "    plt.show()"
   ]
  },
  {
   "cell_type": "markdown",
   "metadata": {},
   "source": [
    "### Bivaraiate analysis wrt target"
   ]
  },
  {
   "cell_type": "code",
   "execution_count": 59,
   "metadata": {
    "collapsed": true,
    "jupyter": {
     "outputs_hidden": true
    },
    "tags": []
   },
   "outputs": [
    {
     "data": {
      "image/png": "[encoded data removed]",
      "text/plain": [
       "<Figure size 1440x360 with 1 Axes>"
      ]
     },
     "metadata": {
      "needs_background": "light"
     },
     "output_type": "display_data"
    },
    {
     "data": {
      "image/png": "[encoded data removed]",
      "text/plain": [
       "<Figure size 1440x360 with 1 Axes>"
      ]
     },
     "metadata": {
      "needs_background": "light"
     },
     "output_type": "display_data"
    },
    {
     "data": {
      "image/png": "[encoded data removed]",
      "text/plain": [
       "<Figure size 1440x360 with 1 Axes>"
      ]
     },
     "metadata": {
      "needs_background": "light"
     },
     "output_type": "display_data"
    },
    {
     "data": {
      "image/png": "[encoded data removed]",
      "text/plain": [
       "<Figure size 1440x360 with 1 Axes>"
      ]
     },
     "metadata": {
      "needs_background": "light"
     },
     "output_type": "display_data"
    },
    {
     "data": {
      "image/png": "[encoded data removed]",
      "text/plain": [
       "<Figure size 1440x360 with 1 Axes>"
      ]
     },
     "metadata": {
      "needs_background": "light"
     },
     "output_type": "display_data"
    },
    {
     "data": {
      "image/png": "[encoded data removed]",
      "text/plain": [
       "<Figure size 1440x360 with 1 Axes>"
      ]
     },
     "metadata": {
      "needs_background": "light"
     },
     "output_type": "display_data"
    },
    {
     "data": {
      "image/png": "[encoded data removed]",
      "text/plain": [
       "<Figure size 1440x360 with 1 Axes>"
      ]
     },
     "metadata": {
      "needs_background": "light"
     },
     "output_type": "display_data"
    },
    {
     "data": {
      "image/png": "[encoded data removed]",
      "text/plain": [
       "<Figure size 1440x360 with 1 Axes>"
      ]
     },
     "metadata": {
      "needs_background": "light"
     },
     "output_type": "display_data"
    },
    {
     "data": {
      "image/png": "[encoded data removed]",
      "text/plain": [
       "<Figure size 1440x360 with 1 Axes>"
      ]
     },
     "metadata": {
      "needs_background": "light"
     },
     "output_type": "display_data"
    },
    {
     "data": {
      "image/png": "[encoded data removed]",
      "text/plain": [
       "<Figure size 1440x360 with 1 Axes>"
      ]
     },
     "metadata": {
      "needs_background": "light"
     },
     "output_type": "display_data"
    },
    {
     "data": {
      "image/png": "[encoded data removed]",
      "text/plain": [
       "<Figure size 1440x360 with 1 Axes>"
      ]
     },
     "metadata": {
      "needs_background": "light"
     },
     "output_type": "display_data"
    },
    {
     "data": {
      "image/png": "[encoded data removed]",
      "text/plain": [
       "<Figure size 1440x360 with 1 Axes>"
      ]
     },
     "metadata": {
      "needs_background": "light"
     },
     "output_type": "display_data"
    },
    {
     "data": {
      "image/png": "[encoded data removed]",
      "text/plain": [
       "<Figure size 1440x360 with 1 Axes>"
      ]
     },
     "metadata": {
      "needs_background": "light"
     },
     "output_type": "display_data"
    }
   ],
   "source": [
    "for i in obj_df.columns:\n",
    "    plt.figure(figsize = (20,5))\n",
    "    sns.countplot(obj_df[i], hue = y)\n",
    "    plt.xticks(rotation = 90)\n",
    "    plt.show()"
   ]
  },
  {
   "cell_type": "markdown",
   "metadata": {},
   "source": [
    "## Target Variable Analysis"
   ]
  },
  {
   "cell_type": "code",
   "execution_count": 60,
   "metadata": {},
   "outputs": [
    {
     "data": {
      "image/png": "[encoded data removed]",
      "text/plain": [
       "<Figure size 432x288 with 1 Axes>"
      ]
     },
     "metadata": {
      "needs_background": "light"
     },
     "output_type": "display_data"
    },
    {
     "data": {
      "image/png": "[encoded data removed]",
      "text/plain": [
       "<Figure size 432x288 with 1 Axes>"
      ]
     },
     "metadata": {
      "needs_background": "light"
     },
     "output_type": "display_data"
    },
    {
     "data": {
      "image/png": "[encoded data removed]",
      "text/plain": [
       "<Figure size 432x288 with 1 Axes>"
      ]
     },
     "metadata": {
      "needs_background": "light"
     },
     "output_type": "display_data"
    },
    {
     "data": {
      "image/png": "[encoded data removed]",
      "text/plain": [
       "<Figure size 432x288 with 1 Axes>"
      ]
     },
     "metadata": {
      "needs_background": "light"
     },
     "output_type": "display_data"
    },
    {
     "data": {
      "image/png": "[encoded data removed]",
      "text/plain": [
       "<Figure size 432x288 with 1 Axes>"
      ]
     },
     "metadata": {
      "needs_background": "light"
     },
     "output_type": "display_data"
    }
   ],
   "source": [
    "for i in num_df.columns:\n",
    "    sns.violinplot(x=y, y=num_df[i])\n",
    "    plt.show()"
   ]
  },
  {
   "cell_type": "markdown",
   "metadata": {},
   "source": [
    "### Correlation Heatmap"
   ]
  },
  {
   "cell_type": "code",
   "execution_count": 61,
   "metadata": {
    "scrolled": true,
    "tags": []
   },
   "outputs": [
    {
     "data": {
      "image/png": "[encoded data removed]",
      "text/plain": [
       "<Figure size 720x720 with 2 Axes>"
      ]
     },
     "metadata": {
      "needs_background": "light"
     },
     "output_type": "display_data"
    }
   ],
   "source": [
    "plt.figure(figsize = (10,10))\n",
    "fe_corr = num_df.corr()\n",
    "sns.heatmap(fe_corr, annot = True)\n",
    "plt.show()"
   ]
  },
  {
   "cell_type": "markdown",
   "metadata": {},
   "source": [
    "plt.figure(figsize = (20,20))\n",
    "fe_corr = num_df.corr()\n",
    "sns.heatmap(fe_corr[(fe_corr >= 0.50) | (fe_corr <= -0.50)], annot = True)\n",
    "plt.show()"
   ]
  },
  {
   "cell_type": "markdown",
   "metadata": {},
   "source": [
    "--------------------------------------------------------------------------------------------------------------------------------------------"
   ]
  },
  {
   "cell_type": "markdown",
   "metadata": {},
   "source": [
    "## one hot Encoding of categorical variables"
   ]
  },
  {
   "cell_type": "code",
   "execution_count": 62,
   "metadata": {},
   "outputs": [
    {
     "data": {
      "text/html": [
       "<div>\n",
       "<style scoped>\n",
       "    .dataframe tbody tr th:only-of-type {\n",
       "        vertical-align: middle;\n",
       "    }\n",
       "\n",
       "    .dataframe tbody tr th {\n",
       "        vertical-align: top;\n",
       "    }\n",
       "\n",
       "    .dataframe thead th {\n",
       "        text-align: right;\n",
       "    }\n",
       "</style>\n",
       "<table border=\"1\" class=\"dataframe\">\n",
       "  <thead>\n",
       "    <tr style=\"text-align: right;\">\n",
       "      <th></th>\n",
       "      <th>surgery_1</th>\n",
       "      <th>surgery_2</th>\n",
       "      <th>Age_1</th>\n",
       "      <th>Age_9</th>\n",
       "      <th>temperature of extremities_1</th>\n",
       "      <th>temperature of extremities_2</th>\n",
       "      <th>temperature of extremities_3</th>\n",
       "      <th>temperature of extremities_4</th>\n",
       "      <th>peripheral pulse_1</th>\n",
       "      <th>peripheral pulse_2</th>\n",
       "      <th>...</th>\n",
       "      <th>rectal examination_2</th>\n",
       "      <th>rectal examination_3</th>\n",
       "      <th>rectal examination_4</th>\n",
       "      <th>abdomen_1</th>\n",
       "      <th>abdomen_2</th>\n",
       "      <th>abdomen_3</th>\n",
       "      <th>abdomen_4</th>\n",
       "      <th>abdomen_5</th>\n",
       "      <th>surgical lesion_1</th>\n",
       "      <th>surgical lesion_2</th>\n",
       "    </tr>\n",
       "  </thead>\n",
       "  <tbody>\n",
       "    <tr>\n",
       "      <th>0</th>\n",
       "      <td>0</td>\n",
       "      <td>1</td>\n",
       "      <td>1</td>\n",
       "      <td>0</td>\n",
       "      <td>0</td>\n",
       "      <td>0</td>\n",
       "      <td>1</td>\n",
       "      <td>0</td>\n",
       "      <td>0</td>\n",
       "      <td>0</td>\n",
       "      <td>...</td>\n",
       "      <td>0</td>\n",
       "      <td>1</td>\n",
       "      <td>0</td>\n",
       "      <td>0</td>\n",
       "      <td>0</td>\n",
       "      <td>0</td>\n",
       "      <td>0</td>\n",
       "      <td>1</td>\n",
       "      <td>0</td>\n",
       "      <td>1</td>\n",
       "    </tr>\n",
       "    <tr>\n",
       "      <th>1</th>\n",
       "      <td>1</td>\n",
       "      <td>0</td>\n",
       "      <td>1</td>\n",
       "      <td>0</td>\n",
       "      <td>0</td>\n",
       "      <td>0</td>\n",
       "      <td>1</td>\n",
       "      <td>0</td>\n",
       "      <td>1</td>\n",
       "      <td>0</td>\n",
       "      <td>...</td>\n",
       "      <td>0</td>\n",
       "      <td>0</td>\n",
       "      <td>1</td>\n",
       "      <td>0</td>\n",
       "      <td>1</td>\n",
       "      <td>0</td>\n",
       "      <td>0</td>\n",
       "      <td>0</td>\n",
       "      <td>0</td>\n",
       "      <td>1</td>\n",
       "    </tr>\n",
       "  </tbody>\n",
       "</table>\n",
       "<p>2 rows × 48 columns</p>\n",
       "</div>"
      ],
      "text/plain": [
       "   surgery_1  surgery_2  Age_1  Age_9  temperature of extremities_1  \\\n",
       "0          0          1      1      0                             0   \n",
       "1          1          0      1      0                             0   \n",
       "\n",
       "   temperature of extremities_2  temperature of extremities_3  \\\n",
       "0                             0                             1   \n",
       "1                             0                             1   \n",
       "\n",
       "   temperature of extremities_4  peripheral pulse_1  peripheral pulse_2  ...  \\\n",
       "0                             0                   0                   0  ...   \n",
       "1                             0                   1                   0  ...   \n",
       "\n",
       "   rectal examination_2  rectal examination_3  rectal examination_4  \\\n",
       "0                     0                     1                     0   \n",
       "1                     0                     0                     1   \n",
       "\n",
       "   abdomen_1  abdomen_2  abdomen_3  abdomen_4  abdomen_5  surgical lesion_1  \\\n",
       "0          0          0          0          0          1                  0   \n",
       "1          0          1          0          0          0                  0   \n",
       "\n",
       "   surgical lesion_2  \n",
       "0                  1  \n",
       "1                  1  \n",
       "\n",
       "[2 rows x 48 columns]"
      ]
     },
     "execution_count": 62,
     "metadata": {},
     "output_type": "execute_result"
    }
   ],
   "source": [
    "#dummy encoding categorical variables\n",
    "dum_var=pd.get_dummies(obj_df)\n",
    "dum_var.head(2)"
   ]
  },
  {
   "cell_type": "code",
   "execution_count": 63,
   "metadata": {},
   "outputs": [
    {
     "name": "stdout",
     "output_type": "stream",
     "text": [
      "original number of categorical columns  13\n",
      "number of dummy encoded variables 48\n"
     ]
    }
   ],
   "source": [
    "print(\"original number of categorical columns \",obj_df.shape[1])\n",
    "print(\"number of dummy encoded variables\",dum_var.shape[1])"
   ]
  },
  {
   "cell_type": "code",
   "execution_count": 64,
   "metadata": {
    "scrolled": true
   },
   "outputs": [
    {
     "data": {
      "text/plain": [
       "Index(['surgery_1', 'surgery_2', 'Age_1', 'Age_9',\n",
       "       'temperature of extremities_1', 'temperature of extremities_2',\n",
       "       'temperature of extremities_3', 'temperature of extremities_4',\n",
       "       'peripheral pulse_1', 'peripheral pulse_2', 'peripheral pulse_3',\n",
       "       'peripheral pulse_4', 'mucous membranes_1', 'mucous membranes_2',\n",
       "       'mucous membranes_3', 'mucous membranes_4', 'mucous membranes_5',\n",
       "       'mucous membranes_6', 'capillary refill time_1',\n",
       "       'capillary refill time_2', 'capillary refill time_3', 'pain_1',\n",
       "       'pain_2', 'pain_3', 'pain_4', 'pain_5', 'peristalsis_1',\n",
       "       'peristalsis_2', 'peristalsis_3', 'peristalsis_4',\n",
       "       'abdominal distension_1', 'abdominal distension_2',\n",
       "       'abdominal distension_3', 'abdominal distension_4',\n",
       "       'nasogastric tube_1', 'nasogastric tube_2', 'nasogastric tube_3',\n",
       "       'rectal examination_1', 'rectal examination_2', 'rectal examination_3',\n",
       "       'rectal examination_4', 'abdomen_1', 'abdomen_2', 'abdomen_3',\n",
       "       'abdomen_4', 'abdomen_5', 'surgical lesion_1', 'surgical lesion_2'],\n",
       "      dtype='object')"
      ]
     },
     "execution_count": 64,
     "metadata": {},
     "output_type": "execute_result"
    }
   ],
   "source": [
    "#check column names\n",
    "dum_var.columns"
   ]
  },
  {
   "cell_type": "code",
   "execution_count": null,
   "metadata": {},
   "outputs": [],
   "source": [
    "#since dummy encoding is adding too many coulmns for modelling, and this could badly affect tghe results, \n",
    "#we will proceed with the label encoded features"
   ]
  },
  {
   "cell_type": "markdown",
   "metadata": {},
   "source": [
    "## Standardization...."
   ]
  },
  {
   "cell_type": "code",
   "execution_count": 49,
   "metadata": {},
   "outputs": [],
   "source": [
    "#scaling numerical feats\n",
    "from sklearn.preprocessing import StandardScaler\n",
    "std = StandardScaler()\n",
    "num_scaled = std.fit_transform(num_df)\n",
    "num_scaled = pd.DataFrame(num_scaled,columns=num_df.columns)"
   ]
  },
  {
   "cell_type": "code",
   "execution_count": 50,
   "metadata": {},
   "outputs": [
    {
     "data": {
      "text/html": [
       "<div>\n",
       "<style scoped>\n",
       "    .dataframe tbody tr th:only-of-type {\n",
       "        vertical-align: middle;\n",
       "    }\n",
       "\n",
       "    .dataframe tbody tr th {\n",
       "        vertical-align: top;\n",
       "    }\n",
       "\n",
       "    .dataframe thead th {\n",
       "        text-align: right;\n",
       "    }\n",
       "</style>\n",
       "<table border=\"1\" class=\"dataframe\">\n",
       "  <thead>\n",
       "    <tr style=\"text-align: right;\">\n",
       "      <th></th>\n",
       "      <th>rectal temperature</th>\n",
       "      <th>pulse</th>\n",
       "      <th>respiratory rate</th>\n",
       "      <th>packed cell volume</th>\n",
       "      <th>total protein</th>\n",
       "    </tr>\n",
       "  </thead>\n",
       "  <tbody>\n",
       "    <tr>\n",
       "      <th>0</th>\n",
       "      <td>38.5</td>\n",
       "      <td>66.0</td>\n",
       "      <td>28.0</td>\n",
       "      <td>45.0</td>\n",
       "      <td>8.4</td>\n",
       "    </tr>\n",
       "    <tr>\n",
       "      <th>1</th>\n",
       "      <td>39.2</td>\n",
       "      <td>88.0</td>\n",
       "      <td>20.0</td>\n",
       "      <td>50.0</td>\n",
       "      <td>85.0</td>\n",
       "    </tr>\n",
       "  </tbody>\n",
       "</table>\n",
       "</div>"
      ],
      "text/plain": [
       "   rectal temperature  pulse  respiratory rate  packed cell volume  \\\n",
       "0                38.5   66.0              28.0                45.0   \n",
       "1                39.2   88.0              20.0                50.0   \n",
       "\n",
       "   total protein  \n",
       "0            8.4  \n",
       "1           85.0  "
      ]
     },
     "execution_count": 50,
     "metadata": {},
     "output_type": "execute_result"
    }
   ],
   "source": [
    "#check unscaled data\n",
    "num_df.head(2)"
   ]
  },
  {
   "cell_type": "code",
   "execution_count": 51,
   "metadata": {},
   "outputs": [
    {
     "data": {
      "text/html": [
       "<div>\n",
       "<style scoped>\n",
       "    .dataframe tbody tr th:only-of-type {\n",
       "        vertical-align: middle;\n",
       "    }\n",
       "\n",
       "    .dataframe tbody tr th {\n",
       "        vertical-align: top;\n",
       "    }\n",
       "\n",
       "    .dataframe thead th {\n",
       "        text-align: right;\n",
       "    }\n",
       "</style>\n",
       "<table border=\"1\" class=\"dataframe\">\n",
       "  <thead>\n",
       "    <tr style=\"text-align: right;\">\n",
       "      <th></th>\n",
       "      <th>rectal temperature</th>\n",
       "      <th>pulse</th>\n",
       "      <th>respiratory rate</th>\n",
       "      <th>packed cell volume</th>\n",
       "      <th>total protein</th>\n",
       "    </tr>\n",
       "  </thead>\n",
       "  <tbody>\n",
       "    <tr>\n",
       "      <th>0</th>\n",
       "      <td>0.584340</td>\n",
       "      <td>-0.188918</td>\n",
       "      <td>0.011861</td>\n",
       "      <td>-0.102452</td>\n",
       "      <td>-0.537365</td>\n",
       "    </tr>\n",
       "    <tr>\n",
       "      <th>1</th>\n",
       "      <td>1.848103</td>\n",
       "      <td>0.633549</td>\n",
       "      <td>-0.661903</td>\n",
       "      <td>0.430229</td>\n",
       "      <td>2.363082</td>\n",
       "    </tr>\n",
       "  </tbody>\n",
       "</table>\n",
       "</div>"
      ],
      "text/plain": [
       "   rectal temperature     pulse  respiratory rate  packed cell volume  \\\n",
       "0            0.584340 -0.188918          0.011861           -0.102452   \n",
       "1            1.848103  0.633549         -0.661903            0.430229   \n",
       "\n",
       "   total protein  \n",
       "0      -0.537365  \n",
       "1       2.363082  "
      ]
     },
     "execution_count": 51,
     "metadata": {},
     "output_type": "execute_result"
    }
   ],
   "source": [
    "#check scaled data, lies btw 0 n 1\n",
    "num_scaled.head(2)"
   ]
  },
  {
   "cell_type": "markdown",
   "metadata": {},
   "source": [
    "--------------------------------------------------------------------------------------------------------------------------------------------"
   ]
  },
  {
   "cell_type": "markdown",
   "metadata": {},
   "source": [
    "### Dependent and Independent variables..."
   ]
  },
  {
   "cell_type": "code",
   "execution_count": 53,
   "metadata": {},
   "outputs": [
    {
     "data": {
      "text/html": [
       "<div>\n",
       "<style scoped>\n",
       "    .dataframe tbody tr th:only-of-type {\n",
       "        vertical-align: middle;\n",
       "    }\n",
       "\n",
       "    .dataframe tbody tr th {\n",
       "        vertical-align: top;\n",
       "    }\n",
       "\n",
       "    .dataframe thead th {\n",
       "        text-align: right;\n",
       "    }\n",
       "</style>\n",
       "<table border=\"1\" class=\"dataframe\">\n",
       "  <thead>\n",
       "    <tr style=\"text-align: right;\">\n",
       "      <th></th>\n",
       "      <th>outcome</th>\n",
       "    </tr>\n",
       "  </thead>\n",
       "  <tbody>\n",
       "    <tr>\n",
       "      <th>0</th>\n",
       "      <td>2</td>\n",
       "    </tr>\n",
       "    <tr>\n",
       "      <th>1</th>\n",
       "      <td>3</td>\n",
       "    </tr>\n",
       "    <tr>\n",
       "      <th>2</th>\n",
       "      <td>1</td>\n",
       "    </tr>\n",
       "    <tr>\n",
       "      <th>3</th>\n",
       "      <td>2</td>\n",
       "    </tr>\n",
       "    <tr>\n",
       "      <th>4</th>\n",
       "      <td>2</td>\n",
       "    </tr>\n",
       "  </tbody>\n",
       "</table>\n",
       "</div>"
      ],
      "text/plain": [
       "  outcome\n",
       "0       2\n",
       "1       3\n",
       "2       1\n",
       "3       2\n",
       "4       2"
      ]
     },
     "execution_count": 53,
     "metadata": {},
     "output_type": "execute_result"
    }
   ],
   "source": [
    "#dependent var # target  #obj_df['Outcome'] --> y\n",
    "y=pd.DataFrame(y)\n",
    "y.head()"
   ]
  },
  {
   "cell_type": "code",
   "execution_count": 70,
   "metadata": {},
   "outputs": [
    {
     "data": {
      "text/plain": [
       "((300, 13), (300, 5))"
      ]
     },
     "execution_count": 70,
     "metadata": {},
     "output_type": "execute_result"
    }
   ],
   "source": [
    "obj_df.shape,num_df.shape"
   ]
  },
  {
   "cell_type": "code",
   "execution_count": 54,
   "metadata": {},
   "outputs": [
    {
     "data": {
      "text/plain": [
       "((300, 18), (300, 1))"
      ]
     },
     "execution_count": 54,
     "metadata": {},
     "output_type": "execute_result"
    }
   ],
   "source": [
    "#independent var# feats# num and cat vars--> x\n",
    "#concatenate scaled num vars and dummy vars into a x features df\n",
    "x=pd.concat([num_scaled,obj_df],axis=1)\n",
    "x.shape,y.shape"
   ]
  },
  {
   "cell_type": "code",
   "execution_count": 72,
   "metadata": {},
   "outputs": [
    {
     "data": {
      "text/plain": [
       "Index(['rectal temperature', 'pulse', 'respiratory rate', 'packed cell volume',\n",
       "       'total protein', 'surgery', 'Age', 'temperature of extremities',\n",
       "       'peripheral pulse', 'mucous membranes', 'capillary refill time', 'pain',\n",
       "       'peristalsis', 'abdominal distension', 'nasogastric tube',\n",
       "       'rectal examination', 'abdomen', 'surgical lesion'],\n",
       "      dtype='object')"
      ]
     },
     "execution_count": 72,
     "metadata": {},
     "output_type": "execute_result"
    }
   ],
   "source": [
    "x.columns"
   ]
  },
  {
   "cell_type": "markdown",
   "metadata": {},
   "source": [
    "x=x.drop(['type of lesion 1', 'type of lesion 2',\n",
    "       'type of lesion 3','nasogastric reflux'],axis=1)\n",
    "x.shape"
   ]
  },
  {
   "cell_type": "markdown",
   "metadata": {},
   "source": [
    "x=x.drop(['Age'],axis=1)\n",
    "x.shape"
   ]
  },
  {
   "cell_type": "markdown",
   "metadata": {},
   "source": [
    "--------------------------------------------------------------------------------------------------------------------------------------------"
   ]
  },
  {
   "cell_type": "markdown",
   "metadata": {},
   "source": [
    "### Splitting data into train and test..."
   ]
  },
  {
   "cell_type": "code",
   "execution_count": 55,
   "metadata": {},
   "outputs": [],
   "source": [
    "from sklearn.model_selection import train_test_split\n",
    "x_train,x_test,y_train,y_test = train_test_split(x,y,train_size=0.7,random_state=43)"
   ]
  },
  {
   "cell_type": "code",
   "execution_count": 74,
   "metadata": {},
   "outputs": [
    {
     "name": "stdout",
     "output_type": "stream",
     "text": [
      "(210, 18) (90, 18) (210, 1) (90, 1)\n"
     ]
    }
   ],
   "source": [
    "print(x_train.shape ,x_test.shape,y_train.shape,y_test.shape)"
   ]
  },
  {
   "cell_type": "markdown",
   "metadata": {},
   "source": [
    "--------------------------------------------------------------------------------------------------------------------------------------------"
   ]
  },
  {
   "cell_type": "markdown",
   "metadata": {},
   "source": [
    "# Supervised-multiclass Classification...\n",
    "## Methods used\n",
    "1. Logistic Regression\n",
    "2. Decision Tree\n",
    "3. Random Forest\n",
    "4. SGD\n",
    "5. SVM\n"
   ]
  },
  {
   "cell_type": "markdown",
   "metadata": {},
   "source": [
    "## Logistic Regression Classification"
   ]
  },
  {
   "cell_type": "code",
   "execution_count": 75,
   "metadata": {},
   "outputs": [],
   "source": [
    "from sklearn.linear_model import LogisticRegression\n",
    "\n",
    "logreg = LogisticRegression(random_state=43)\n",
    "logreg.fit(x_train,y_train)\n",
    "\n",
    "ypred_trn = logreg.predict(x_train)\n",
    "ypred_tst = logreg.predict(x_test)"
   ]
  },
  {
   "cell_type": "code",
   "execution_count": 76,
   "metadata": {
    "scrolled": true
   },
   "outputs": [
    {
     "name": "stdout",
     "output_type": "stream",
     "text": [
      "logistic regression before feat selctn\n",
      "for train : \n",
      "\n",
      "Classification Report : \n",
      "               precision    recall  f1-score   support\n",
      "\n",
      "           1       0.75      0.88      0.81       128\n",
      "           2       0.65      0.60      0.63        50\n",
      "           3       0.85      0.34      0.49        32\n",
      "\n",
      "    accuracy                           0.73       210\n",
      "   macro avg       0.75      0.61      0.64       210\n",
      "weighted avg       0.74      0.73      0.72       210\n",
      "\n",
      "for test : \n",
      "\n",
      "Classification Report : \n",
      "               precision    recall  f1-score   support\n",
      "\n",
      "           1       0.68      0.84      0.75        51\n",
      "           2       0.64      0.59      0.62        27\n",
      "           3       0.00      0.00      0.00        12\n",
      "\n",
      "    accuracy                           0.66        90\n",
      "   macro avg       0.44      0.48      0.46        90\n",
      "weighted avg       0.58      0.66      0.61        90\n",
      "\n"
     ]
    }
   ],
   "source": [
    "from sklearn.metrics import classification_report\n",
    "print(\"logistic regression before feat selctn\")\n",
    "print(\"for train : \\n\")\n",
    "print(\"Classification Report : \\n\",classification_report(y_train,ypred_trn))\n",
    "\n",
    "print(\"for test : \\n\")\n",
    "print(\"Classification Report : \\n\",classification_report(y_test,ypred_tst))\n"
   ]
  },
  {
   "cell_type": "markdown",
   "metadata": {},
   "source": [
    "### LOGISTIC :- 66% Accurate before tuning"
   ]
  },
  {
   "cell_type": "markdown",
   "metadata": {},
   "source": [
    "--------------------------------------------------------------------------------------------------------------------------------------------"
   ]
  },
  {
   "cell_type": "markdown",
   "metadata": {},
   "source": [
    "--------------------------------------------------------------------------------------------------------------------------------------------"
   ]
  },
  {
   "cell_type": "markdown",
   "metadata": {},
   "source": [
    "## Decision Tree Classification..."
   ]
  },
  {
   "cell_type": "code",
   "execution_count": 77,
   "metadata": {},
   "outputs": [],
   "source": [
    "from sklearn.tree import DecisionTreeClassifier\n",
    "\n",
    "dt = DecisionTreeClassifier(random_state=43)\n",
    "dt.fit(x_train,y_train)\n",
    "\n",
    "ypred_trn = dt.predict(x_train)\n",
    "\n",
    "ypred_tst = dt.predict(x_test)\n"
   ]
  },
  {
   "cell_type": "code",
   "execution_count": 78,
   "metadata": {},
   "outputs": [
    {
     "name": "stdout",
     "output_type": "stream",
     "text": [
      "decision tree before feat selctn\n",
      "for train : \n",
      "\n",
      "Classification Report : \n",
      "               precision    recall  f1-score   support\n",
      "\n",
      "           1       1.00      1.00      1.00       128\n",
      "           2       0.98      1.00      0.99        50\n",
      "           3       1.00      0.97      0.98        32\n",
      "\n",
      "    accuracy                           1.00       210\n",
      "   macro avg       0.99      0.99      0.99       210\n",
      "weighted avg       1.00      1.00      1.00       210\n",
      "\n",
      "for test : \n",
      "\n",
      "Classification Report : \n",
      "               precision    recall  f1-score   support\n",
      "\n",
      "           1       0.76      0.73      0.74        51\n",
      "           2       0.42      0.41      0.42        27\n",
      "           3       0.33      0.42      0.37        12\n",
      "\n",
      "    accuracy                           0.59        90\n",
      "   macro avg       0.50      0.52      0.51        90\n",
      "weighted avg       0.60      0.59      0.59        90\n",
      "\n"
     ]
    }
   ],
   "source": [
    "from sklearn.metrics import roc_auc_score,accuracy_score,classification_report\n",
    "print(\"decision tree before feat selctn\")\n",
    "print(\"for train : \\n\")\n",
    "print(\"Classification Report : \\n\",classification_report(y_train,ypred_trn))\n",
    "\n",
    "print(\"for test : \\n\")\n",
    "print(\"Classification Report : \\n\",classification_report(y_test,ypred_tst))\n"
   ]
  },
  {
   "cell_type": "code",
   "execution_count": 79,
   "metadata": {},
   "outputs": [
    {
     "name": "stdout",
     "output_type": "stream",
     "text": [
      "Decision tree has 105 nodes with maximum depth 12.\n"
     ]
    }
   ],
   "source": [
    "print(f'Decision tree has {dt.tree_.node_count} nodes with maximum depth {dt.tree_.max_depth}.')"
   ]
  },
  {
   "cell_type": "markdown",
   "metadata": {},
   "source": [
    "## DECISION TREE :- 59% Accurate before tuning"
   ]
  },
  {
   "cell_type": "markdown",
   "metadata": {},
   "source": [
    "--------------------------------------------------------------------------------------------------------------------------------------------"
   ]
  },
  {
   "cell_type": "markdown",
   "metadata": {},
   "source": [
    "--------------------------------------------------------------------------------------------------------------------------------------------"
   ]
  },
  {
   "cell_type": "markdown",
   "metadata": {},
   "source": [
    "## Random Forest Classifier..."
   ]
  },
  {
   "cell_type": "code",
   "execution_count": 80,
   "metadata": {},
   "outputs": [],
   "source": [
    "from sklearn.ensemble import RandomForestClassifier\n",
    "rf = RandomForestClassifier(random_state=43)\n",
    "rf.fit(x_train,y_train)\n",
    "\n",
    "ypred_trn = rf.predict(x_train)\n",
    "\n",
    "\n",
    "ypred_tst = rf.predict(x_test)\n"
   ]
  },
  {
   "cell_type": "code",
   "execution_count": 81,
   "metadata": {},
   "outputs": [
    {
     "name": "stdout",
     "output_type": "stream",
     "text": [
      "random forest before feat selctn\n",
      "for train : \n",
      "\n",
      "Classification Report : \n",
      "               precision    recall  f1-score   support\n",
      "\n",
      "           1       1.00      1.00      1.00       128\n",
      "           2       1.00      0.98      0.99        50\n",
      "           3       0.97      1.00      0.98        32\n",
      "\n",
      "    accuracy                           1.00       210\n",
      "   macro avg       0.99      0.99      0.99       210\n",
      "weighted avg       1.00      1.00      1.00       210\n",
      "\n",
      "for test : \n",
      "\n",
      "Classification Report : \n",
      "               precision    recall  f1-score   support\n",
      "\n",
      "           1       0.72      0.92      0.81        51\n",
      "           2       0.65      0.56      0.60        27\n",
      "           3       1.00      0.17      0.29        12\n",
      "\n",
      "    accuracy                           0.71        90\n",
      "   macro avg       0.79      0.55      0.57        90\n",
      "weighted avg       0.74      0.71      0.68        90\n",
      "\n"
     ]
    }
   ],
   "source": [
    "print(\"random forest before feat selctn\")\n",
    "print(\"for train : \\n\")\n",
    "print(\"Classification Report : \\n\",classification_report(y_train,ypred_trn))\n",
    "\n",
    "print(\"for test : \\n\")\n",
    "print(\"Classification Report : \\n\",classification_report(y_test,ypred_tst))\n"
   ]
  },
  {
   "cell_type": "code",
   "execution_count": 82,
   "metadata": {
    "tags": []
   },
   "outputs": [
    {
     "name": "stdout",
     "output_type": "stream",
     "text": [
      "Average number of nodes 102\n",
      "Average maximum depth 12\n"
     ]
    }
   ],
   "source": [
    "n_nodes = []\n",
    "max_depths = []\n",
    "\n",
    "for ind_tree in rf.estimators_:\n",
    "    n_nodes.append(ind_tree.tree_.node_count)\n",
    "    max_depths.append(ind_tree.tree_.max_depth)\n",
    "    \n",
    "print(f'Average number of nodes {int(np.mean(n_nodes))}')\n",
    "print(f'Average maximum depth {int(np.mean(max_depths))}')"
   ]
  },
  {
   "cell_type": "markdown",
   "metadata": {},
   "source": [
    "## RANDOM FOREST :- 71% Accurate befoer tuning.."
   ]
  },
  {
   "cell_type": "markdown",
   "metadata": {},
   "source": [
    "--------------------------------------------------------------------------------------------------------------------------------------------"
   ]
  },
  {
   "cell_type": "markdown",
   "metadata": {},
   "source": [
    "--------------------------------------------------------------------------------------------------------------------------------------------"
   ]
  },
  {
   "cell_type": "markdown",
   "metadata": {},
   "source": [
    "## SVM classification..."
   ]
  },
  {
   "cell_type": "code",
   "execution_count": 83,
   "metadata": {},
   "outputs": [],
   "source": [
    "from sklearn.svm import SVC\n",
    "svc = SVC(random_state=43)\n",
    "svc.fit(x_train,y_train)\n",
    "\n",
    "ypred_trn = svc.predict(x_train)\n",
    "\n",
    "ypred_tst = svc.predict(x_test)\n"
   ]
  },
  {
   "cell_type": "code",
   "execution_count": 84,
   "metadata": {},
   "outputs": [
    {
     "name": "stdout",
     "output_type": "stream",
     "text": [
      "support vector machine before feat selctn\n",
      "for train : \n",
      "\n",
      "Classification Report : \n",
      "               precision    recall  f1-score   support\n",
      "\n",
      "           1       0.70      0.96      0.81       128\n",
      "           2       0.82      0.56      0.67        50\n",
      "           3       0.00      0.00      0.00        32\n",
      "\n",
      "    accuracy                           0.72       210\n",
      "   macro avg       0.51      0.51      0.49       210\n",
      "weighted avg       0.62      0.72      0.65       210\n",
      "\n",
      "for test : \n",
      "\n",
      "Classification Report : \n",
      "               precision    recall  f1-score   support\n",
      "\n",
      "           1       0.68      1.00      0.81        51\n",
      "           2       0.80      0.44      0.57        27\n",
      "           3       0.00      0.00      0.00        12\n",
      "\n",
      "    accuracy                           0.70        90\n",
      "   macro avg       0.49      0.48      0.46        90\n",
      "weighted avg       0.63      0.70      0.63        90\n",
      "\n"
     ]
    }
   ],
   "source": [
    "print(\"support vector machine before feat selctn\")\n",
    "print(\"for train : \\n\")\n",
    "print(\"Classification Report : \\n\",classification_report(y_train,ypred_trn))\n",
    "\n",
    "print(\"for test : \\n\")\n",
    "print(\"Classification Report : \\n\",classification_report(y_test,ypred_tst))\n"
   ]
  },
  {
   "cell_type": "markdown",
   "metadata": {},
   "source": [
    "## SVM :- 70% Accurate before tuning..."
   ]
  },
  {
   "cell_type": "markdown",
   "metadata": {},
   "source": [
    "--------------------------------------------------------------------------------------------------------------------------------------------"
   ]
  },
  {
   "cell_type": "markdown",
   "metadata": {},
   "source": [
    "--------------------------------------------------------------------------------------------------------------------------------------------"
   ]
  },
  {
   "cell_type": "markdown",
   "metadata": {},
   "source": [
    "## SGD Classification..."
   ]
  },
  {
   "cell_type": "code",
   "execution_count": 85,
   "metadata": {},
   "outputs": [],
   "source": [
    "from sklearn.linear_model import SGDClassifier\n",
    "sgd = SGDClassifier(random_state=43)\n",
    "sgd.fit(x_train,y_train)\n",
    "\n",
    "ypred_trn = sgd.predict(x_train)\n",
    "\n",
    "ypred_tst = sgd.predict(x_test)\n"
   ]
  },
  {
   "cell_type": "code",
   "execution_count": 86,
   "metadata": {},
   "outputs": [
    {
     "name": "stdout",
     "output_type": "stream",
     "text": [
      "stochastic gradient before feat selctn\n",
      "for train : \n",
      "\n",
      "Classification Report : \n",
      "               precision    recall  f1-score   support\n",
      "\n",
      "           1       0.71      0.92      0.80       128\n",
      "           2       0.69      0.48      0.56        50\n",
      "           3       0.78      0.22      0.34        32\n",
      "\n",
      "    accuracy                           0.71       210\n",
      "   macro avg       0.72      0.54      0.57       210\n",
      "weighted avg       0.72      0.71      0.68       210\n",
      "\n",
      "for test : \n",
      "\n",
      "Classification Report : \n",
      "               precision    recall  f1-score   support\n",
      "\n",
      "           1       0.65      0.92      0.76        51\n",
      "           2       0.61      0.41      0.49        27\n",
      "           3       0.00      0.00      0.00        12\n",
      "\n",
      "    accuracy                           0.64        90\n",
      "   macro avg       0.42      0.44      0.42        90\n",
      "weighted avg       0.55      0.64      0.58        90\n",
      "\n"
     ]
    }
   ],
   "source": [
    "print(\"stochastic gradient before feat selctn\")\n",
    "print(\"for train : \\n\")\n",
    "print(\"Classification Report : \\n\",classification_report(y_train,ypred_trn))\n",
    "\n",
    "print(\"for test : \\n\")\n",
    "print(\"Classification Report : \\n\",classification_report(y_test,ypred_tst))\n"
   ]
  },
  {
   "cell_type": "markdown",
   "metadata": {},
   "source": [
    "## SGD :- 64% Accurate before tuning.."
   ]
  },
  {
   "cell_type": "markdown",
   "metadata": {},
   "source": [
    "--------------------------------------------------------------------------------------------------------------------------------------------"
   ]
  },
  {
   "cell_type": "markdown",
   "metadata": {},
   "source": [
    "--------------------------------------------------------------------------------------------------------------------------------------------"
   ]
  },
  {
   "cell_type": "markdown",
   "metadata": {},
   "source": [
    "# Hypertuning using Gridsearhcv......"
   ]
  },
  {
   "cell_type": "markdown",
   "metadata": {},
   "source": [
    "### Logistic Regression with gridsearch..."
   ]
  },
  {
   "cell_type": "code",
   "execution_count": 87,
   "metadata": {},
   "outputs": [],
   "source": [
    "from sklearn.model_selection import GridSearchCV\n",
    "\n",
    "param_dist = {'penalty': ['l1', 'l2', 'elasticnet', 'none'],'C': [0.1,1, 10, 100, 1000],'max_iter':[100,1000]} \n",
    "gs_logreg1 = GridSearchCV(LogisticRegression(random_state=43),param_grid=param_dist,refit=True)#,verbose=1)\n",
    "gs_logreg1.fit(x_train,y_train)\n",
    "\n",
    "ypred_trn = gs_logreg1.predict(x_train)\n",
    "\n",
    "\n",
    "ypred_tst = gs_logreg1.predict(x_test)\n"
   ]
  },
  {
   "cell_type": "code",
   "execution_count": 88,
   "metadata": {},
   "outputs": [
    {
     "data": {
      "text/plain": [
       "{'C': 1, 'max_iter': 100, 'penalty': 'l2'}"
      ]
     },
     "execution_count": 88,
     "metadata": {},
     "output_type": "execute_result"
    }
   ],
   "source": [
    "gs_logreg1.best_params_"
   ]
  },
  {
   "cell_type": "code",
   "execution_count": 89,
   "metadata": {},
   "outputs": [
    {
     "name": "stdout",
     "output_type": "stream",
     "text": [
      "logistic regression after gridsearch\n",
      "for train : \n",
      "\n",
      "Classification Report : \n",
      "               precision    recall  f1-score   support\n",
      "\n",
      "           1       0.75      0.88      0.81       128\n",
      "           2       0.65      0.60      0.63        50\n",
      "           3       0.85      0.34      0.49        32\n",
      "\n",
      "    accuracy                           0.73       210\n",
      "   macro avg       0.75      0.61      0.64       210\n",
      "weighted avg       0.74      0.73      0.72       210\n",
      "\n",
      "for test : \n",
      "\n",
      "Classification Report : \n",
      "               precision    recall  f1-score   support\n",
      "\n",
      "           1       0.68      0.84      0.75        51\n",
      "           2       0.64      0.59      0.62        27\n",
      "           3       0.00      0.00      0.00        12\n",
      "\n",
      "    accuracy                           0.66        90\n",
      "   macro avg       0.44      0.48      0.46        90\n",
      "weighted avg       0.58      0.66      0.61        90\n",
      "\n"
     ]
    }
   ],
   "source": [
    "print(\"logistic regression after gridsearch\")\n",
    "print(\"for train : \\n\")\n",
    "\n",
    "print(\"Classification Report : \\n\",classification_report(y_train,ypred_trn))\n",
    "\n",
    "print(\"for test : \\n\")\n",
    "print(\"Classification Report : \\n\",classification_report(y_test,ypred_tst))\n"
   ]
  },
  {
   "cell_type": "markdown",
   "metadata": {},
   "source": [
    "### LOGISTIC :- 66% Accurate after tuning"
   ]
  },
  {
   "cell_type": "markdown",
   "metadata": {},
   "source": [
    "--------------------------------------------------------------------------------------------------------------------------------------------"
   ]
  },
  {
   "cell_type": "markdown",
   "metadata": {},
   "source": [
    "### Decision tree classification with Gridsearch"
   ]
  },
  {
   "cell_type": "code",
   "execution_count": 90,
   "metadata": {},
   "outputs": [
    {
     "name": "stdout",
     "output_type": "stream",
     "text": [
      "Fitting 5 folds for each of 44 candidates, totalling 220 fits\n"
     ]
    },
    {
     "name": "stderr",
     "output_type": "stream",
     "text": [
      "[Parallel(n_jobs=1)]: Using backend SequentialBackend with 1 concurrent workers.\n",
      "[Parallel(n_jobs=1)]: Done 220 out of 220 | elapsed:    1.3s finished\n"
     ]
    }
   ],
   "source": [
    "param_dist = {'criterion': ['gini','entropy'], 'splitter': ['best','random'],'max_depth':[None,1,2,3,4,5,6,7,8,9,10]}\n",
    "gs_dt1 = GridSearchCV(DecisionTreeClassifier(random_state=43),param_grid=param_dist,refit=True,verbose=1)\n",
    "gs_dt1.fit(x_train,y_train)\n",
    "\n",
    "ypred_trn = gs_dt1.predict(x_train)\n",
    "\n",
    "ypred_tst = gs_dt1.predict(x_test)\n"
   ]
  },
  {
   "cell_type": "code",
   "execution_count": 91,
   "metadata": {},
   "outputs": [
    {
     "data": {
      "text/plain": [
       "DecisionTreeClassifier(criterion='entropy', max_depth=3, random_state=43,\n",
       "                       splitter='random')"
      ]
     },
     "execution_count": 91,
     "metadata": {},
     "output_type": "execute_result"
    }
   ],
   "source": [
    "gs_dt1.best_estimator_"
   ]
  },
  {
   "cell_type": "code",
   "execution_count": 92,
   "metadata": {},
   "outputs": [
    {
     "name": "stdout",
     "output_type": "stream",
     "text": [
      "decision tree after gridsearch\n",
      "for train : \n",
      "\n",
      "Classification Report : \n",
      "               precision    recall  f1-score   support\n",
      "\n",
      "           1       0.85      0.72      0.78       128\n",
      "           2       0.51      0.80      0.62        50\n",
      "           3       0.54      0.41      0.46        32\n",
      "\n",
      "    accuracy                           0.69       210\n",
      "   macro avg       0.64      0.64      0.62       210\n",
      "weighted avg       0.72      0.69      0.69       210\n",
      "\n",
      "for test : \n",
      "\n",
      "Classification Report : \n",
      "               precision    recall  f1-score   support\n",
      "\n",
      "           1       0.72      0.71      0.71        51\n",
      "           2       0.56      0.67      0.61        27\n",
      "           3       0.25      0.17      0.20        12\n",
      "\n",
      "    accuracy                           0.62        90\n",
      "   macro avg       0.51      0.51      0.51        90\n",
      "weighted avg       0.61      0.62      0.61        90\n",
      "\n"
     ]
    }
   ],
   "source": [
    "print(\"decision tree after gridsearch\")\n",
    "print(\"for train : \\n\")\n",
    "print(\"Classification Report : \\n\",classification_report(y_train,ypred_trn))\n",
    "\n",
    "print(\"for test : \\n\")\n",
    "print(\"Classification Report : \\n\",classification_report(y_test,ypred_tst))\n"
   ]
  },
  {
   "cell_type": "markdown",
   "metadata": {},
   "source": [
    "### DECISION TREE :- 62% Accurate after tuning"
   ]
  },
  {
   "cell_type": "markdown",
   "metadata": {},
   "source": [
    "--------------------------------------------------------------------------------------------------------------------------------------------"
   ]
  },
  {
   "cell_type": "markdown",
   "metadata": {},
   "source": [
    "### Random Forest classification with GridsearchTuning..."
   ]
  },
  {
   "cell_type": "code",
   "execution_count": 93,
   "metadata": {
    "scrolled": true
   },
   "outputs": [
    {
     "name": "stdout",
     "output_type": "stream",
     "text": [
      "Fitting 5 folds for each of 24 candidates, totalling 120 fits\n"
     ]
    },
    {
     "name": "stderr",
     "output_type": "stream",
     "text": [
      "[Parallel(n_jobs=1)]: Using backend SequentialBackend with 1 concurrent workers.\n",
      "[Parallel(n_jobs=1)]: Done 120 out of 120 | elapsed:  1.6min finished\n"
     ]
    }
   ],
   "source": [
    "param_dist = {'n_estimators': [100,1000],'criterion':['gini','entropy'],'max_depth':[None,1,2,3,4,5]}\n",
    "gs_rf1 = GridSearchCV(RandomForestClassifier(random_state=43),param_grid=param_dist,refit=True,verbose=1)\n",
    "gs_rf1.fit(x_train,y_train)\n",
    "\n",
    "ypred_trn = gs_rf1.predict(x_train)\n",
    "\n",
    "ypred_tst = gs_rf1.predict(x_test)\n"
   ]
  },
  {
   "cell_type": "code",
   "execution_count": 94,
   "metadata": {},
   "outputs": [
    {
     "data": {
      "text/plain": [
       "RandomForestClassifier(random_state=43)"
      ]
     },
     "execution_count": 94,
     "metadata": {},
     "output_type": "execute_result"
    }
   ],
   "source": [
    "gs_rf1.best_estimator_"
   ]
  },
  {
   "cell_type": "code",
   "execution_count": 95,
   "metadata": {},
   "outputs": [
    {
     "name": "stdout",
     "output_type": "stream",
     "text": [
      "random forest after gridsearch\n",
      "for train : \n",
      "\n",
      "Classification Report : \n",
      "               precision    recall  f1-score   support\n",
      "\n",
      "           1       1.00      1.00      1.00       128\n",
      "           2       1.00      0.98      0.99        50\n",
      "           3       0.97      1.00      0.98        32\n",
      "\n",
      "    accuracy                           1.00       210\n",
      "   macro avg       0.99      0.99      0.99       210\n",
      "weighted avg       1.00      1.00      1.00       210\n",
      "\n",
      "for test : \n",
      "\n",
      "Classification Report : \n",
      "               precision    recall  f1-score   support\n",
      "\n",
      "           1       0.72      0.92      0.81        51\n",
      "           2       0.65      0.56      0.60        27\n",
      "           3       1.00      0.17      0.29        12\n",
      "\n",
      "    accuracy                           0.71        90\n",
      "   macro avg       0.79      0.55      0.57        90\n",
      "weighted avg       0.74      0.71      0.68        90\n",
      "\n"
     ]
    }
   ],
   "source": [
    "print(\"random forest after gridsearch\")\n",
    "print(\"for train : \\n\")\n",
    "print(\"Classification Report : \\n\",classification_report(y_train,ypred_trn))\n",
    "\n",
    "print(\"for test : \\n\")\n",
    "print(\"Classification Report : \\n\",classification_report(y_test,ypred_tst))\n"
   ]
  },
  {
   "cell_type": "markdown",
   "metadata": {},
   "source": [
    "### RANDOM FOREST :- 71% Accurate after tuning"
   ]
  },
  {
   "cell_type": "markdown",
   "metadata": {},
   "source": [
    "--------------------------------------------------------------------------------------------------------------------------------------------"
   ]
  },
  {
   "cell_type": "markdown",
   "metadata": {},
   "source": [
    "--------------------------------------------------------------------------------------------------------------------------------------------"
   ]
  },
  {
   "cell_type": "markdown",
   "metadata": {},
   "source": [
    "### SVM with gridsearchTuning"
   ]
  },
  {
   "cell_type": "code",
   "execution_count": 96,
   "metadata": {},
   "outputs": [
    {
     "name": "stdout",
     "output_type": "stream",
     "text": [
      "Fitting 5 folds for each of 6 candidates, totalling 30 fits\n",
      "[CV] C=0.1, gamma=0.1, kernel=linear .................................\n",
      "[CV] ..... C=0.1, gamma=0.1, kernel=linear, score=0.643, total=   0.0s\n",
      "[CV] C=0.1, gamma=0.1, kernel=linear .................................\n",
      "[CV] ..... C=0.1, gamma=0.1, kernel=linear, score=0.619, total=   0.0s\n",
      "[CV] C=0.1, gamma=0.1, kernel=linear .................................\n",
      "[CV] ..... C=0.1, gamma=0.1, kernel=linear, score=0.738, total=   0.0s\n",
      "[CV] C=0.1, gamma=0.1, kernel=linear .................................\n",
      "[CV] ..... C=0.1, gamma=0.1, kernel=linear, score=0.643, total=   0.0s\n",
      "[CV] C=0.1, gamma=0.1, kernel=linear .................................\n",
      "[CV] ..... C=0.1, gamma=0.1, kernel=linear, score=0.667, total=   0.0s\n",
      "[CV] C=0.1, gamma=0.01, kernel=linear ................................\n",
      "[CV] .... C=0.1, gamma=0.01, kernel=linear, score=0.643, total=   0.0s\n",
      "[CV] C=0.1, gamma=0.01, kernel=linear ................................\n",
      "[CV] .... C=0.1, gamma=0.01, kernel=linear, score=0.619, total=   0.0s\n",
      "[CV] C=0.1, gamma=0.01, kernel=linear ................................\n",
      "[CV] .... C=0.1, gamma=0.01, kernel=linear, score=0.738, total=   0.0s\n",
      "[CV] C=0.1, gamma=0.01, kernel=linear ................................\n",
      "[CV] .... C=0.1, gamma=0.01, kernel=linear, score=0.643, total=   0.0s\n",
      "[CV] C=0.1, gamma=0.01, kernel=linear ................................\n",
      "[CV] .... C=0.1, gamma=0.01, kernel=linear, score=0.667, total=   0.0s\n",
      "[CV] C=0.1, gamma=0.0001, kernel=linear ..............................\n",
      "[CV] .. C=0.1, gamma=0.0001, kernel=linear, score=0.643, total=   0.0s\n",
      "[CV] C=0.1, gamma=0.0001, kernel=linear ..............................\n",
      "[CV] .. C=0.1, gamma=0.0001, kernel=linear, score=0.619, total=   0.0s\n",
      "[CV] C=0.1, gamma=0.0001, kernel=linear ..............................\n"
     ]
    },
    {
     "name": "stderr",
     "output_type": "stream",
     "text": [
      "[Parallel(n_jobs=1)]: Using backend SequentialBackend with 1 concurrent workers.\n",
      "[Parallel(n_jobs=1)]: Done   1 out of   1 | elapsed:    0.0s remaining:    0.0s\n",
      "[Parallel(n_jobs=1)]: Done   2 out of   2 | elapsed:    0.0s remaining:    0.0s\n",
      "[Parallel(n_jobs=1)]: Done   3 out of   3 | elapsed:    0.0s remaining:    0.0s\n",
      "[Parallel(n_jobs=1)]: Done   4 out of   4 | elapsed:    0.0s remaining:    0.0s\n"
     ]
    },
    {
     "name": "stdout",
     "output_type": "stream",
     "text": [
      "[CV] .. C=0.1, gamma=0.0001, kernel=linear, score=0.738, total=   0.0s\n",
      "[CV] C=0.1, gamma=0.0001, kernel=linear ..............................\n",
      "[CV] .. C=0.1, gamma=0.0001, kernel=linear, score=0.643, total=   0.0s\n",
      "[CV] C=0.1, gamma=0.0001, kernel=linear ..............................\n",
      "[CV] .. C=0.1, gamma=0.0001, kernel=linear, score=0.667, total=   0.0s\n",
      "[CV] C=1, gamma=0.1, kernel=linear ...................................\n",
      "[CV] ....... C=1, gamma=0.1, kernel=linear, score=0.595, total=   0.0s\n",
      "[CV] C=1, gamma=0.1, kernel=linear ...................................\n",
      "[CV] ....... C=1, gamma=0.1, kernel=linear, score=0.643, total=   0.0s\n",
      "[CV] C=1, gamma=0.1, kernel=linear ...................................\n",
      "[CV] ....... C=1, gamma=0.1, kernel=linear, score=0.714, total=   0.0s\n",
      "[CV] C=1, gamma=0.1, kernel=linear ...................................\n",
      "[CV] ....... C=1, gamma=0.1, kernel=linear, score=0.690, total=   0.0s\n",
      "[CV] C=1, gamma=0.1, kernel=linear ...................................\n",
      "[CV] ....... C=1, gamma=0.1, kernel=linear, score=0.667, total=   0.0s\n",
      "[CV] C=1, gamma=0.01, kernel=linear ..................................\n",
      "[CV] ...... C=1, gamma=0.01, kernel=linear, score=0.595, total=   0.0s\n",
      "[CV] C=1, gamma=0.01, kernel=linear ..................................\n",
      "[CV] ...... C=1, gamma=0.01, kernel=linear, score=0.643, total=   0.0s\n",
      "[CV] C=1, gamma=0.01, kernel=linear ..................................\n",
      "[CV] ...... C=1, gamma=0.01, kernel=linear, score=0.714, total=   0.0s\n",
      "[CV] C=1, gamma=0.01, kernel=linear ..................................\n",
      "[CV] ...... C=1, gamma=0.01, kernel=linear, score=0.690, total=   0.0s\n",
      "[CV] C=1, gamma=0.01, kernel=linear ..................................\n",
      "[CV] ...... C=1, gamma=0.01, kernel=linear, score=0.667, total=   0.0s\n",
      "[CV] C=1, gamma=0.0001, kernel=linear ................................\n",
      "[CV] .... C=1, gamma=0.0001, kernel=linear, score=0.595, total=   0.0s\n",
      "[CV] C=1, gamma=0.0001, kernel=linear ................................\n",
      "[CV] .... C=1, gamma=0.0001, kernel=linear, score=0.643, total=   0.0s\n",
      "[CV] C=1, gamma=0.0001, kernel=linear ................................\n",
      "[CV] .... C=1, gamma=0.0001, kernel=linear, score=0.714, total=   0.0s\n",
      "[CV] C=1, gamma=0.0001, kernel=linear ................................\n",
      "[CV] .... C=1, gamma=0.0001, kernel=linear, score=0.690, total=   0.0s\n",
      "[CV] C=1, gamma=0.0001, kernel=linear ................................\n",
      "[CV] .... C=1, gamma=0.0001, kernel=linear, score=0.667, total=   0.0s\n"
     ]
    },
    {
     "name": "stderr",
     "output_type": "stream",
     "text": [
      "[Parallel(n_jobs=1)]: Done  30 out of  30 | elapsed:    0.4s finished\n"
     ]
    },
    {
     "data": {
      "text/plain": [
       "SVC(C=1, gamma=0.1, kernel='linear', random_state=43)"
      ]
     },
     "execution_count": 96,
     "metadata": {},
     "output_type": "execute_result"
    }
   ],
   "source": [
    "param_dist = {'C': [0.1,1], 'gamma': [0.1,0.01,0.0001], 'kernel': ['linear']} \n",
    "gs_svc1 = GridSearchCV(SVC(random_state=43),param_grid=param_dist,refit=True,verbose=5)\n",
    "gs_svc1.fit(x_train,y_train)\n",
    "\n",
    "ypred_trn = gs_svc1.predict(x_train)\n",
    "\n",
    "ypred_tst = gs_svc1.predict(x_test)\n",
    "gs_svc1.best_estimator_"
   ]
  },
  {
   "cell_type": "code",
   "execution_count": 97,
   "metadata": {},
   "outputs": [
    {
     "data": {
      "text/plain": [
       "SVC(C=1, gamma=0.1, kernel='linear', random_state=43)"
      ]
     },
     "execution_count": 97,
     "metadata": {},
     "output_type": "execute_result"
    }
   ],
   "source": [
    "gs_svc1.best_estimator_"
   ]
  },
  {
   "cell_type": "code",
   "execution_count": 98,
   "metadata": {},
   "outputs": [
    {
     "name": "stdout",
     "output_type": "stream",
     "text": [
      "support vector machine after gridsearch\n",
      "for train : \n",
      "\n",
      "Classification Report : \n",
      "               precision    recall  f1-score   support\n",
      "\n",
      "           1       0.77      0.90      0.83       128\n",
      "           2       0.72      0.66      0.69        50\n",
      "           3       0.86      0.38      0.52        32\n",
      "\n",
      "    accuracy                           0.76       210\n",
      "   macro avg       0.78      0.64      0.68       210\n",
      "weighted avg       0.77      0.76      0.75       210\n",
      "\n",
      "for test : \n",
      "\n",
      "Classification Report : \n",
      "               precision    recall  f1-score   support\n",
      "\n",
      "           1       0.70      0.86      0.77        51\n",
      "           2       0.64      0.59      0.62        27\n",
      "           3       1.00      0.17      0.29        12\n",
      "\n",
      "    accuracy                           0.69        90\n",
      "   macro avg       0.78      0.54      0.56        90\n",
      "weighted avg       0.72      0.69      0.66        90\n",
      "\n"
     ]
    }
   ],
   "source": [
    "print(\"support vector machine after gridsearch\")\n",
    "print(\"for train : \\n\")\n",
    "print(\"Classification Report : \\n\",classification_report(y_train,ypred_trn))\n",
    "\n",
    "print(\"for test : \\n\")\n",
    "print(\"Classification Report : \\n\",classification_report(y_test,ypred_tst))\n"
   ]
  },
  {
   "cell_type": "markdown",
   "metadata": {},
   "source": [
    "### SVM :- 69% Accurate after tuning"
   ]
  },
  {
   "cell_type": "markdown",
   "metadata": {},
   "source": [
    "--------------------------------------------------------------------------------------------------------------------------------------------"
   ]
  },
  {
   "cell_type": "markdown",
   "metadata": {},
   "source": [
    "### SGD classifier after gridsearchTuning.."
   ]
  },
  {
   "cell_type": "code",
   "execution_count": 99,
   "metadata": {
    "scrolled": true
   },
   "outputs": [
    {
     "name": "stdout",
     "output_type": "stream",
     "text": [
      "Fitting 5 folds for each of 9 candidates, totalling 45 fits\n",
      "[CV] loss=hinge, penalty=l2, random_state=43 .........................\n",
      "[CV]  loss=hinge, penalty=l2, random_state=43, score=0.643, total=   0.0s\n",
      "[CV] loss=hinge, penalty=l2, random_state=43 .........................\n",
      "[CV]  loss=hinge, penalty=l2, random_state=43, score=0.619, total=   0.0s\n",
      "[CV] loss=hinge, penalty=l2, random_state=43 .........................\n",
      "[CV]  loss=hinge, penalty=l2, random_state=43, score=0.619, total=   0.0s\n",
      "[CV] loss=hinge, penalty=l2, random_state=43 .........................\n",
      "[CV]  loss=hinge, penalty=l2, random_state=43, score=0.619, total=   0.0s\n",
      "[CV] loss=hinge, penalty=l2, random_state=43 .........................\n",
      "[CV]  loss=hinge, penalty=l2, random_state=43, score=0.595, total=   0.0s\n",
      "[CV] loss=hinge, penalty=l1, random_state=43 .........................\n",
      "[CV]  loss=hinge, penalty=l1, random_state=43, score=0.595, total=   0.0s\n",
      "[CV] loss=hinge, penalty=l1, random_state=43 .........................\n",
      "[CV]  loss=hinge, penalty=l1, random_state=43, score=0.548, total=   0.0s\n",
      "[CV] loss=hinge, penalty=l1, random_state=43 .........................\n",
      "[CV]  loss=hinge, penalty=l1, random_state=43, score=0.690, total=   0.0s\n",
      "[CV] loss=hinge, penalty=l1, random_state=43 .........................\n",
      "[CV]  loss=hinge, penalty=l1, random_state=43, score=0.667, total=   0.0s\n",
      "[CV] loss=hinge, penalty=l1, random_state=43 .........................\n"
     ]
    },
    {
     "name": "stderr",
     "output_type": "stream",
     "text": [
      "[Parallel(n_jobs=1)]: Using backend SequentialBackend with 1 concurrent workers.\n",
      "[Parallel(n_jobs=1)]: Done   1 out of   1 | elapsed:    0.0s remaining:    0.0s\n",
      "[Parallel(n_jobs=1)]: Done   2 out of   2 | elapsed:    0.0s remaining:    0.0s\n",
      "[Parallel(n_jobs=1)]: Done   3 out of   3 | elapsed:    0.0s remaining:    0.0s\n",
      "[Parallel(n_jobs=1)]: Done   4 out of   4 | elapsed:    0.0s remaining:    0.0s\n"
     ]
    },
    {
     "name": "stdout",
     "output_type": "stream",
     "text": [
      "[CV]  loss=hinge, penalty=l1, random_state=43, score=0.714, total=   0.0s\n",
      "[CV] loss=hinge, penalty=elasticnet, random_state=43 .................\n",
      "[CV]  loss=hinge, penalty=elasticnet, random_state=43, score=0.619, total=   0.0s\n",
      "[CV] loss=hinge, penalty=elasticnet, random_state=43 .................\n",
      "[CV]  loss=hinge, penalty=elasticnet, random_state=43, score=0.643, total=   0.0s\n",
      "[CV] loss=hinge, penalty=elasticnet, random_state=43 .................\n",
      "[CV]  loss=hinge, penalty=elasticnet, random_state=43, score=0.524, total=   0.0s\n",
      "[CV] loss=hinge, penalty=elasticnet, random_state=43 .................\n",
      "[CV]  loss=hinge, penalty=elasticnet, random_state=43, score=0.571, total=   0.0s\n",
      "[CV] loss=hinge, penalty=elasticnet, random_state=43 .................\n",
      "[CV]  loss=hinge, penalty=elasticnet, random_state=43, score=0.643, total=   0.0s\n",
      "[CV] loss=log, penalty=l2, random_state=43 ...........................\n",
      "[CV]  loss=log, penalty=l2, random_state=43, score=0.595, total=   0.0s\n",
      "[CV] loss=log, penalty=l2, random_state=43 ...........................\n",
      "[CV]  loss=log, penalty=l2, random_state=43, score=0.595, total=   0.0s\n",
      "[CV] loss=log, penalty=l2, random_state=43 ...........................\n",
      "[CV]  loss=log, penalty=l2, random_state=43, score=0.548, total=   0.0s\n",
      "[CV] loss=log, penalty=l2, random_state=43 ...........................\n",
      "[CV]  loss=log, penalty=l2, random_state=43, score=0.405, total=   0.0s\n",
      "[CV] loss=log, penalty=l2, random_state=43 ...........................\n",
      "[CV]  loss=log, penalty=l2, random_state=43, score=0.429, total=   0.0s\n",
      "[CV] loss=log, penalty=l1, random_state=43 ...........................\n",
      "[CV]  loss=log, penalty=l1, random_state=43, score=0.595, total=   0.0s\n",
      "[CV] loss=log, penalty=l1, random_state=43 ...........................\n",
      "[CV]  loss=log, penalty=l1, random_state=43, score=0.690, total=   0.0s\n",
      "[CV] loss=log, penalty=l1, random_state=43 ...........................\n",
      "[CV]  loss=log, penalty=l1, random_state=43, score=0.714, total=   0.0s\n",
      "[CV] loss=log, penalty=l1, random_state=43 ...........................\n",
      "[CV]  loss=log, penalty=l1, random_state=43, score=0.571, total=   0.0s\n",
      "[CV] loss=log, penalty=l1, random_state=43 ...........................\n",
      "[CV]  loss=log, penalty=l1, random_state=43, score=0.595, total=   0.0s\n",
      "[CV] loss=log, penalty=elasticnet, random_state=43 ...................\n",
      "[CV]  loss=log, penalty=elasticnet, random_state=43, score=0.595, total=   0.0s\n",
      "[CV] loss=log, penalty=elasticnet, random_state=43 ...................\n",
      "[CV]  loss=log, penalty=elasticnet, random_state=43, score=0.690, total=   0.0s\n",
      "[CV] loss=log, penalty=elasticnet, random_state=43 ...................\n",
      "[CV]  loss=log, penalty=elasticnet, random_state=43, score=0.643, total=   0.0s\n",
      "[CV] loss=log, penalty=elasticnet, random_state=43 ...................\n",
      "[CV]  loss=log, penalty=elasticnet, random_state=43, score=0.452, total=   0.0s\n",
      "[CV] loss=log, penalty=elasticnet, random_state=43 ...................\n",
      "[CV]  loss=log, penalty=elasticnet, random_state=43, score=0.452, total=   0.0s\n",
      "[CV] loss=modified_huber, penalty=l2, random_state=43 ................\n",
      "[CV]  loss=modified_huber, penalty=l2, random_state=43, score=0.643, total=   0.0s\n",
      "[CV] loss=modified_huber, penalty=l2, random_state=43 ................\n",
      "[CV]  loss=modified_huber, penalty=l2, random_state=43, score=0.595, total=   0.0s\n",
      "[CV] loss=modified_huber, penalty=l2, random_state=43 ................\n",
      "[CV]  loss=modified_huber, penalty=l2, random_state=43, score=0.548, total=   0.0s\n",
      "[CV] loss=modified_huber, penalty=l2, random_state=43 ................\n",
      "[CV]  loss=modified_huber, penalty=l2, random_state=43, score=0.381, total=   0.0s\n",
      "[CV] loss=modified_huber, penalty=l2, random_state=43 ................\n",
      "[CV]  loss=modified_huber, penalty=l2, random_state=43, score=0.643, total=   0.0s\n",
      "[CV] loss=modified_huber, penalty=l1, random_state=43 ................\n",
      "[CV]  loss=modified_huber, penalty=l1, random_state=43, score=0.595, total=   0.0s\n",
      "[CV] loss=modified_huber, penalty=l1, random_state=43 ................\n",
      "[CV]  loss=modified_huber, penalty=l1, random_state=43, score=0.667, total=   0.0s\n",
      "[CV] loss=modified_huber, penalty=l1, random_state=43 ................\n",
      "[CV]  loss=modified_huber, penalty=l1, random_state=43, score=0.524, total=   0.0s\n",
      "[CV] loss=modified_huber, penalty=l1, random_state=43 ................\n",
      "[CV]  loss=modified_huber, penalty=l1, random_state=43, score=0.643, total=   0.0s\n",
      "[CV] loss=modified_huber, penalty=l1, random_state=43 ................\n",
      "[CV]  loss=modified_huber, penalty=l1, random_state=43, score=0.643, total=   0.0s\n",
      "[CV] loss=modified_huber, penalty=elasticnet, random_state=43 ........\n",
      "[CV]  loss=modified_huber, penalty=elasticnet, random_state=43, score=0.500, total=   0.0s\n",
      "[CV] loss=modified_huber, penalty=elasticnet, random_state=43 ........\n",
      "[CV]  loss=modified_huber, penalty=elasticnet, random_state=43, score=0.643, total=   0.0s\n",
      "[CV] loss=modified_huber, penalty=elasticnet, random_state=43 ........\n",
      "[CV]  loss=modified_huber, penalty=elasticnet, random_state=43, score=0.643, total=   0.0s\n",
      "[CV] loss=modified_huber, penalty=elasticnet, random_state=43 ........\n",
      "[CV]  loss=modified_huber, penalty=elasticnet, random_state=43, score=0.405, total=   0.0s\n",
      "[CV] loss=modified_huber, penalty=elasticnet, random_state=43 ........\n",
      "[CV]  loss=modified_huber, penalty=elasticnet, random_state=43, score=0.524, total=   0.0s\n"
     ]
    },
    {
     "name": "stderr",
     "output_type": "stream",
     "text": [
      "[Parallel(n_jobs=1)]: Done  45 out of  45 | elapsed:    0.6s finished\n"
     ]
    },
    {
     "data": {
      "text/plain": [
       "SGDClassifier(penalty='l1', random_state=43)"
      ]
     },
     "execution_count": 99,
     "metadata": {},
     "output_type": "execute_result"
    }
   ],
   "source": [
    "param_dist = {'loss':['hinge','log','modified_huber'],'penalty':['l2','l1','elasticnet'],'random_state':[43]}\n",
    "gs_sgd1 = GridSearchCV(SGDClassifier(random_state=43),param_dist,refit=True,verbose=5)\n",
    "gs_sgd1.fit(x_train,y_train)\n",
    "\n",
    "ypred_trn = gs_sgd1.predict(x_train)\n",
    "\n",
    "ypred_tst = gs_sgd1.predict(x_test)\n",
    "gs_sgd1.best_estimator_"
   ]
  },
  {
   "cell_type": "code",
   "execution_count": 100,
   "metadata": {},
   "outputs": [
    {
     "data": {
      "text/plain": [
       "SGDClassifier(penalty='l1', random_state=43)"
      ]
     },
     "execution_count": 100,
     "metadata": {},
     "output_type": "execute_result"
    }
   ],
   "source": [
    "gs_sgd1.best_estimator_"
   ]
  },
  {
   "cell_type": "code",
   "execution_count": 101,
   "metadata": {},
   "outputs": [
    {
     "name": "stdout",
     "output_type": "stream",
     "text": [
      "stochastic gradient descent classifier after gridsearch\n",
      "for train : \n",
      "\n",
      "Classification Report : \n",
      "               precision    recall  f1-score   support\n",
      "\n",
      "           1       0.86      0.74      0.79       128\n",
      "           2       0.62      0.86      0.72        50\n",
      "           3       0.53      0.50      0.52        32\n",
      "\n",
      "    accuracy                           0.73       210\n",
      "   macro avg       0.67      0.70      0.68       210\n",
      "weighted avg       0.75      0.73      0.74       210\n",
      "\n",
      "for test : \n",
      "\n",
      "Classification Report : \n",
      "               precision    recall  f1-score   support\n",
      "\n",
      "           1       0.79      0.75      0.77        51\n",
      "           2       0.64      0.85      0.73        27\n",
      "           3       0.50      0.25      0.33        12\n",
      "\n",
      "    accuracy                           0.71        90\n",
      "   macro avg       0.64      0.62      0.61        90\n",
      "weighted avg       0.71      0.71      0.70        90\n",
      "\n"
     ]
    }
   ],
   "source": [
    "print(\"stochastic gradient descent classifier after gridsearch\")\n",
    "print(\"for train : \\n\")\n",
    "\n",
    "print(\"Classification Report : \\n\",classification_report(y_train,ypred_trn))\n",
    "\n",
    "print(\"for test : \\n\")\n",
    "print(\"Classification Report : \\n\",classification_report(y_test,ypred_tst))\n"
   ]
  },
  {
   "cell_type": "markdown",
   "metadata": {},
   "source": [
    "### SGD :- 71% Accurate after tuning"
   ]
  },
  {
   "cell_type": "code",
   "execution_count": null,
   "metadata": {},
   "outputs": [],
   "source": []
  },
  {
   "cell_type": "code",
   "execution_count": 56,
   "metadata": {},
   "outputs": [],
   "source": [
    "from sklearn.neighbors import KNeighborsClassifier\n",
    "from sklearn.linear_model import LogisticRegression\n",
    "from sklearn.tree import DecisionTreeClassifier\n",
    "from sklearn.ensemble import RandomForestClassifier\n",
    "from sklearn.svm import SVC\n",
    "from sklearn.linear_model import SGDClassifier\n",
    "\n",
    "\n",
    "from sklearn.metrics import accuracy_score,classification_report"
   ]
  },
  {
   "cell_type": "markdown",
   "metadata": {},
   "source": [
    "--------------------------------------------------------------------------------------------------------------------------------------------"
   ]
  },
  {
   "cell_type": "markdown",
   "metadata": {},
   "source": [
    "# Feature Selection..."
   ]
  },
  {
   "cell_type": "code",
   "execution_count": 57,
   "metadata": {},
   "outputs": [],
   "source": [
    "from sklearn.feature_selection import RFECV"
   ]
  },
  {
   "cell_type": "markdown",
   "metadata": {},
   "source": [
    "### Feature_Selection on Logistic regression model"
   ]
  },
  {
   "cell_type": "code",
   "execution_count": 59,
   "metadata": {},
   "outputs": [],
   "source": [
    "from sklearn.feature_selection import RFECV\n",
    "#fitting model for rfe using logreg\n",
    "logreg = LogisticRegression(random_state=43)\n",
    "rfe_lr = RFECV(estimator = logreg)\n",
    "rfe_lr = rfe_lr.fit(x_train,y_train)"
   ]
  },
  {
   "cell_type": "code",
   "execution_count": 60,
   "metadata": {
    "scrolled": true
   },
   "outputs": [
    {
     "data": {
      "text/plain": [
       "array([1, 1, 3, 1, 1, 1, 2, 1, 8, 6, 1, 1, 4, 5, 1, 1, 7, 1])"
      ]
     },
     "execution_count": 60,
     "metadata": {},
     "output_type": "execute_result"
    }
   ],
   "source": [
    "#ranking feats\n",
    "rfe_lr.ranking_"
   ]
  },
  {
   "cell_type": "code",
   "execution_count": 61,
   "metadata": {
    "collapsed": true,
    "jupyter": {
     "outputs_hidden": true
    },
    "tags": []
   },
   "outputs": [
    {
     "data": {
      "text/html": [
       "<div>\n",
       "<style scoped>\n",
       "    .dataframe tbody tr th:only-of-type {\n",
       "        vertical-align: middle;\n",
       "    }\n",
       "\n",
       "    .dataframe tbody tr th {\n",
       "        vertical-align: top;\n",
       "    }\n",
       "\n",
       "    .dataframe thead th {\n",
       "        text-align: right;\n",
       "    }\n",
       "</style>\n",
       "<table border=\"1\" class=\"dataframe\">\n",
       "  <thead>\n",
       "    <tr style=\"text-align: right;\">\n",
       "      <th></th>\n",
       "      <th>Features</th>\n",
       "      <th>Rank_lr</th>\n",
       "    </tr>\n",
       "  </thead>\n",
       "  <tbody>\n",
       "    <tr>\n",
       "      <th>0</th>\n",
       "      <td>rectal temperature</td>\n",
       "      <td>1</td>\n",
       "    </tr>\n",
       "    <tr>\n",
       "      <th>1</th>\n",
       "      <td>pulse</td>\n",
       "      <td>1</td>\n",
       "    </tr>\n",
       "    <tr>\n",
       "      <th>2</th>\n",
       "      <td>respiratory rate</td>\n",
       "      <td>3</td>\n",
       "    </tr>\n",
       "    <tr>\n",
       "      <th>3</th>\n",
       "      <td>packed cell volume</td>\n",
       "      <td>1</td>\n",
       "    </tr>\n",
       "    <tr>\n",
       "      <th>4</th>\n",
       "      <td>total protein</td>\n",
       "      <td>1</td>\n",
       "    </tr>\n",
       "    <tr>\n",
       "      <th>5</th>\n",
       "      <td>surgery</td>\n",
       "      <td>1</td>\n",
       "    </tr>\n",
       "    <tr>\n",
       "      <th>6</th>\n",
       "      <td>Age</td>\n",
       "      <td>2</td>\n",
       "    </tr>\n",
       "    <tr>\n",
       "      <th>7</th>\n",
       "      <td>temperature of extremities</td>\n",
       "      <td>1</td>\n",
       "    </tr>\n",
       "    <tr>\n",
       "      <th>8</th>\n",
       "      <td>peripheral pulse</td>\n",
       "      <td>8</td>\n",
       "    </tr>\n",
       "    <tr>\n",
       "      <th>9</th>\n",
       "      <td>mucous membranes</td>\n",
       "      <td>6</td>\n",
       "    </tr>\n",
       "    <tr>\n",
       "      <th>10</th>\n",
       "      <td>capillary refill time</td>\n",
       "      <td>1</td>\n",
       "    </tr>\n",
       "    <tr>\n",
       "      <th>11</th>\n",
       "      <td>pain</td>\n",
       "      <td>1</td>\n",
       "    </tr>\n",
       "    <tr>\n",
       "      <th>12</th>\n",
       "      <td>peristalsis</td>\n",
       "      <td>4</td>\n",
       "    </tr>\n",
       "    <tr>\n",
       "      <th>13</th>\n",
       "      <td>abdominal distension</td>\n",
       "      <td>5</td>\n",
       "    </tr>\n",
       "    <tr>\n",
       "      <th>14</th>\n",
       "      <td>nasogastric tube</td>\n",
       "      <td>1</td>\n",
       "    </tr>\n",
       "    <tr>\n",
       "      <th>15</th>\n",
       "      <td>rectal examination</td>\n",
       "      <td>1</td>\n",
       "    </tr>\n",
       "    <tr>\n",
       "      <th>16</th>\n",
       "      <td>abdomen</td>\n",
       "      <td>7</td>\n",
       "    </tr>\n",
       "    <tr>\n",
       "      <th>17</th>\n",
       "      <td>surgical lesion</td>\n",
       "      <td>1</td>\n",
       "    </tr>\n",
       "  </tbody>\n",
       "</table>\n",
       "</div>"
      ],
      "text/plain": [
       "                      Features  Rank_lr\n",
       "0           rectal temperature        1\n",
       "1                        pulse        1\n",
       "2             respiratory rate        3\n",
       "3           packed cell volume        1\n",
       "4                total protein        1\n",
       "5                      surgery        1\n",
       "6                          Age        2\n",
       "7   temperature of extremities        1\n",
       "8             peripheral pulse        8\n",
       "9             mucous membranes        6\n",
       "10       capillary refill time        1\n",
       "11                        pain        1\n",
       "12                 peristalsis        4\n",
       "13        abdominal distension        5\n",
       "14            nasogastric tube        1\n",
       "15          rectal examination        1\n",
       "16                     abdomen        7\n",
       "17             surgical lesion        1"
      ]
     },
     "execution_count": 61,
     "metadata": {},
     "output_type": "execute_result"
    }
   ],
   "source": [
    "#making a df for studying ranks for each model\n",
    "rank =pd.DataFrame()\n",
    "rank['Features'] = x_train.columns\n",
    "rank['Rank_lr'] = rfe_lr.ranking_\n",
    "rank"
   ]
  },
  {
   "cell_type": "markdown",
   "metadata": {},
   "source": [
    "### Features with a rank of 1 are to be considered...."
   ]
  },
  {
   "cell_type": "code",
   "execution_count": 62,
   "metadata": {
    "collapsed": true,
    "jupyter": {
     "outputs_hidden": true
    },
    "tags": []
   },
   "outputs": [
    {
     "data": {
      "text/plain": [
       "0             rectal temperature\n",
       "1                          pulse\n",
       "3             packed cell volume\n",
       "4                  total protein\n",
       "5                        surgery\n",
       "7     temperature of extremities\n",
       "10         capillary refill time\n",
       "11                          pain\n",
       "14              nasogastric tube\n",
       "15            rectal examination\n",
       "17               surgical lesion\n",
       "Name: Features, dtype: object"
      ]
     },
     "execution_count": 62,
     "metadata": {},
     "output_type": "execute_result"
    }
   ],
   "source": [
    "# rfe selected feats for logreg\n",
    "feat_lr_rfe = rank[rank['Rank_lr']==1]['Features']\n",
    "feat_lr_rfe"
   ]
  },
  {
   "cell_type": "code",
   "execution_count": 63,
   "metadata": {},
   "outputs": [
    {
     "name": "stdout",
     "output_type": "stream",
     "text": [
      "no of xtrain feats :  18\n",
      "no of selected xtrain feats after rfe for logreg :  11\n"
     ]
    }
   ],
   "source": [
    "#verifying rfe feat selctn\n",
    "print(\"no of xtrain feats : \",x_train.shape[1])\n",
    "print(\"no of selected xtrain feats after rfe for logreg : \",\n",
    "      x_train[feat_lr_rfe].shape[1])"
   ]
  },
  {
   "cell_type": "code",
   "execution_count": 64,
   "metadata": {},
   "outputs": [],
   "source": [
    "#building model on rfe selected feats for logreg\n",
    "logreg_rfe = LogisticRegression(random_state=43,solver='liblinear')\n",
    "logreg_rfe.fit(x_train[feat_lr_rfe],y_train)\n",
    "\n",
    "ypred_trn = logreg_rfe.predict(x_train[feat_lr_rfe])\n",
    "\n",
    "ypred_tst = logreg_rfe.predict(x_test[feat_lr_rfe])"
   ]
  },
  {
   "cell_type": "code",
   "execution_count": 65,
   "metadata": {},
   "outputs": [
    {
     "name": "stdout",
     "output_type": "stream",
     "text": [
      "logistic regression aftre rfe feat selctn\n",
      "for train : \n",
      "\n",
      "Classification Report : \n",
      "               precision    recall  f1-score   support\n",
      "\n",
      "           1       0.75      0.89      0.81       128\n",
      "           2       0.70      0.64      0.67        50\n",
      "           3       0.75      0.28      0.41        32\n",
      "\n",
      "    accuracy                           0.74       210\n",
      "   macro avg       0.73      0.60      0.63       210\n",
      "weighted avg       0.74      0.74      0.72       210\n",
      "\n",
      "for test : \n",
      "\n",
      "Classification Report : \n",
      "               precision    recall  f1-score   support\n",
      "\n",
      "           1       0.66      0.88      0.76        51\n",
      "           2       0.62      0.48      0.54        27\n",
      "           3       0.00      0.00      0.00        12\n",
      "\n",
      "    accuracy                           0.64        90\n",
      "   macro avg       0.43      0.45      0.43        90\n",
      "weighted avg       0.56      0.64      0.59        90\n",
      "\n"
     ]
    }
   ],
   "source": [
    "#check classfctn report\n",
    "print(\"logistic regression aftre rfe feat selctn\")\n",
    "print(\"for train : \\n\")\n",
    "print(\"Classification Report : \\n\",classification_report(y_train,ypred_trn))\n",
    "\n",
    "print(\"for test : \\n\")\n",
    "print(\"Classification Report : \\n\",classification_report(y_test,ypred_tst))\n"
   ]
  },
  {
   "cell_type": "markdown",
   "metadata": {},
   "source": [
    "## LOGISTIC :- 64% accuracy after feature selection"
   ]
  },
  {
   "cell_type": "markdown",
   "metadata": {},
   "source": [
    "--------------------------------------------------------------------------------------------------------------------------------------------"
   ]
  },
  {
   "cell_type": "markdown",
   "metadata": {},
   "source": [
    "--------------------------------------------------------------------------------------------------------------------------------------------"
   ]
  },
  {
   "cell_type": "markdown",
   "metadata": {},
   "source": [
    "### Featuer_Selection on Decision Tree model"
   ]
  },
  {
   "cell_type": "code",
   "execution_count": 66,
   "metadata": {},
   "outputs": [
    {
     "data": {
      "text/plain": [
       "array([1, 1, 1, 1, 1, 2, 7, 1, 9, 1, 4, 5, 8, 1, 1, 1, 6, 3])"
      ]
     },
     "execution_count": 66,
     "metadata": {},
     "output_type": "execute_result"
    }
   ],
   "source": [
    "#fitting model for rfe using dtree\n",
    "dt = DecisionTreeClassifier(random_state=43)\n",
    "rfe_dt = RFECV(estimator = dt)\n",
    "rfe_dt = rfe_dt.fit(x_train,y_train)\n",
    "rfe_dt.ranking_"
   ]
  },
  {
   "cell_type": "code",
   "execution_count": 67,
   "metadata": {},
   "outputs": [
    {
     "data": {
      "text/plain": [
       "0             rectal temperature\n",
       "1                          pulse\n",
       "2               respiratory rate\n",
       "3             packed cell volume\n",
       "4                  total protein\n",
       "7     temperature of extremities\n",
       "9               mucous membranes\n",
       "13          abdominal distension\n",
       "14              nasogastric tube\n",
       "15            rectal examination\n",
       "Name: Features, dtype: object"
      ]
     },
     "execution_count": 67,
     "metadata": {},
     "output_type": "execute_result"
    }
   ],
   "source": [
    "##making a df for studying ranks for each model\n",
    "rank['Rank_dt'] = rfe_dt.ranking_\n",
    "feat_dt_rfe = rank[rank['Rank_dt']==1]['Features']\n",
    "feat_dt_rfe.head(10)"
   ]
  },
  {
   "cell_type": "code",
   "execution_count": 68,
   "metadata": {},
   "outputs": [
    {
     "name": "stdout",
     "output_type": "stream",
     "text": [
      "no of xtrain feats :  18\n",
      "no of selected xtrain feats after rfe for decsn tree :  10\n"
     ]
    }
   ],
   "source": [
    "#verifying rfe feat selctn\n",
    "print(\"no of xtrain feats : \",x_train.shape[1])\n",
    "print(\"no of selected xtrain feats after rfe for decsn tree : \",x_train[feat_dt_rfe].shape[1])"
   ]
  },
  {
   "cell_type": "code",
   "execution_count": 69,
   "metadata": {
    "scrolled": true
   },
   "outputs": [],
   "source": [
    "#building model on rfe selected feats for dtree\n",
    "\n",
    "dt_rfe = DecisionTreeClassifier(random_state=43)\n",
    "dt_rfe.fit(x_train[feat_dt_rfe],y_train)\n",
    "\n",
    "ypred_trn = dt_rfe.predict(x_train[feat_dt_rfe])\n",
    "\n",
    "ypred_tst = dt_rfe.predict(x_test[feat_dt_rfe])\n"
   ]
  },
  {
   "cell_type": "code",
   "execution_count": 70,
   "metadata": {},
   "outputs": [
    {
     "name": "stdout",
     "output_type": "stream",
     "text": [
      "decision tree after feat selctn\n",
      "for train : \n",
      "\n",
      "Classification Report : \n",
      "               precision    recall  f1-score   support\n",
      "\n",
      "           1       0.99      1.00      1.00       128\n",
      "           2       0.98      0.98      0.98        50\n",
      "           3       1.00      0.97      0.98        32\n",
      "\n",
      "    accuracy                           0.99       210\n",
      "   macro avg       0.99      0.98      0.99       210\n",
      "weighted avg       0.99      0.99      0.99       210\n",
      "\n",
      "for test : \n",
      "\n",
      "Classification Report : \n",
      "               precision    recall  f1-score   support\n",
      "\n",
      "           1       0.66      0.65      0.65        51\n",
      "           2       0.37      0.41      0.39        27\n",
      "           3       0.30      0.25      0.27        12\n",
      "\n",
      "    accuracy                           0.52        90\n",
      "   macro avg       0.44      0.43      0.44        90\n",
      "weighted avg       0.52      0.52      0.52        90\n",
      "\n"
     ]
    }
   ],
   "source": [
    "#check classification report\n",
    "print(\"decision tree after feat selctn\")\n",
    "print(\"for train : \\n\")\n",
    "print(\"Classification Report : \\n\",classification_report(y_train,ypred_trn))\n",
    "\n",
    "print(\"for test : \\n\")\n",
    "print(\"Classification Report : \\n\",classification_report(y_test,ypred_tst))\n"
   ]
  },
  {
   "cell_type": "markdown",
   "metadata": {},
   "source": [
    "## DECISION TREE :- 52% accuracy after feature selection"
   ]
  },
  {
   "cell_type": "markdown",
   "metadata": {},
   "source": [
    "--------------------------------------------------------------------------------------------------------------------------------------------"
   ]
  },
  {
   "cell_type": "markdown",
   "metadata": {},
   "source": [
    "--------------------------------------------------------------------------------------------------------------------------------------------"
   ]
  },
  {
   "cell_type": "markdown",
   "metadata": {},
   "source": [
    "### Featuer_Selection on Random Forest model"
   ]
  },
  {
   "cell_type": "code",
   "execution_count": 71,
   "metadata": {},
   "outputs": [
    {
     "data": {
      "text/plain": [
       "array([1, 1, 1, 1, 1, 1, 1, 1, 1, 1, 1, 1, 1, 1, 1, 1, 1, 1])"
      ]
     },
     "execution_count": 71,
     "metadata": {},
     "output_type": "execute_result"
    }
   ],
   "source": [
    "#fitting model for rfe using random forest\n",
    "rf=RandomForestClassifier(random_state=43)\n",
    "rfe_rf = RFECV(estimator = rf)\n",
    "rfe_rf = rfe_rf.fit(x_train,y_train)\n",
    "rfe_rf.ranking_"
   ]
  },
  {
   "cell_type": "code",
   "execution_count": 72,
   "metadata": {},
   "outputs": [
    {
     "data": {
      "text/plain": [
       "0            rectal temperature\n",
       "1                         pulse\n",
       "2              respiratory rate\n",
       "3            packed cell volume\n",
       "4                 total protein\n",
       "5                       surgery\n",
       "6                           Age\n",
       "7    temperature of extremities\n",
       "8              peripheral pulse\n",
       "9              mucous membranes\n",
       "Name: Features, dtype: object"
      ]
     },
     "execution_count": 72,
     "metadata": {},
     "output_type": "execute_result"
    }
   ],
   "source": [
    "#making a df for studying ranks for each model\n",
    "rank['Rank_rf'] = rfe_rf.ranking_\n",
    "feat_rf_rfe = rank[rank['Rank_rf']==1]['Features']\n",
    "feat_rf_rfe.head(10)"
   ]
  },
  {
   "cell_type": "code",
   "execution_count": 73,
   "metadata": {},
   "outputs": [
    {
     "name": "stdout",
     "output_type": "stream",
     "text": [
      "no of xtrain feats :  18\n",
      "no of selected xtrain feats after rfe for rand forest :  18\n"
     ]
    }
   ],
   "source": [
    "#verifying rfe feat selctn\n",
    "print(\"no of xtrain feats : \",x_train.shape[1])\n",
    "print(\"no of selected xtrain feats after rfe for rand forest : \",x_train[feat_rf_rfe].shape[1])"
   ]
  },
  {
   "cell_type": "code",
   "execution_count": 74,
   "metadata": {},
   "outputs": [],
   "source": [
    "#building model on rfe selected feats for random forest\n",
    "\n",
    "rf_rfe = RandomForestClassifier(random_state=43)\n",
    "rf_rfe.fit(x_train[feat_rf_rfe],y_train)\n",
    "\n",
    "ypred_trn = rf_rfe.predict(x_train[feat_rf_rfe])\n",
    "\n",
    "ypred_tst = rf_rfe.predict(x_test[feat_rf_rfe])\n"
   ]
  },
  {
   "cell_type": "code",
   "execution_count": 75,
   "metadata": {},
   "outputs": [
    {
     "name": "stdout",
     "output_type": "stream",
     "text": [
      "random forest after feat selctn\n",
      "for train : \n",
      "\n",
      "Classification Report : \n",
      "               precision    recall  f1-score   support\n",
      "\n",
      "           1       1.00      1.00      1.00       128\n",
      "           2       1.00      0.98      0.99        50\n",
      "           3       0.97      1.00      0.98        32\n",
      "\n",
      "    accuracy                           1.00       210\n",
      "   macro avg       0.99      0.99      0.99       210\n",
      "weighted avg       1.00      1.00      1.00       210\n",
      "\n",
      "for test : \n",
      "\n",
      "Classification Report : \n",
      "               precision    recall  f1-score   support\n",
      "\n",
      "           1       0.72      0.92      0.81        51\n",
      "           2       0.65      0.56      0.60        27\n",
      "           3       1.00      0.17      0.29        12\n",
      "\n",
      "    accuracy                           0.71        90\n",
      "   macro avg       0.79      0.55      0.57        90\n",
      "weighted avg       0.74      0.71      0.68        90\n",
      "\n"
     ]
    }
   ],
   "source": [
    "#check classfctn report\n",
    "print(\"random forest after feat selctn\")\n",
    "print(\"for train : \\n\")\n",
    "print(\"Classification Report : \\n\",classification_report(y_train,ypred_trn))\n",
    "\n",
    "print(\"for test : \\n\")\n",
    "print(\"Classification Report : \\n\",classification_report(y_test,ypred_tst))\n"
   ]
  },
  {
   "cell_type": "markdown",
   "metadata": {},
   "source": [
    "## RANDOM FOREST :- 71% accuracy after feature selection"
   ]
  },
  {
   "cell_type": "markdown",
   "metadata": {},
   "source": [
    "--------------------------------------------------------------------------------------------------------------------------------------------"
   ]
  },
  {
   "cell_type": "markdown",
   "metadata": {},
   "source": [
    "--------------------------------------------------------------------------------------------------------------------------------------------"
   ]
  },
  {
   "cell_type": "markdown",
   "metadata": {},
   "source": [
    "### Featuer_Selection on SVM model"
   ]
  },
  {
   "cell_type": "code",
   "execution_count": 76,
   "metadata": {
    "scrolled": true
   },
   "outputs": [
    {
     "data": {
      "text/plain": [
       "array([1, 1, 1, 1, 1, 1, 2, 1, 3, 5, 1, 1, 4, 1, 1, 1, 6, 1])"
      ]
     },
     "execution_count": 76,
     "metadata": {},
     "output_type": "execute_result"
    }
   ],
   "source": [
    "#fitting model for rfe using svm\n",
    "svc = SVC(kernel='linear',random_state=43)\n",
    "rfe_svc = RFECV(estimator = svc)#, step=1, cv=5)\n",
    "rfe_svc = rfe_svc.fit(x_train,y_train)\n",
    "rfe_svc.ranking_\n",
    "#estimator = SVC(kernel=\"linear\")\n",
    "#selector = RFECV(estimator, step=1, cv=5)\n",
    "#selector = selector.fit(X, y)"
   ]
  },
  {
   "cell_type": "code",
   "execution_count": 77,
   "metadata": {},
   "outputs": [
    {
     "data": {
      "text/plain": [
       "0             rectal temperature\n",
       "1                          pulse\n",
       "2               respiratory rate\n",
       "3             packed cell volume\n",
       "4                  total protein\n",
       "5                        surgery\n",
       "7     temperature of extremities\n",
       "10         capillary refill time\n",
       "11                          pain\n",
       "13          abdominal distension\n",
       "Name: Features, dtype: object"
      ]
     },
     "execution_count": 77,
     "metadata": {},
     "output_type": "execute_result"
    }
   ],
   "source": [
    "#making a df for studying ranks for each model\n",
    "rank['Rank_svc'] = rfe_svc.ranking_\n",
    "feat_svc_rfe = rank[rank['Rank_svc']==1]['Features']\n",
    "feat_svc_rfe.head(10)"
   ]
  },
  {
   "cell_type": "code",
   "execution_count": 78,
   "metadata": {},
   "outputs": [
    {
     "name": "stdout",
     "output_type": "stream",
     "text": [
      "no of xtrain feats :  18\n",
      "no of selected xtrain feats after rfe for svm :  13\n"
     ]
    }
   ],
   "source": [
    "#verifying rfe feat selctn\n",
    "print(\"no of xtrain feats : \",x_train.shape[1])\n",
    "print(\"no of selected xtrain feats after rfe for svm : \",x_train[feat_svc_rfe].shape[1])"
   ]
  },
  {
   "cell_type": "code",
   "execution_count": 79,
   "metadata": {},
   "outputs": [],
   "source": [
    "#building model on rfe selected feats for svc\n",
    "\n",
    "from sklearn.svm import SVC\n",
    "svc_rfe = SVC(random_state=43)\n",
    "svc_rfe.fit(x_train[feat_svc_rfe],y_train)\n",
    "\n",
    "ypred_trn = svc_rfe.predict(x_train[feat_svc_rfe])\n",
    "\n",
    "ypred_tst = svc_rfe.predict(x_test[feat_svc_rfe])\n"
   ]
  },
  {
   "cell_type": "code",
   "execution_count": 80,
   "metadata": {},
   "outputs": [
    {
     "name": "stdout",
     "output_type": "stream",
     "text": [
      "support vector machine after rfe feat selctn\n",
      "for train : \n",
      "\n",
      "Classification Report : \n",
      "               precision    recall  f1-score   support\n",
      "\n",
      "           1       0.71      0.93      0.81       128\n",
      "           2       0.71      0.58      0.64        50\n",
      "           3       1.00      0.06      0.12        32\n",
      "\n",
      "    accuracy                           0.71       210\n",
      "   macro avg       0.81      0.52      0.52       210\n",
      "weighted avg       0.76      0.71      0.66       210\n",
      "\n",
      "for test : \n",
      "\n",
      "Classification Report : \n",
      "               precision    recall  f1-score   support\n",
      "\n",
      "           1       0.66      0.94      0.77        51\n",
      "           2       0.71      0.44      0.55        27\n",
      "           3       0.00      0.00      0.00        12\n",
      "\n",
      "    accuracy                           0.67        90\n",
      "   macro avg       0.45      0.46      0.44        90\n",
      "weighted avg       0.58      0.67      0.60        90\n",
      "\n"
     ]
    }
   ],
   "source": [
    "#check classfctn report\n",
    "print(\"support vector machine after rfe feat selctn\")\n",
    "print(\"for train : \\n\")\n",
    "print(\"Classification Report : \\n\",classification_report(y_train,ypred_trn))\n",
    "\n",
    "print(\"for test : \\n\")\n",
    "print(\"Classification Report : \\n\",classification_report(y_test,ypred_tst))\n"
   ]
  },
  {
   "cell_type": "markdown",
   "metadata": {},
   "source": [
    "## SVM :- 67% accuracy after feature selection"
   ]
  },
  {
   "cell_type": "markdown",
   "metadata": {},
   "source": [
    "--------------------------------------------------------------------------------------------------------------------------------------------"
   ]
  },
  {
   "cell_type": "markdown",
   "metadata": {},
   "source": [
    "--------------------------------------------------------------------------------------------------------------------------------------------"
   ]
  },
  {
   "cell_type": "markdown",
   "metadata": {},
   "source": [
    "### Featuer_Selection on SGD model"
   ]
  },
  {
   "cell_type": "code",
   "execution_count": 93,
   "metadata": {
    "scrolled": true
   },
   "outputs": [
    {
     "data": {
      "text/plain": [
       "array([1, 1, 2, 1, 1, 1, 1, 1, 3, 1, 1, 1, 1, 1, 1, 1, 1, 1])"
      ]
     },
     "execution_count": 93,
     "metadata": {},
     "output_type": "execute_result"
    }
   ],
   "source": [
    "#fitting model for rfe using sgd\n",
    "sgd = SGDClassifier(random_state=43)\n",
    "rfe_sgd = RFECV(estimator = sgd)#, step=1, cv=5)\n",
    "rfe_sgd = rfe_sgd.fit(x_train,y_train)\n",
    "rfe_sgd.ranking_\n",
    "#estimator = SVC(kernel=\"linear\")\n",
    "#selector = RFECV(estimator, step=1, cv=5)\n",
    "#selector = selector.fit(X, y)"
   ]
  },
  {
   "cell_type": "code",
   "execution_count": 94,
   "metadata": {},
   "outputs": [
    {
     "data": {
      "text/plain": [
       "<bound method NDFrame.head of 0             rectal temperature\n",
       "1                          pulse\n",
       "3             packed cell volume\n",
       "4                  total protein\n",
       "5                        surgery\n",
       "6                            Age\n",
       "7     temperature of extremities\n",
       "9               mucous membranes\n",
       "10         capillary refill time\n",
       "11                          pain\n",
       "12                   peristalsis\n",
       "13          abdominal distension\n",
       "14              nasogastric tube\n",
       "15            rectal examination\n",
       "16                       abdomen\n",
       "17               surgical lesion\n",
       "Name: Features, dtype: object>"
      ]
     },
     "execution_count": 94,
     "metadata": {},
     "output_type": "execute_result"
    }
   ],
   "source": [
    "#making a df for studying ranks for each model\n",
    "rank['Rank_sgd'] = rfe_sgd.ranking_\n",
    "feat_sgd_rfe = rank[rank['Rank_sgd']==1]['Features']\n",
    "feat_sgd_rfe.head"
   ]
  },
  {
   "cell_type": "code",
   "execution_count": 95,
   "metadata": {},
   "outputs": [
    {
     "name": "stdout",
     "output_type": "stream",
     "text": [
      "no of xtrain feats :  18\n",
      "no of selected xtrain feats after rfe for sto grad descent :  16\n"
     ]
    }
   ],
   "source": [
    "#verifying rfe feat selctn\n",
    "print(\"no of xtrain feats : \",x_train.shape[1])\n",
    "print(\"no of selected xtrain feats after rfe for sto grad descent : \",x_train[feat_sgd_rfe].shape[1])"
   ]
  },
  {
   "cell_type": "code",
   "execution_count": 96,
   "metadata": {},
   "outputs": [],
   "source": [
    "#building model on rfe selected feats for sgd\n",
    "\n",
    "sgd_rfe = SGDClassifier(random_state=43)\n",
    "sgd_rfe.fit(x_train[feat_sgd_rfe],y_train)\n",
    "\n",
    "ypred_trn = sgd_rfe.predict(x_train[feat_sgd_rfe])\n",
    "\n",
    "ypred_tst = sgd_rfe.predict(x_test[feat_sgd_rfe])\n"
   ]
  },
  {
   "cell_type": "code",
   "execution_count": 97,
   "metadata": {},
   "outputs": [
    {
     "name": "stdout",
     "output_type": "stream",
     "text": [
      "stochastic gradient aftre rfe feat selctn\n",
      "for train : \n",
      "\n",
      "Classification Report : \n",
      "               precision    recall  f1-score   support\n",
      "\n",
      "           1       0.86      0.48      0.61       128\n",
      "           2       0.00      0.00      0.00        50\n",
      "           3       0.22      0.97      0.36        32\n",
      "\n",
      "    accuracy                           0.44       210\n",
      "   macro avg       0.36      0.48      0.33       210\n",
      "weighted avg       0.56      0.44      0.43       210\n",
      "\n",
      "for test : \n",
      "\n",
      "Classification Report : \n",
      "               precision    recall  f1-score   support\n",
      "\n",
      "           1       0.83      0.59      0.69        51\n",
      "           2       1.00      0.04      0.07        27\n",
      "           3       0.17      0.75      0.28        12\n",
      "\n",
      "    accuracy                           0.44        90\n",
      "   macro avg       0.67      0.46      0.35        90\n",
      "weighted avg       0.79      0.44      0.45        90\n",
      "\n"
     ]
    }
   ],
   "source": [
    "#check classfctn report\n",
    "print(\"stochastic gradient aftre rfe feat selctn\")\n",
    "print(\"for train : \\n\")\n",
    "print(\"Classification Report : \\n\",classification_report(y_train,ypred_trn))\n",
    "\n",
    "print(\"for test : \\n\")\n",
    "print(\"Classification Report : \\n\",classification_report(y_test,ypred_tst))\n"
   ]
  },
  {
   "cell_type": "markdown",
   "metadata": {},
   "source": [
    "## SGD :- 44% accuracy after feature selection"
   ]
  },
  {
   "cell_type": "markdown",
   "metadata": {},
   "source": [
    "--------------------------------------------------------------------------------------------------------------------------------------------"
   ]
  },
  {
   "cell_type": "markdown",
   "metadata": {},
   "source": [
    "--------------------------------------------------------------------------------------------------------------------------------------------"
   ]
  },
  {
   "cell_type": "markdown",
   "metadata": {},
   "source": [
    "# Conclusion\n",
    "\n",
    "## LOGISTIC :- 66% Accurate before tuning\n",
    "## DECISION TREE :- 59% Accurate before tuning\n",
    "## RANDOM FOREST :- 71% Accurate befoer tuning..\n",
    "## SVM :- 70% Accurate before tuning...\n",
    "## SGD :- 64% Accurate before tuning..\n",
    "## LOGISTIC :- 66% Accurate after tuning\n",
    "## DECISION TREE :- 62% Accurate after tuning\n",
    "## RANDOM FOREST :- 71% Accurate after tuning\n",
    "## SVM :- 69% Accurate after tuning\n",
    "## SGD :- 71% Accurate after tuning\n",
    "## LOGISTIC :- 64% accuracy after feature selection¶\n",
    "## DECISION TREE :- 52% accuracy after feature selection\n",
    "## RANDOM FOREST :- 71% accuracy after feature selection\n",
    "## SVM :- 67% accuracy after feature selection\n",
    "## SGD :- 44% accuracy after feature selection\n",
    "\n",
    "\n",
    "\n",
    "\n",
    "\n",
    "\n",
    "\n",
    "\n",
    "\n",
    "\n"
   ]
  },
  {
   "cell_type": "code",
   "execution_count": null,
   "metadata": {},
   "outputs": [],
   "source": []
  },
  {
   "cell_type": "code",
   "execution_count": 130,
   "metadata": {},
   "outputs": [],
   "source": [
    "##analyze rfe feat selction"
   ]
  },
  {
   "cell_type": "code",
   "execution_count": 98,
   "metadata": {},
   "outputs": [
    {
     "data": {
      "text/html": [
       "<div>\n",
       "<style scoped>\n",
       "    .dataframe tbody tr th:only-of-type {\n",
       "        vertical-align: middle;\n",
       "    }\n",
       "\n",
       "    .dataframe tbody tr th {\n",
       "        vertical-align: top;\n",
       "    }\n",
       "\n",
       "    .dataframe thead th {\n",
       "        text-align: right;\n",
       "    }\n",
       "</style>\n",
       "<table border=\"1\" class=\"dataframe\">\n",
       "  <thead>\n",
       "    <tr style=\"text-align: right;\">\n",
       "      <th></th>\n",
       "      <th>Features</th>\n",
       "      <th>Rank_lr</th>\n",
       "      <th>Rank_dt</th>\n",
       "      <th>Rank_rf</th>\n",
       "      <th>Rank_svc</th>\n",
       "      <th>Rank_sgd</th>\n",
       "    </tr>\n",
       "  </thead>\n",
       "  <tbody>\n",
       "    <tr>\n",
       "      <th>0</th>\n",
       "      <td>rectal temperature</td>\n",
       "      <td>1</td>\n",
       "      <td>1</td>\n",
       "      <td>1</td>\n",
       "      <td>1</td>\n",
       "      <td>1</td>\n",
       "    </tr>\n",
       "    <tr>\n",
       "      <th>1</th>\n",
       "      <td>pulse</td>\n",
       "      <td>1</td>\n",
       "      <td>1</td>\n",
       "      <td>1</td>\n",
       "      <td>1</td>\n",
       "      <td>1</td>\n",
       "    </tr>\n",
       "    <tr>\n",
       "      <th>2</th>\n",
       "      <td>respiratory rate</td>\n",
       "      <td>3</td>\n",
       "      <td>1</td>\n",
       "      <td>1</td>\n",
       "      <td>1</td>\n",
       "      <td>2</td>\n",
       "    </tr>\n",
       "    <tr>\n",
       "      <th>3</th>\n",
       "      <td>packed cell volume</td>\n",
       "      <td>1</td>\n",
       "      <td>1</td>\n",
       "      <td>1</td>\n",
       "      <td>1</td>\n",
       "      <td>1</td>\n",
       "    </tr>\n",
       "    <tr>\n",
       "      <th>4</th>\n",
       "      <td>total protein</td>\n",
       "      <td>1</td>\n",
       "      <td>1</td>\n",
       "      <td>1</td>\n",
       "      <td>1</td>\n",
       "      <td>1</td>\n",
       "    </tr>\n",
       "    <tr>\n",
       "      <th>5</th>\n",
       "      <td>surgery</td>\n",
       "      <td>1</td>\n",
       "      <td>2</td>\n",
       "      <td>1</td>\n",
       "      <td>1</td>\n",
       "      <td>1</td>\n",
       "    </tr>\n",
       "    <tr>\n",
       "      <th>6</th>\n",
       "      <td>Age</td>\n",
       "      <td>2</td>\n",
       "      <td>7</td>\n",
       "      <td>1</td>\n",
       "      <td>2</td>\n",
       "      <td>1</td>\n",
       "    </tr>\n",
       "    <tr>\n",
       "      <th>7</th>\n",
       "      <td>temperature of extremities</td>\n",
       "      <td>1</td>\n",
       "      <td>1</td>\n",
       "      <td>1</td>\n",
       "      <td>1</td>\n",
       "      <td>1</td>\n",
       "    </tr>\n",
       "    <tr>\n",
       "      <th>8</th>\n",
       "      <td>peripheral pulse</td>\n",
       "      <td>8</td>\n",
       "      <td>9</td>\n",
       "      <td>1</td>\n",
       "      <td>3</td>\n",
       "      <td>3</td>\n",
       "    </tr>\n",
       "    <tr>\n",
       "      <th>9</th>\n",
       "      <td>mucous membranes</td>\n",
       "      <td>6</td>\n",
       "      <td>1</td>\n",
       "      <td>1</td>\n",
       "      <td>5</td>\n",
       "      <td>1</td>\n",
       "    </tr>\n",
       "    <tr>\n",
       "      <th>10</th>\n",
       "      <td>capillary refill time</td>\n",
       "      <td>1</td>\n",
       "      <td>4</td>\n",
       "      <td>1</td>\n",
       "      <td>1</td>\n",
       "      <td>1</td>\n",
       "    </tr>\n",
       "    <tr>\n",
       "      <th>11</th>\n",
       "      <td>pain</td>\n",
       "      <td>1</td>\n",
       "      <td>5</td>\n",
       "      <td>1</td>\n",
       "      <td>1</td>\n",
       "      <td>1</td>\n",
       "    </tr>\n",
       "    <tr>\n",
       "      <th>12</th>\n",
       "      <td>peristalsis</td>\n",
       "      <td>4</td>\n",
       "      <td>8</td>\n",
       "      <td>1</td>\n",
       "      <td>4</td>\n",
       "      <td>1</td>\n",
       "    </tr>\n",
       "    <tr>\n",
       "      <th>13</th>\n",
       "      <td>abdominal distension</td>\n",
       "      <td>5</td>\n",
       "      <td>1</td>\n",
       "      <td>1</td>\n",
       "      <td>1</td>\n",
       "      <td>1</td>\n",
       "    </tr>\n",
       "    <tr>\n",
       "      <th>14</th>\n",
       "      <td>nasogastric tube</td>\n",
       "      <td>1</td>\n",
       "      <td>1</td>\n",
       "      <td>1</td>\n",
       "      <td>1</td>\n",
       "      <td>1</td>\n",
       "    </tr>\n",
       "    <tr>\n",
       "      <th>15</th>\n",
       "      <td>rectal examination</td>\n",
       "      <td>1</td>\n",
       "      <td>1</td>\n",
       "      <td>1</td>\n",
       "      <td>1</td>\n",
       "      <td>1</td>\n",
       "    </tr>\n",
       "    <tr>\n",
       "      <th>16</th>\n",
       "      <td>abdomen</td>\n",
       "      <td>7</td>\n",
       "      <td>6</td>\n",
       "      <td>1</td>\n",
       "      <td>6</td>\n",
       "      <td>1</td>\n",
       "    </tr>\n",
       "    <tr>\n",
       "      <th>17</th>\n",
       "      <td>surgical lesion</td>\n",
       "      <td>1</td>\n",
       "      <td>3</td>\n",
       "      <td>1</td>\n",
       "      <td>1</td>\n",
       "      <td>1</td>\n",
       "    </tr>\n",
       "  </tbody>\n",
       "</table>\n",
       "</div>"
      ],
      "text/plain": [
       "                      Features  Rank_lr  Rank_dt  Rank_rf  Rank_svc  Rank_sgd\n",
       "0           rectal temperature        1        1        1         1         1\n",
       "1                        pulse        1        1        1         1         1\n",
       "2             respiratory rate        3        1        1         1         2\n",
       "3           packed cell volume        1        1        1         1         1\n",
       "4                total protein        1        1        1         1         1\n",
       "5                      surgery        1        2        1         1         1\n",
       "6                          Age        2        7        1         2         1\n",
       "7   temperature of extremities        1        1        1         1         1\n",
       "8             peripheral pulse        8        9        1         3         3\n",
       "9             mucous membranes        6        1        1         5         1\n",
       "10       capillary refill time        1        4        1         1         1\n",
       "11                        pain        1        5        1         1         1\n",
       "12                 peristalsis        4        8        1         4         1\n",
       "13        abdominal distension        5        1        1         1         1\n",
       "14            nasogastric tube        1        1        1         1         1\n",
       "15          rectal examination        1        1        1         1         1\n",
       "16                     abdomen        7        6        1         6         1\n",
       "17             surgical lesion        1        3        1         1         1"
      ]
     },
     "execution_count": 98,
     "metadata": {},
     "output_type": "execute_result"
    }
   ],
   "source": [
    "#checking rank\n",
    "rank"
   ]
  },
  {
   "cell_type": "code",
   "execution_count": 153,
   "metadata": {
    "scrolled": true
   },
   "outputs": [
    {
     "data": {
      "text/html": [
       "<div>\n",
       "<style scoped>\n",
       "    .dataframe tbody tr th:only-of-type {\n",
       "        vertical-align: middle;\n",
       "    }\n",
       "\n",
       "    .dataframe tbody tr th {\n",
       "        vertical-align: top;\n",
       "    }\n",
       "\n",
       "    .dataframe thead th {\n",
       "        text-align: right;\n",
       "    }\n",
       "</style>\n",
       "<table border=\"1\" class=\"dataframe\">\n",
       "  <thead>\n",
       "    <tr style=\"text-align: right;\">\n",
       "      <th></th>\n",
       "      <th>rank_rf_18</th>\n",
       "      <th>rank_dt_10</th>\n",
       "      <th>rank_lr_11</th>\n",
       "      <th>rank_svc_13</th>\n",
       "      <th>rank_sgd_16</th>\n",
       "    </tr>\n",
       "  </thead>\n",
       "  <tbody>\n",
       "    <tr>\n",
       "      <th>0</th>\n",
       "      <td>rectal temperature</td>\n",
       "      <td>rectal temperature</td>\n",
       "      <td>rectal temperature</td>\n",
       "      <td>rectal temperature</td>\n",
       "      <td>rectal temperature</td>\n",
       "    </tr>\n",
       "    <tr>\n",
       "      <th>1</th>\n",
       "      <td>pulse</td>\n",
       "      <td>pulse</td>\n",
       "      <td>pulse</td>\n",
       "      <td>pulse</td>\n",
       "      <td>pulse</td>\n",
       "    </tr>\n",
       "    <tr>\n",
       "      <th>2</th>\n",
       "      <td>respiratory rate</td>\n",
       "      <td>respiratory rate</td>\n",
       "      <td>NaN</td>\n",
       "      <td>respiratory rate</td>\n",
       "      <td>NaN</td>\n",
       "    </tr>\n",
       "    <tr>\n",
       "      <th>3</th>\n",
       "      <td>packed cell volume</td>\n",
       "      <td>packed cell volume</td>\n",
       "      <td>packed cell volume</td>\n",
       "      <td>packed cell volume</td>\n",
       "      <td>packed cell volume</td>\n",
       "    </tr>\n",
       "    <tr>\n",
       "      <th>4</th>\n",
       "      <td>total protein</td>\n",
       "      <td>total protein</td>\n",
       "      <td>total protein</td>\n",
       "      <td>total protein</td>\n",
       "      <td>total protein</td>\n",
       "    </tr>\n",
       "    <tr>\n",
       "      <th>5</th>\n",
       "      <td>surgery</td>\n",
       "      <td>NaN</td>\n",
       "      <td>surgery</td>\n",
       "      <td>surgery</td>\n",
       "      <td>surgery</td>\n",
       "    </tr>\n",
       "    <tr>\n",
       "      <th>6</th>\n",
       "      <td>Age</td>\n",
       "      <td>NaN</td>\n",
       "      <td>NaN</td>\n",
       "      <td>NaN</td>\n",
       "      <td>Age</td>\n",
       "    </tr>\n",
       "    <tr>\n",
       "      <th>7</th>\n",
       "      <td>temperature of extremities</td>\n",
       "      <td>temperature of extremities</td>\n",
       "      <td>temperature of extremities</td>\n",
       "      <td>temperature of extremities</td>\n",
       "      <td>temperature of extremities</td>\n",
       "    </tr>\n",
       "    <tr>\n",
       "      <th>8</th>\n",
       "      <td>peripheral pulse</td>\n",
       "      <td>NaN</td>\n",
       "      <td>NaN</td>\n",
       "      <td>NaN</td>\n",
       "      <td>NaN</td>\n",
       "    </tr>\n",
       "    <tr>\n",
       "      <th>9</th>\n",
       "      <td>mucous membranes</td>\n",
       "      <td>mucous membranes</td>\n",
       "      <td>NaN</td>\n",
       "      <td>NaN</td>\n",
       "      <td>mucous membranes</td>\n",
       "    </tr>\n",
       "    <tr>\n",
       "      <th>10</th>\n",
       "      <td>capillary refill time</td>\n",
       "      <td>NaN</td>\n",
       "      <td>capillary refill time</td>\n",
       "      <td>capillary refill time</td>\n",
       "      <td>capillary refill time</td>\n",
       "    </tr>\n",
       "    <tr>\n",
       "      <th>11</th>\n",
       "      <td>pain</td>\n",
       "      <td>NaN</td>\n",
       "      <td>pain</td>\n",
       "      <td>pain</td>\n",
       "      <td>pain</td>\n",
       "    </tr>\n",
       "    <tr>\n",
       "      <th>12</th>\n",
       "      <td>peristalsis</td>\n",
       "      <td>NaN</td>\n",
       "      <td>NaN</td>\n",
       "      <td>NaN</td>\n",
       "      <td>peristalsis</td>\n",
       "    </tr>\n",
       "    <tr>\n",
       "      <th>13</th>\n",
       "      <td>abdominal distension</td>\n",
       "      <td>abdominal distension</td>\n",
       "      <td>NaN</td>\n",
       "      <td>abdominal distension</td>\n",
       "      <td>abdominal distension</td>\n",
       "    </tr>\n",
       "    <tr>\n",
       "      <th>14</th>\n",
       "      <td>nasogastric tube</td>\n",
       "      <td>nasogastric tube</td>\n",
       "      <td>nasogastric tube</td>\n",
       "      <td>nasogastric tube</td>\n",
       "      <td>nasogastric tube</td>\n",
       "    </tr>\n",
       "    <tr>\n",
       "      <th>15</th>\n",
       "      <td>rectal examination</td>\n",
       "      <td>rectal examination</td>\n",
       "      <td>rectal examination</td>\n",
       "      <td>rectal examination</td>\n",
       "      <td>rectal examination</td>\n",
       "    </tr>\n",
       "    <tr>\n",
       "      <th>16</th>\n",
       "      <td>abdomen</td>\n",
       "      <td>NaN</td>\n",
       "      <td>NaN</td>\n",
       "      <td>NaN</td>\n",
       "      <td>abdomen</td>\n",
       "    </tr>\n",
       "    <tr>\n",
       "      <th>17</th>\n",
       "      <td>surgical lesion</td>\n",
       "      <td>NaN</td>\n",
       "      <td>surgical lesion</td>\n",
       "      <td>surgical lesion</td>\n",
       "      <td>surgical lesion</td>\n",
       "    </tr>\n",
       "  </tbody>\n",
       "</table>\n",
       "</div>"
      ],
      "text/plain": [
       "                    rank_rf_18                  rank_dt_10  \\\n",
       "0           rectal temperature          rectal temperature   \n",
       "1                        pulse                       pulse   \n",
       "2             respiratory rate            respiratory rate   \n",
       "3           packed cell volume          packed cell volume   \n",
       "4                total protein               total protein   \n",
       "5                      surgery                         NaN   \n",
       "6                          Age                         NaN   \n",
       "7   temperature of extremities  temperature of extremities   \n",
       "8             peripheral pulse                         NaN   \n",
       "9             mucous membranes            mucous membranes   \n",
       "10       capillary refill time                         NaN   \n",
       "11                        pain                         NaN   \n",
       "12                 peristalsis                         NaN   \n",
       "13        abdominal distension        abdominal distension   \n",
       "14            nasogastric tube            nasogastric tube   \n",
       "15          rectal examination          rectal examination   \n",
       "16                     abdomen                         NaN   \n",
       "17             surgical lesion                         NaN   \n",
       "\n",
       "                    rank_lr_11                 rank_svc_13  \\\n",
       "0           rectal temperature          rectal temperature   \n",
       "1                        pulse                       pulse   \n",
       "2                          NaN            respiratory rate   \n",
       "3           packed cell volume          packed cell volume   \n",
       "4                total protein               total protein   \n",
       "5                      surgery                     surgery   \n",
       "6                          NaN                         NaN   \n",
       "7   temperature of extremities  temperature of extremities   \n",
       "8                          NaN                         NaN   \n",
       "9                          NaN                         NaN   \n",
       "10       capillary refill time       capillary refill time   \n",
       "11                        pain                        pain   \n",
       "12                         NaN                         NaN   \n",
       "13                         NaN        abdominal distension   \n",
       "14            nasogastric tube            nasogastric tube   \n",
       "15          rectal examination          rectal examination   \n",
       "16                         NaN                         NaN   \n",
       "17             surgical lesion             surgical lesion   \n",
       "\n",
       "                   rank_sgd_16  \n",
       "0           rectal temperature  \n",
       "1                        pulse  \n",
       "2                          NaN  \n",
       "3           packed cell volume  \n",
       "4                total protein  \n",
       "5                      surgery  \n",
       "6                          Age  \n",
       "7   temperature of extremities  \n",
       "8                          NaN  \n",
       "9             mucous membranes  \n",
       "10       capillary refill time  \n",
       "11                        pain  \n",
       "12                 peristalsis  \n",
       "13        abdominal distension  \n",
       "14            nasogastric tube  \n",
       "15          rectal examination  \n",
       "16                     abdomen  \n",
       "17             surgical lesion  "
      ]
     },
     "execution_count": 153,
     "metadata": {},
     "output_type": "execute_result"
    }
   ],
   "source": [
    "#to view rankwise\n",
    "rank_feats =pd.DataFrame()\n",
    "rank_feats['rank_rf_18']=feat_rf_rfe\n",
    "rank_feats['rank_dt_10']=feat_dt_rfe\n",
    "rank_feats['rank_lr_11']=feat_lr_rfe\n",
    "rank_feats['rank_svc_13']=feat_svc_rfe\n",
    "rank_feats['rank_sgd_16']=feat_sgd_rfe\n",
    "rank_feats"
   ]
  },
  {
   "cell_type": "code",
   "execution_count": 147,
   "metadata": {},
   "outputs": [
    {
     "data": {
      "image/png": "[encoded data removed]",
      "text/plain": [
       "<Figure size 1800x1080 with 1 Axes>"
      ]
     },
     "metadata": {
      "needs_background": "light"
     },
     "output_type": "display_data"
    }
   ],
   "source": [
    "df_acc= pd.DataFrame()\n",
    "df_acc['Algorithm'] = ['on preprocessed data', 'on preprocessed data','on preprocessed data','on preprocessed data','on preprocessed data',\n",
    "                   'after Gridsearch','after Gridsearch', 'after Gridsearch','after Gridsearch','after Gridsearch',\n",
    "                   'after Gridsearch RFE', 'after Gridsearch RFE', 'after Gridsearch RFE','after Gridsearch RFE','after Gridsearch RFE']\n",
    "    \n",
    "df_acc['Model']=['Log Reg', 'DT', 'RF', 'SVM','SGD',\n",
    "                     'LR Grid','DT Grid', 'RF Grid', 'SVM Grid','SGD Grid',\n",
    "                     'LR FS','DT FS', 'RF FS', 'SVM FS','SGD FS']\n",
    "\n",
    "df_acc['Acc_train']=[73, 100, 100,72,71,\n",
    "                 73,69,100,76,73,\n",
    "                 74,99,100,71,44]\n",
    "\n",
    "df_acc['Acc_test']=[66, 59, 71,70,64,\n",
    "                66,62,71,69,71,\n",
    "                64,52,71,67,44]\n",
    "\n",
    "fig = plt.subplots(figsize=(25,15))\n",
    "fig= plt.plot(df_acc['Model'].tolist(), df_acc['Acc_train'].tolist(), label = 'Train accuracy', marker='o',markersize=12, linewidth=3)\n",
    "fig = plt.plot(df_acc['Model'].tolist(), df_acc['Acc_test'].tolist(),  label = 'Test accuracy', marker='*',markersize=18, linewidth=5)\n",
    "\n",
    "plt.xlabel('Model',fontsize=35)\n",
    "plt.ylabel('Accuracy',fontsize=35)\n",
    "plt.legend(loc='best',fontsize=20)\n",
    "plt.xticks(rotation = 90,fontsize=25)\n",
    "plt.yticks(np.arange(40, 100, step=4),fontsize=30)\n",
    "plt.title('Various Model Accuracy Results after preprocessing, gridsearch and feature selection',fontsize=30)\n",
    "plt.show()"
   ]
  },
  {
   "cell_type": "code",
   "execution_count": 148,
   "metadata": {},
   "outputs": [
    {
     "data": {
      "text/html": [
       "<div>\n",
       "<style scoped>\n",
       "    .dataframe tbody tr th:only-of-type {\n",
       "        vertical-align: middle;\n",
       "    }\n",
       "\n",
       "    .dataframe tbody tr th {\n",
       "        vertical-align: top;\n",
       "    }\n",
       "\n",
       "    .dataframe thead th {\n",
       "        text-align: right;\n",
       "    }\n",
       "</style>\n",
       "<table border=\"1\" class=\"dataframe\">\n",
       "  <thead>\n",
       "    <tr style=\"text-align: right;\">\n",
       "      <th></th>\n",
       "      <th>Algorithm</th>\n",
       "      <th>Model</th>\n",
       "      <th>Acc_train</th>\n",
       "      <th>Acc_test</th>\n",
       "    </tr>\n",
       "  </thead>\n",
       "  <tbody>\n",
       "    <tr>\n",
       "      <th>0</th>\n",
       "      <td>on preprocessed data</td>\n",
       "      <td>Log Reg</td>\n",
       "      <td>73</td>\n",
       "      <td>66</td>\n",
       "    </tr>\n",
       "    <tr>\n",
       "      <th>1</th>\n",
       "      <td>on preprocessed data</td>\n",
       "      <td>DT</td>\n",
       "      <td>100</td>\n",
       "      <td>59</td>\n",
       "    </tr>\n",
       "    <tr>\n",
       "      <th>2</th>\n",
       "      <td>on preprocessed data</td>\n",
       "      <td>RF</td>\n",
       "      <td>100</td>\n",
       "      <td>71</td>\n",
       "    </tr>\n",
       "    <tr>\n",
       "      <th>3</th>\n",
       "      <td>on preprocessed data</td>\n",
       "      <td>SVM</td>\n",
       "      <td>72</td>\n",
       "      <td>70</td>\n",
       "    </tr>\n",
       "    <tr>\n",
       "      <th>4</th>\n",
       "      <td>on preprocessed data</td>\n",
       "      <td>SGD</td>\n",
       "      <td>71</td>\n",
       "      <td>64</td>\n",
       "    </tr>\n",
       "    <tr>\n",
       "      <th>5</th>\n",
       "      <td>after Gridsearch</td>\n",
       "      <td>LR Grid</td>\n",
       "      <td>73</td>\n",
       "      <td>66</td>\n",
       "    </tr>\n",
       "    <tr>\n",
       "      <th>6</th>\n",
       "      <td>after Gridsearch</td>\n",
       "      <td>DT Grid</td>\n",
       "      <td>69</td>\n",
       "      <td>62</td>\n",
       "    </tr>\n",
       "    <tr>\n",
       "      <th>7</th>\n",
       "      <td>after Gridsearch</td>\n",
       "      <td>RF Grid</td>\n",
       "      <td>100</td>\n",
       "      <td>71</td>\n",
       "    </tr>\n",
       "    <tr>\n",
       "      <th>8</th>\n",
       "      <td>after Gridsearch</td>\n",
       "      <td>SVM Grid</td>\n",
       "      <td>76</td>\n",
       "      <td>69</td>\n",
       "    </tr>\n",
       "    <tr>\n",
       "      <th>9</th>\n",
       "      <td>after Gridsearch</td>\n",
       "      <td>SGD Grid</td>\n",
       "      <td>73</td>\n",
       "      <td>71</td>\n",
       "    </tr>\n",
       "    <tr>\n",
       "      <th>10</th>\n",
       "      <td>after Gridsearch RFE</td>\n",
       "      <td>LR FS</td>\n",
       "      <td>74</td>\n",
       "      <td>64</td>\n",
       "    </tr>\n",
       "    <tr>\n",
       "      <th>11</th>\n",
       "      <td>after Gridsearch RFE</td>\n",
       "      <td>DT FS</td>\n",
       "      <td>99</td>\n",
       "      <td>52</td>\n",
       "    </tr>\n",
       "    <tr>\n",
       "      <th>12</th>\n",
       "      <td>after Gridsearch RFE</td>\n",
       "      <td>RF FS</td>\n",
       "      <td>100</td>\n",
       "      <td>71</td>\n",
       "    </tr>\n",
       "    <tr>\n",
       "      <th>13</th>\n",
       "      <td>after Gridsearch RFE</td>\n",
       "      <td>SVM FS</td>\n",
       "      <td>71</td>\n",
       "      <td>67</td>\n",
       "    </tr>\n",
       "    <tr>\n",
       "      <th>14</th>\n",
       "      <td>after Gridsearch RFE</td>\n",
       "      <td>SGD FS</td>\n",
       "      <td>44</td>\n",
       "      <td>44</td>\n",
       "    </tr>\n",
       "  </tbody>\n",
       "</table>\n",
       "</div>"
      ],
      "text/plain": [
       "               Algorithm     Model  Acc_train  Acc_test\n",
       "0   on preprocessed data   Log Reg         73        66\n",
       "1   on preprocessed data        DT        100        59\n",
       "2   on preprocessed data        RF        100        71\n",
       "3   on preprocessed data       SVM         72        70\n",
       "4   on preprocessed data       SGD         71        64\n",
       "5       after Gridsearch   LR Grid         73        66\n",
       "6       after Gridsearch   DT Grid         69        62\n",
       "7       after Gridsearch   RF Grid        100        71\n",
       "8       after Gridsearch  SVM Grid         76        69\n",
       "9       after Gridsearch  SGD Grid         73        71\n",
       "10  after Gridsearch RFE     LR FS         74        64\n",
       "11  after Gridsearch RFE     DT FS         99        52\n",
       "12  after Gridsearch RFE     RF FS        100        71\n",
       "13  after Gridsearch RFE    SVM FS         71        67\n",
       "14  after Gridsearch RFE    SGD FS         44        44"
      ]
     },
     "execution_count": 148,
     "metadata": {},
     "output_type": "execute_result"
    }
   ],
   "source": [
    "#accuracy results for train and test\n",
    "df_acc"
   ]
  },
  {
   "cell_type": "code",
   "execution_count": null,
   "metadata": {},
   "outputs": [],
   "source": []
  }
 ],
 "metadata": {
  "kernelspec": {
   "display_name": "Python 3 (ipykernel)",
   "language": "python",
   "name": "python3"
  },
  "language_info": {
   "codemirror_mode": {
    "name": "ipython",
    "version": 3
   },
   "file_extension": ".py",
   "mimetype": "text/x-python",
   "name": "python",
   "nbconvert_exporter": "python",
   "pygments_lexer": "ipython3",
   "version": "3.9.7"
  }
 },
 "nbformat": 4,
 "nbformat_minor": 4
}
